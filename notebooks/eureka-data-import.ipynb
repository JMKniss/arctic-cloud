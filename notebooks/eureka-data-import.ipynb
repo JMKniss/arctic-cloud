{
 "cells": [
  {
   "cell_type": "markdown",
   "id": "efaef8d0-adeb-420f-9d7a-b3f43daae64f",
   "metadata": {},
   "source": [
    "# Import data and save to csv\n",
    "\n",
    "## Jason Kniss\n",
    "### Feb 14 2024\n",
    "\n",
    "This script is intended to save computation time while editing by saving pertinent data into a csv rather than reload and organize the data with every run."
   ]
  },
  {
   "cell_type": "markdown",
   "id": "cba5d658-5b34-4780-8a51-82b89e8f742d",
   "metadata": {},
   "source": [
    "### Import Libraries"
   ]
  },
  {
   "cell_type": "code",
   "execution_count": 1,
   "id": "a2ca24ce-112e-4661-bda3-c931de2f0923",
   "metadata": {},
   "outputs": [],
   "source": [
    "import pandas as pd\n",
    "import os\n",
    "from datetime import datetime, timedelta\n",
    "import numpy as np\n",
    "# import matplotlib.pyplot as plt\n",
    "# import matplotlib.dates as mdates\n",
    "# from IPython.display import HTML\n",
    "from pandasgui import show"
   ]
  },
  {
   "cell_type": "code",
   "execution_count": 2,
   "id": "4a99061e-1cec-4521-9440-2d27fdf02427",
   "metadata": {},
   "outputs": [],
   "source": [
    "import warnings\n",
    "warnings.filterwarnings('ignore', category=FutureWarning)"
   ]
  },
  {
   "cell_type": "markdown",
   "id": "54b8a1a0-4241-402e-a7d2-2766ee377716",
   "metadata": {},
   "source": [
    "## Import and organize data"
   ]
  },
  {
   "cell_type": "markdown",
   "id": "b0edd473-589e-4e07-99d3-8a87d5e466f3",
   "metadata": {},
   "source": [
    "### Set path to data folders\n",
    "\n",
    "separate folders are used because each data source will be treated separately. This is to simplify identification and concatenation."
   ]
  },
  {
   "cell_type": "code",
   "execution_count": 3,
   "id": "ee8823e1-0380-46fa-b64b-2f0e732d75e5",
   "metadata": {},
   "outputs": [],
   "source": [
    "towermet_path = 'data/eureka-data/tower-met'\n",
    "towerrad_path = 'data/eureka-data/tower-rad'\n",
    "bsrnrad_path = 'data/eureka-data/bsrn-rad'"
   ]
  },
  {
   "cell_type": "markdown",
   "id": "d1d2678e-f4eb-472a-981d-2a2149567d6b",
   "metadata": {},
   "source": [
    "### Crerate lists of dataframes\n",
    "\n",
    "Loops will generate a list of dataframes from text files added to specified folders."
   ]
  },
  {
   "cell_type": "code",
   "execution_count": 4,
   "id": "e97c0595-400d-4810-a728-1ac209d0da2c",
   "metadata": {},
   "outputs": [],
   "source": [
    "towermet_dfs = []  # List to store Tower Meteroological dataframes\n",
    "towerrad_dfs = []  # List to store Tower Radiation dataframes\n",
    "bsrnrad_dfs = [] # List to store BSRN radiation dataframes"
   ]
  },
  {
   "cell_type": "markdown",
   "id": "f565a54a-51ab-4493-8cab-297e83fd7d1d",
   "metadata": {},
   "source": [
    "### Tower meteorological data"
   ]
  },
  {
   "cell_type": "code",
   "execution_count": 5,
   "id": "89097551-795f-4894-9745-c1b1d0f54094",
   "metadata": {},
   "outputs": [],
   "source": [
    "for filename in os.listdir(towermet_path):\n",
    "    if filename.endswith(\".txt\"):  # Only consider .txt files\n",
    "        file_path = os.path.join(towermet_path, filename)\n",
    "        with open(file_path, \"r\") as f:\n",
    "            lines = f.readlines()\n",
    "\n",
    "        header = lines[0].strip().split()\n",
    "        data_rows = [line.strip().split(\"\\t\") for line in lines[1:]]\n",
    "\n",
    "        df = pd.DataFrame(data_rows, columns=header)\n",
    "        # Rename the dataframe when more data is imported\n",
    "\n",
    "        df = df.astype('float')\n",
    "\n",
    "        # Fix midnight HourMin\n",
    "        condition = df['HourMin'] == 2400\n",
    "        df.loc[condition, 'JulianDay'] += 1\n",
    "        df.loc[condition, 'HourMin'] = 0000\n",
    "\n",
    "        df.replace([-999, -9999], np.nan, inplace=True)\n",
    "        \n",
    "        towermet_dfs.append(df)"
   ]
  },
  {
   "cell_type": "markdown",
   "id": "c542b375-f1a3-43a8-9c44-4243bf2b3f90",
   "metadata": {},
   "source": [
    "### Tower radiation data"
   ]
  },
  {
   "cell_type": "code",
   "execution_count": 6,
   "id": "90fed0e2-f71f-46dd-80d7-416a2e088077",
   "metadata": {},
   "outputs": [],
   "source": [
    "for filename in os.listdir(towerrad_path):\n",
    "    if filename.endswith(\".txt\"):  # Only consider .txt files\n",
    "        file_path = os.path.join(towerrad_path, filename)\n",
    "        with open(file_path, \"r\") as f:\n",
    "            lines = f.readlines()\n",
    "\n",
    "        header = lines[0].strip().split()\n",
    "        data_rows = [line.strip().split(\"\\t\") for line in lines[1:]]\n",
    "\n",
    "        df = pd.DataFrame(data_rows, columns=header)\n",
    "        # Rename the dataframe when more data is imported\n",
    "\n",
    "        df = df.astype('float')\n",
    "        \n",
    "        condition = df['HourMin'] == 2400\n",
    "        df.loc[condition, 'JulianDay'] += 1\n",
    "        df.loc[condition, 'HourMin'] = 0000\n",
    "\n",
    "        df.replace([-999, -9999], np.nan, inplace=True)\n",
    "        \n",
    "        #df = df[df['HourMin'] != 2400] # Filter out invalid HourMin values \n",
    "        towerrad_dfs.append(df)"
   ]
  },
  {
   "cell_type": "markdown",
   "id": "51caf01a-c3d1-4663-8775-be820977194c",
   "metadata": {},
   "source": [
    "### BSRN radiation data\n",
    "This is redundant of tower radiation data and only serves as a comparison to tower measurements"
   ]
  },
  {
   "cell_type": "code",
   "execution_count": 7,
   "id": "91d26d57-1efc-4b5c-85c3-58d94d026030",
   "metadata": {},
   "outputs": [],
   "source": [
    "for filename in os.listdir(bsrnrad_path):\n",
    "    if filename.endswith(\".txt\"):  # Only consider .txt files\n",
    "        file_path = os.path.join(bsrnrad_path, filename)\n",
    "        with open(file_path, \"r\") as f:\n",
    "            lines = f.readlines()\n",
    "\n",
    "        header = lines[0].strip().split()\n",
    "        data_rows = [line.strip().split(\"\\t\") for line in lines[1:]]\n",
    "\n",
    "        df = pd.DataFrame(data_rows, columns=header)\n",
    "        # Rename the dataframe when more data is imported\n",
    "\n",
    "        df = df.astype('float')\n",
    "        \n",
    "        condition = df['HourMin'] == 2400\n",
    "        df.loc[condition, 'JulianDay'] += 1\n",
    "        df.loc[condition, 'HourMin'] = 0000\n",
    "\n",
    "        df.replace([-999, -9999], np.nan, inplace=True)\n",
    "        \n",
    "        #df = df[df['HourMin'] != 2400] # Filter out invalid HourMin values \n",
    "        bsrnrad_dfs.append(df)"
   ]
  },
  {
   "cell_type": "markdown",
   "id": "1112601d-abf8-404e-ba19-4a301c3fa384",
   "metadata": {},
   "source": [
    "## Sort and concatenate lists of dataframes\n",
    "\n",
    "Done separately to simplify concatenation in the next step\n",
    "### Create datetime columns\n",
    "### Tower meteorological dataframes"
   ]
  },
  {
   "cell_type": "code",
   "execution_count": 8,
   "id": "046a590b-ce6f-4e81-a026-c472fc5bc433",
   "metadata": {},
   "outputs": [],
   "source": [
    "# Create a Datetime column \n",
    "for df in towermet_dfs:\n",
    "    def julian_to_date(julian_day, base_year=(df['Year'].iloc[0]).astype('int')):\n",
    "        base_date = datetime(base_year, 1, 1)\n",
    "        target_date = base_date + timedelta(days=julian_day - 1)\n",
    "        return target_date.strftime('%Y-%m-%d')\n",
    "\n",
    "    def hourmin_to_time(hourmin):\n",
    "        hours = int(hourmin // 100)\n",
    "        minutes = int(hourmin % 100)\n",
    "        return f'{hours:02}:{minutes:02}:00'\n",
    "\n",
    "    # Convert Julian Day to date\n",
    "    df['Date'] = df['JulianDay'].apply(julian_to_date)\n",
    "\n",
    "    # Convert HourMin to time   \n",
    "    df['Time'] = df['HourMin'].apply(hourmin_to_time)\n",
    "\n",
    "    # Combine date and time into a single datetime column\n",
    "    df['Datetime'] = pd.to_datetime(df['Date'] + ' ' + df['Time'])\n",
    "\n",
    "    # Drop intermediate columns\n",
    "    df.drop(columns=['Date', 'Time'], inplace=True)\n",
    "    \n"
   ]
  },
  {
   "cell_type": "markdown",
   "id": "b0a15478-1c3c-4b54-86a1-60a9c1bc2cba",
   "metadata": {},
   "source": [
    "### Tower radiation dataframes"
   ]
  },
  {
   "cell_type": "code",
   "execution_count": 9,
   "id": "13692120-5167-4e7d-8d99-88e1cf897c28",
   "metadata": {},
   "outputs": [],
   "source": [
    "for df in towerrad_dfs:\n",
    "      def julian_to_date(julian_day, base_year=(df['Year'].iloc[0]).astype('int')):\n",
    "          base_date = datetime(base_year, 1, 1)\n",
    "          target_date = base_date + timedelta(days=julian_day - 1)\n",
    "          return target_date.strftime('%Y-%m-%d')\n",
    "\n",
    "      def hourmin_to_time(hourmin):\n",
    "          hours = int(hourmin // 100)\n",
    "          minutes = int(hourmin % 100)\n",
    "          return f'{hours:02}:{minutes:02}:00'\n",
    "\n",
    "      # Convert Julian Day to date\n",
    "      df['Date'] = df['JulianDay'].apply(julian_to_date)\n",
    "\n",
    "      # Convert HourMin to time   \n",
    "      df['Time'] = df['HourMin'].apply(hourmin_to_time)\n",
    "\n",
    "      # Combine date and time into a single datetime column\n",
    "      df['Datetime'] = pd.to_datetime(df['Date'] + ' ' + df['Time'])\n",
    "\n",
    "      # Drop intermediate columns\n",
    "      df.drop(columns=['Date', 'Time'], inplace=True)\n",
    "      \n",
    "      # Set 'Datetime' column as the index\n",
    " #     df.set_index('Datetime', inplace=True)"
   ]
  },
  {
   "cell_type": "markdown",
   "id": "50b1dc5f-e154-482e-b4da-eb9da89652e3",
   "metadata": {},
   "source": [
    "### BSRN radiation dataframes"
   ]
  },
  {
   "cell_type": "code",
   "execution_count": 10,
   "id": "f69a7d08-b0bc-4014-b3eb-5f64457a0c34",
   "metadata": {},
   "outputs": [],
   "source": [
    "for df in bsrnrad_dfs:\n",
    "    def julian_to_date(julian_day, base_year=(df['Year'].iloc[0]).astype('int')):\n",
    "        base_date = datetime(base_year, 1, 1)\n",
    "        target_date = base_date + timedelta(days=julian_day - 1)\n",
    "        return target_date.strftime('%Y-%m-%d')\n",
    "\n",
    "    def hourmin_to_time(hourmin):\n",
    "        hours = int(hourmin // 100)\n",
    "        minutes = int(hourmin % 100)\n",
    "        return f'{hours:02}:{minutes:02}:00'\n",
    "\n",
    "    # Convert Julian Day to date\n",
    "    df['Date'] = df['JulianDay'].apply(julian_to_date)\n",
    "\n",
    "    # Convert HourMin to time   \n",
    "    df['Time'] = df['HourMin'].apply(hourmin_to_time)\n",
    "\n",
    "    # Combine date and time into a single datetime column\n",
    "    df['Datetime'] = pd.to_datetime(df['Date'] + ' ' + df['Time'])\n",
    "\n",
    "    # Drop intermediate columns\n",
    "    df.drop(columns=['Date', 'Time'], inplace=True)"
   ]
  },
  {
   "cell_type": "markdown",
   "id": "7d0f1803-27b6-4fc3-adae-b38fa74032fb",
   "metadata": {},
   "source": [
    "### Concatenate lists of dataframes into dataframes and reindex by datetime"
   ]
  },
  {
   "cell_type": "code",
   "execution_count": 11,
   "id": "5fc44fde-6f1f-4a6f-8da2-22c54e0506f1",
   "metadata": {},
   "outputs": [],
   "source": [
    "# Concatenate vertically\n",
    "towermet_df = pd.concat(towermet_dfs, ignore_index=True)\n",
    "towerrad_df = pd.concat(towerrad_dfs, ignore_index=True)\n",
    "bsrnrad_df = pd.concat(bsrnrad_dfs, ignore_index=True)"
   ]
  },
  {
   "cell_type": "code",
   "execution_count": 12,
   "id": "efda1282-4863-4d95-a2bb-4ed54ade0994",
   "metadata": {},
   "outputs": [],
   "source": [
    "# Sort by datetime column\n",
    "towermet_df.sort_values(by='Datetime', inplace=True)    \n",
    "towerrad_df.sort_values(by='Datetime', inplace=True)  \n",
    "bsrnrad_df.sort_values(by='Datetime', inplace=True)"
   ]
  },
  {
   "cell_type": "code",
   "execution_count": 13,
   "id": "4ebc1aab-999c-4772-bb11-a2b473676460",
   "metadata": {},
   "outputs": [],
   "source": [
    "# Set 'Datetime' column as the index\n",
    "towermet_df.set_index('Datetime', inplace=True)\n",
    "towerrad_df.set_index('Datetime', inplace=True)\n",
    "bsrnrad_df.set_index('Datetime', inplace=True)"
   ]
  },
  {
   "cell_type": "markdown",
   "id": "6fed96f5-fac1-4390-95df-274e307a8859",
   "metadata": {},
   "source": [
    "### Join dataframes into one dataframe with pertinant columns"
   ]
  },
  {
   "cell_type": "code",
   "execution_count": 14,
   "id": "af422c10-6641-4b6c-8baa-f3dfd566b3c7",
   "metadata": {},
   "outputs": [],
   "source": [
    "# Tower Met Data\n",
    "towermet_df_select = towermet_df[[\n",
    "    'Pressure[mbar]',\n",
    "    '10MRH[%]',\n",
    "    # '6MRH[%]',\n",
    "    '2MRH[%]',\n",
    "    '10MVTair[degC]',\n",
    "    # '6MVTair[degC]',\n",
    "    '2MVTair[degC]'\n",
    "]]\n",
    "\n",
    "# Tower Radiation Data\n",
    "towerrad_df_select = towerrad_df[[\n",
    "    'LWTotalDownwelling[W/m^2]',\n",
    "    'QualityControl'\n",
    "]].copy()\n",
    "\n",
    "towerrad_df_select.rename(columns={'LWTotalDownwelling[W/m^2]': 'twrLWTotalDownwelling[W/m^2]'}, inplace=True)\n",
    "towerrad_df_select.rename(columns={'QualityControl': 'twrQualityControl'}, inplace=True)\n",
    "\n",
    "# BSRN Radiation Data\n",
    "bsrnrad_df_select = bsrnrad_df[[\n",
    "    'LWTotalDownwelling[W/m^2]',\n",
    "    'QualityControl'\n",
    "]].copy()\n",
    "\n",
    "bsrnrad_df_select.rename(columns={'LWTotalDownwelling[W/m^2]': 'bsrnLWTotalDownwelling[W/m^2]'}, inplace=True)\n",
    "bsrnrad_df_select.rename(columns={'QualityControl': 'bsrnQualityControl'}, inplace=True)\n",
    "\n",
    "# Join Dataframes\n",
    "data_df = towermet_df_select.join(towerrad_df_select, how='outer').join(bsrnrad_df_select, how='outer')"
   ]
  },
  {
   "cell_type": "code",
   "execution_count": 15,
   "id": "47d9033d-872c-4128-872d-d04db8d56c1c",
   "metadata": {
    "jupyter": {
     "source_hidden": true
    }
   },
   "outputs": [
    {
     "data": {
      "text/html": [
       "<div>\n",
       "<style scoped>\n",
       "    .dataframe tbody tr th:only-of-type {\n",
       "        vertical-align: middle;\n",
       "    }\n",
       "\n",
       "    .dataframe tbody tr th {\n",
       "        vertical-align: top;\n",
       "    }\n",
       "\n",
       "    .dataframe thead th {\n",
       "        text-align: right;\n",
       "    }\n",
       "</style>\n",
       "<table border=\"1\" class=\"dataframe\">\n",
       "  <thead>\n",
       "    <tr style=\"text-align: right;\">\n",
       "      <th></th>\n",
       "      <th>Pressure[mbar]</th>\n",
       "      <th>10MRH[%]</th>\n",
       "      <th>2MRH[%]</th>\n",
       "      <th>10MVTair[degC]</th>\n",
       "      <th>2MVTair[degC]</th>\n",
       "      <th>twrLWTotalDownwelling[W/m^2]</th>\n",
       "      <th>twrQualityControl</th>\n",
       "      <th>bsrnLWTotalDownwelling[W/m^2]</th>\n",
       "      <th>bsrnQualityControl</th>\n",
       "    </tr>\n",
       "    <tr>\n",
       "      <th>Datetime</th>\n",
       "      <th></th>\n",
       "      <th></th>\n",
       "      <th></th>\n",
       "      <th></th>\n",
       "      <th></th>\n",
       "      <th></th>\n",
       "      <th></th>\n",
       "      <th></th>\n",
       "      <th></th>\n",
       "    </tr>\n",
       "  </thead>\n",
       "  <tbody>\n",
       "    <tr>\n",
       "      <th>2009-01-01 00:00:00</th>\n",
       "      <td>1009.8</td>\n",
       "      <td>64.315</td>\n",
       "      <td>61.374</td>\n",
       "      <td>-35.070</td>\n",
       "      <td>-35.680</td>\n",
       "      <td>182.150</td>\n",
       "      <td>9.000000e+10</td>\n",
       "      <td>NaN</td>\n",
       "      <td>NaN</td>\n",
       "    </tr>\n",
       "    <tr>\n",
       "      <th>2009-01-01 00:01:00</th>\n",
       "      <td>1009.8</td>\n",
       "      <td>62.975</td>\n",
       "      <td>60.589</td>\n",
       "      <td>-34.944</td>\n",
       "      <td>-35.755</td>\n",
       "      <td>182.109</td>\n",
       "      <td>9.000000e+10</td>\n",
       "      <td>150.10</td>\n",
       "      <td>9.091991e+15</td>\n",
       "    </tr>\n",
       "    <tr>\n",
       "      <th>2009-01-01 00:02:00</th>\n",
       "      <td>1009.8</td>\n",
       "      <td>63.003</td>\n",
       "      <td>59.687</td>\n",
       "      <td>-34.976</td>\n",
       "      <td>-35.828</td>\n",
       "      <td>182.317</td>\n",
       "      <td>9.000000e+10</td>\n",
       "      <td>150.48</td>\n",
       "      <td>9.091991e+15</td>\n",
       "    </tr>\n",
       "    <tr>\n",
       "      <th>2009-01-01 00:03:00</th>\n",
       "      <td>1009.7</td>\n",
       "      <td>63.520</td>\n",
       "      <td>59.662</td>\n",
       "      <td>-34.968</td>\n",
       "      <td>-35.864</td>\n",
       "      <td>182.290</td>\n",
       "      <td>9.000000e+10</td>\n",
       "      <td>150.36</td>\n",
       "      <td>9.091991e+15</td>\n",
       "    </tr>\n",
       "    <tr>\n",
       "      <th>2009-01-01 00:04:00</th>\n",
       "      <td>1009.6</td>\n",
       "      <td>65.087</td>\n",
       "      <td>60.625</td>\n",
       "      <td>-34.909</td>\n",
       "      <td>-35.860</td>\n",
       "      <td>182.319</td>\n",
       "      <td>9.000000e+10</td>\n",
       "      <td>150.57</td>\n",
       "      <td>9.091991e+15</td>\n",
       "    </tr>\n",
       "  </tbody>\n",
       "</table>\n",
       "</div>"
      ],
      "text/plain": [
       "                     Pressure[mbar]  10MRH[%]  2MRH[%]  10MVTair[degC]  \\\n",
       "Datetime                                                                 \n",
       "2009-01-01 00:00:00          1009.8    64.315   61.374         -35.070   \n",
       "2009-01-01 00:01:00          1009.8    62.975   60.589         -34.944   \n",
       "2009-01-01 00:02:00          1009.8    63.003   59.687         -34.976   \n",
       "2009-01-01 00:03:00          1009.7    63.520   59.662         -34.968   \n",
       "2009-01-01 00:04:00          1009.6    65.087   60.625         -34.909   \n",
       "\n",
       "                     2MVTair[degC]  twrLWTotalDownwelling[W/m^2]  \\\n",
       "Datetime                                                           \n",
       "2009-01-01 00:00:00        -35.680                       182.150   \n",
       "2009-01-01 00:01:00        -35.755                       182.109   \n",
       "2009-01-01 00:02:00        -35.828                       182.317   \n",
       "2009-01-01 00:03:00        -35.864                       182.290   \n",
       "2009-01-01 00:04:00        -35.860                       182.319   \n",
       "\n",
       "                     twrQualityControl  bsrnLWTotalDownwelling[W/m^2]  \\\n",
       "Datetime                                                                \n",
       "2009-01-01 00:00:00       9.000000e+10                            NaN   \n",
       "2009-01-01 00:01:00       9.000000e+10                         150.10   \n",
       "2009-01-01 00:02:00       9.000000e+10                         150.48   \n",
       "2009-01-01 00:03:00       9.000000e+10                         150.36   \n",
       "2009-01-01 00:04:00       9.000000e+10                         150.57   \n",
       "\n",
       "                     bsrnQualityControl  \n",
       "Datetime                                 \n",
       "2009-01-01 00:00:00                 NaN  \n",
       "2009-01-01 00:01:00        9.091991e+15  \n",
       "2009-01-01 00:02:00        9.091991e+15  \n",
       "2009-01-01 00:03:00        9.091991e+15  \n",
       "2009-01-01 00:04:00        9.091991e+15  "
      ]
     },
     "execution_count": 15,
     "metadata": {},
     "output_type": "execute_result"
    }
   ],
   "source": [
    "data_df.head()"
   ]
  },
  {
   "cell_type": "code",
   "execution_count": 16,
   "id": "fe33367a-f761-45d7-a475-8ff41a54d551",
   "metadata": {
    "scrolled": true
   },
   "outputs": [
    {
     "data": {
      "text/html": [
       "<div>\n",
       "<style scoped>\n",
       "    .dataframe tbody tr th:only-of-type {\n",
       "        vertical-align: middle;\n",
       "    }\n",
       "\n",
       "    .dataframe tbody tr th {\n",
       "        vertical-align: top;\n",
       "    }\n",
       "\n",
       "    .dataframe thead th {\n",
       "        text-align: right;\n",
       "    }\n",
       "</style>\n",
       "<table border=\"1\" class=\"dataframe\">\n",
       "  <thead>\n",
       "    <tr style=\"text-align: right;\">\n",
       "      <th></th>\n",
       "      <th>Pressure[mbar]</th>\n",
       "      <th>10MRH[%]</th>\n",
       "      <th>2MRH[%]</th>\n",
       "      <th>10MVTair[degC]</th>\n",
       "      <th>2MVTair[degC]</th>\n",
       "      <th>twrLWTotalDownwelling[W/m^2]</th>\n",
       "      <th>twrQualityControl</th>\n",
       "      <th>bsrnLWTotalDownwelling[W/m^2]</th>\n",
       "      <th>bsrnQualityControl</th>\n",
       "    </tr>\n",
       "  </thead>\n",
       "  <tbody>\n",
       "    <tr>\n",
       "      <th>count</th>\n",
       "      <td>217440.000000</td>\n",
       "      <td>217440.000000</td>\n",
       "      <td>217440.000000</td>\n",
       "      <td>217440.000000</td>\n",
       "      <td>217440.000000</td>\n",
       "      <td>217440.000000</td>\n",
       "      <td>2.174400e+05</td>\n",
       "      <td>217440.000000</td>\n",
       "      <td>2.174400e+05</td>\n",
       "    </tr>\n",
       "    <tr>\n",
       "      <th>mean</th>\n",
       "      <td>1003.535530</td>\n",
       "      <td>69.325475</td>\n",
       "      <td>67.752705</td>\n",
       "      <td>-27.886775</td>\n",
       "      <td>-28.303953</td>\n",
       "      <td>185.925846</td>\n",
       "      <td>7.747740e+12</td>\n",
       "      <td>172.622351</td>\n",
       "      <td>8.217672e+17</td>\n",
       "    </tr>\n",
       "    <tr>\n",
       "      <th>std</th>\n",
       "      <td>8.740435</td>\n",
       "      <td>6.926484</td>\n",
       "      <td>7.178539</td>\n",
       "      <td>11.173209</td>\n",
       "      <td>11.503212</td>\n",
       "      <td>35.147923</td>\n",
       "      <td>4.639932e+13</td>\n",
       "      <td>42.611290</td>\n",
       "      <td>1.895350e+18</td>\n",
       "    </tr>\n",
       "    <tr>\n",
       "      <th>min</th>\n",
       "      <td>980.430000</td>\n",
       "      <td>44.144000</td>\n",
       "      <td>42.781000</td>\n",
       "      <td>-46.883000</td>\n",
       "      <td>-47.040000</td>\n",
       "      <td>121.307000</td>\n",
       "      <td>0.000000e+00</td>\n",
       "      <td>106.100000</td>\n",
       "      <td>9.000991e+15</td>\n",
       "    </tr>\n",
       "    <tr>\n",
       "      <th>25%</th>\n",
       "      <td>997.060000</td>\n",
       "      <td>64.291750</td>\n",
       "      <td>62.393000</td>\n",
       "      <td>-36.698000</td>\n",
       "      <td>-37.401000</td>\n",
       "      <td>165.011750</td>\n",
       "      <td>0.000000e+00</td>\n",
       "      <td>140.287500</td>\n",
       "      <td>9.091991e+15</td>\n",
       "    </tr>\n",
       "    <tr>\n",
       "      <th>50%</th>\n",
       "      <td>1003.700000</td>\n",
       "      <td>67.554000</td>\n",
       "      <td>65.879000</td>\n",
       "      <td>-32.233000</td>\n",
       "      <td>-32.776000</td>\n",
       "      <td>177.543000</td>\n",
       "      <td>9.000000e+10</td>\n",
       "      <td>163.620000</td>\n",
       "      <td>9.091991e+15</td>\n",
       "    </tr>\n",
       "    <tr>\n",
       "      <th>75%</th>\n",
       "      <td>1009.700000</td>\n",
       "      <td>73.628000</td>\n",
       "      <td>72.494000</td>\n",
       "      <td>-19.789000</td>\n",
       "      <td>-19.924000</td>\n",
       "      <td>197.346250</td>\n",
       "      <td>9.000000e+10</td>\n",
       "      <td>192.500000</td>\n",
       "      <td>9.091991e+15</td>\n",
       "    </tr>\n",
       "    <tr>\n",
       "      <th>max</th>\n",
       "      <td>1031.200000</td>\n",
       "      <td>98.910000</td>\n",
       "      <td>98.564000</td>\n",
       "      <td>1.376600</td>\n",
       "      <td>1.653500</td>\n",
       "      <td>313.023000</td>\n",
       "      <td>4.400000e+14</td>\n",
       "      <td>307.850000</td>\n",
       "      <td>6.689022e+18</td>\n",
       "    </tr>\n",
       "  </tbody>\n",
       "</table>\n",
       "</div>"
      ],
      "text/plain": [
       "       Pressure[mbar]       10MRH[%]        2MRH[%]  10MVTair[degC]  \\\n",
       "count   217440.000000  217440.000000  217440.000000   217440.000000   \n",
       "mean      1003.535530      69.325475      67.752705      -27.886775   \n",
       "std          8.740435       6.926484       7.178539       11.173209   \n",
       "min        980.430000      44.144000      42.781000      -46.883000   \n",
       "25%        997.060000      64.291750      62.393000      -36.698000   \n",
       "50%       1003.700000      67.554000      65.879000      -32.233000   \n",
       "75%       1009.700000      73.628000      72.494000      -19.789000   \n",
       "max       1031.200000      98.910000      98.564000        1.376600   \n",
       "\n",
       "       2MVTair[degC]  twrLWTotalDownwelling[W/m^2]  twrQualityControl  \\\n",
       "count  217440.000000                 217440.000000       2.174400e+05   \n",
       "mean      -28.303953                    185.925846       7.747740e+12   \n",
       "std        11.503212                     35.147923       4.639932e+13   \n",
       "min       -47.040000                    121.307000       0.000000e+00   \n",
       "25%       -37.401000                    165.011750       0.000000e+00   \n",
       "50%       -32.776000                    177.543000       9.000000e+10   \n",
       "75%       -19.924000                    197.346250       9.000000e+10   \n",
       "max         1.653500                    313.023000       4.400000e+14   \n",
       "\n",
       "       bsrnLWTotalDownwelling[W/m^2]  bsrnQualityControl  \n",
       "count                  217440.000000        2.174400e+05  \n",
       "mean                      172.622351        8.217672e+17  \n",
       "std                        42.611290        1.895350e+18  \n",
       "min                       106.100000        9.000991e+15  \n",
       "25%                       140.287500        9.091991e+15  \n",
       "50%                       163.620000        9.091991e+15  \n",
       "75%                       192.500000        9.091991e+15  \n",
       "max                       307.850000        6.689022e+18  "
      ]
     },
     "execution_count": 16,
     "metadata": {},
     "output_type": "execute_result"
    }
   ],
   "source": [
    "data_df.describe()"
   ]
  },
  {
   "cell_type": "code",
   "execution_count": 17,
   "id": "eac91397-891e-478e-93b4-c2adc0c70011",
   "metadata": {},
   "outputs": [],
   "source": [
    "# ref_df.describe()"
   ]
  },
  {
   "cell_type": "code",
   "execution_count": 18,
   "id": "09224867-20b1-4877-afcf-ed266a642822",
   "metadata": {},
   "outputs": [
    {
     "data": {
      "text/plain": [
       "Index(['Pressure[mbar]', '10MRH[%]', '2MRH[%]', '10MVTair[degC]',\n",
       "       '2MVTair[degC]', 'twrLWTotalDownwelling[W/m^2]', 'twrQualityControl',\n",
       "       'bsrnLWTotalDownwelling[W/m^2]', 'bsrnQualityControl'],\n",
       "      dtype='object')"
      ]
     },
     "execution_count": 18,
     "metadata": {},
     "output_type": "execute_result"
    }
   ],
   "source": [
    "data_df.columns"
   ]
  },
  {
   "cell_type": "code",
   "execution_count": 19,
   "id": "f12c5542-b678-4ed4-9b72-5b0049913177",
   "metadata": {
    "scrolled": true
   },
   "outputs": [
    {
     "data": {
      "text/plain": [
       "DatetimeIndex(['2009-01-01 00:00:00', '2009-01-01 00:01:00',\n",
       "               '2009-01-01 00:02:00', '2009-01-01 00:03:00',\n",
       "               '2009-01-01 00:04:00', '2009-01-01 00:05:00',\n",
       "               '2009-01-01 00:06:00', '2009-01-01 00:07:00',\n",
       "               '2009-01-01 00:08:00', '2009-01-01 00:09:00',\n",
       "               ...\n",
       "               '2009-05-31 23:51:00', '2009-05-31 23:52:00',\n",
       "               '2009-05-31 23:53:00', '2009-05-31 23:54:00',\n",
       "               '2009-05-31 23:55:00', '2009-05-31 23:56:00',\n",
       "               '2009-05-31 23:57:00', '2009-05-31 23:58:00',\n",
       "               '2009-05-31 23:59:00', '2009-06-01 00:00:00'],\n",
       "              dtype='datetime64[ns]', name='Datetime', length=217441, freq=None)"
      ]
     },
     "execution_count": 19,
     "metadata": {},
     "output_type": "execute_result"
    }
   ],
   "source": [
    "data_df.index"
   ]
  },
  {
   "cell_type": "code",
   "execution_count": 20,
   "id": "64d9d7b8-918b-46b1-9d0a-20e11811a9d8",
   "metadata": {},
   "outputs": [],
   "source": [
    "data_df.to_csv('eureka-data.csv')"
   ]
  }
 ],
 "metadata": {
  "kernelspec": {
   "display_name": "Python 3 (ipykernel)",
   "language": "python",
   "name": "python3"
  },
  "language_info": {
   "codemirror_mode": {
    "name": "ipython",
    "version": 3
   },
   "file_extension": ".py",
   "mimetype": "text/x-python",
   "name": "python",
   "nbconvert_exporter": "python",
   "pygments_lexer": "ipython3",
   "version": "3.12.2"
  }
 },
 "nbformat": 4,
 "nbformat_minor": 5
}
