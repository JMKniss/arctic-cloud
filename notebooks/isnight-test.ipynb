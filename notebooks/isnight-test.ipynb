{
 "cells": [
  {
   "cell_type": "markdown",
   "id": "9bbe5b45-863f-44ef-b272-677c468b4bf4",
   "metadata": {},
   "source": [
    "# A script for assigning boolean value to 'it is night time'\n",
    "\n",
    "## Jason Kniss\n",
    "### Feb 22 2024"
   ]
  },
  {
   "cell_type": "markdown",
   "id": "adae4748-9dfd-47ef-b7a8-c5e7d171f2cd",
   "metadata": {},
   "source": [
    "Import libraries"
   ]
  },
  {
   "cell_type": "code",
   "execution_count": 1,
   "id": "b1c79081-4ea5-40f1-8c0b-aaa6ac9e6f19",
   "metadata": {},
   "outputs": [],
   "source": [
    "# Import libraries here\n",
    "import pandas as pd\n",
    "import numpy as np\n",
    "import matplotlib.pyplot as plt\n",
    "import netCDF4 as nc"
   ]
  },
  {
   "cell_type": "markdown",
   "id": "7c1800ad-a069-42cc-917b-d380c48929af",
   "metadata": {},
   "source": [
    "Import data"
   ]
  },
  {
   "cell_type": "code",
   "execution_count": 2,
   "id": "0834c986-fa38-4449-82f0-e37194cfd190",
   "metadata": {},
   "outputs": [],
   "source": [
    "# Test based on San Diego lat/long\n",
    "lat = 32.715 # North(+)\n",
    "long = 117.157 # West(+)\n",
    "\n",
    "timedata = 'data/test/sd-spr-eq-dates.txt' # This will need to be kept updated to relative path\n",
    "df = pd.read_csv(timedata, delimiter='\\t')"
   ]
  },
  {
   "cell_type": "raw",
   "id": "5bbcb86a-3005-48f3-9ccc-d8c7a2fb7a56",
   "metadata": {},
   "source": [
    "# Optionally declare Lat and Long for stationary sites\n",
    "lat = 79.983 # North(+)\n",
    "long = 85.95 # West(+)\n",
    "\n",
    "# Using a sample Eureka .txt file with a time stamp\n",
    "tower_hrly = 'data/eureka-data/tower-met/eurmeteorologicaltwr.b1.20110701.000000.txt' # Tower meteorological data for July 01 2011\n",
    "\n",
    "with open(tower_hrly, \"r\") as f:\n",
    "    lines = f.readlines()\n",
    "\n",
    "header = lines[0].strip().split()\n",
    "data_rows = [line.strip().split(\"\\t\") for line in lines[1:]]\n",
    "df = pd.DataFrame(data_rows, columns=header)\n",
    "        # Rename the dataframe when more data is imported\n",
    "\n",
    "df = df.astype('float')\n",
    "df = df[df['HourMin'] != 2400] # Filter out invalid HourMin values \n",
    "\n",
    "# Note, I'd prefer to have this change the 2400 HourMin to 0000 the following day, but I wasn't able to figure that out."
   ]
  },
  {
   "cell_type": "code",
   "execution_count": 3,
   "id": "746cc559-c522-4a3e-be0f-a11e9a92260c",
   "metadata": {
    "scrolled": true
   },
   "outputs": [
    {
     "data": {
      "text/html": [
       "<div>\n",
       "<style scoped>\n",
       "    .dataframe tbody tr th:only-of-type {\n",
       "        vertical-align: middle;\n",
       "    }\n",
       "\n",
       "    .dataframe tbody tr th {\n",
       "        vertical-align: top;\n",
       "    }\n",
       "\n",
       "    .dataframe thead th {\n",
       "        text-align: right;\n",
       "    }\n",
       "</style>\n",
       "<table border=\"1\" class=\"dataframe\">\n",
       "  <thead>\n",
       "    <tr style=\"text-align: right;\">\n",
       "      <th></th>\n",
       "      <th>JulianDay</th>\n",
       "      <th>HourMin</th>\n",
       "    </tr>\n",
       "  </thead>\n",
       "  <tbody>\n",
       "    <tr>\n",
       "      <th>0</th>\n",
       "      <td>300</td>\n",
       "      <td>0</td>\n",
       "    </tr>\n",
       "    <tr>\n",
       "      <th>1</th>\n",
       "      <td>300</td>\n",
       "      <td>1</td>\n",
       "    </tr>\n",
       "    <tr>\n",
       "      <th>2</th>\n",
       "      <td>300</td>\n",
       "      <td>2</td>\n",
       "    </tr>\n",
       "    <tr>\n",
       "      <th>3</th>\n",
       "      <td>300</td>\n",
       "      <td>3</td>\n",
       "    </tr>\n",
       "    <tr>\n",
       "      <th>4</th>\n",
       "      <td>300</td>\n",
       "      <td>4</td>\n",
       "    </tr>\n",
       "  </tbody>\n",
       "</table>\n",
       "</div>"
      ],
      "text/plain": [
       "   JulianDay  HourMin\n",
       "0        300        0\n",
       "1        300        1\n",
       "2        300        2\n",
       "3        300        3\n",
       "4        300        4"
      ]
     },
     "execution_count": 3,
     "metadata": {},
     "output_type": "execute_result"
    }
   ],
   "source": [
    "df.head()"
   ]
  },
  {
   "cell_type": "code",
   "execution_count": 4,
   "id": "8acd6b00-f988-4cf9-afc4-b1896f26cc6a",
   "metadata": {},
   "outputs": [
    {
     "data": {
      "text/plain": [
       "Index(['JulianDay', 'HourMin'], dtype='object')"
      ]
     },
     "execution_count": 4,
     "metadata": {},
     "output_type": "execute_result"
    }
   ],
   "source": [
    "df.columns"
   ]
  },
  {
   "cell_type": "markdown",
   "id": "05543f0a-24cf-4737-b445-9a246851d11c",
   "metadata": {},
   "source": [
    "### 1) Determine declination"
   ]
  },
  {
   "cell_type": "markdown",
   "id": "4ca95d0f-a218-4ca7-a109-bde0c3294a1e",
   "metadata": {},
   "source": [
    "define sin/cos functions that expect degrees as the input"
   ]
  },
  {
   "cell_type": "code",
   "execution_count": 5,
   "id": "318984cd-416c-4b26-b2d5-949a8f56ebbc",
   "metadata": {},
   "outputs": [],
   "source": [
    "def cosd(degrees):\n",
    "     return np.cos(np.deg2rad(degrees))\n",
    "def sind(degrees):\n",
    "    return np.sin(np.deg2rad(degrees))"
   ]
  },
  {
   "cell_type": "code",
   "execution_count": 6,
   "id": "339eedc0-fd7d-47ee-9b38-71be8cb0ce72",
   "metadata": {},
   "outputs": [],
   "source": [
    "df['B'] = (df['JulianDay'] - 1)*(360/365)\n",
    "df['decl_1'] = (180/np.pi)*(0.006918 - 0.399912*cosd(df['B']) + 0.070257*sind(df['B']) - 0.006785*cosd(2*df['B']) + 0.000907*sind(2*df['B']) - 0.002697*cosd(3*df['B']) + 0.00148*sind(3*df['B']))\n",
    "df['decl_2'] = 23.45*sind(360*(284 + df['JulianDay'])/365) # Less accurate but typically adequate for most engineering purposes"
   ]
  },
  {
   "cell_type": "markdown",
   "id": "44ababd2-eec2-4a51-b75c-e95815abe8f2",
   "metadata": {},
   "source": [
    "### 2) Determine hour angle"
   ]
  },
  {
   "cell_type": "markdown",
   "id": "91f18d5e-aa8f-42dc-8c93-19d0753105e0",
   "metadata": {},
   "source": [
    "2a) determine local time in terms of minutes from *solar* noon (+ afternoon, - morning)\n",
    "\n",
    "**Eureka data is logged as GMT/UTC time**"
   ]
  },
  {
   "cell_type": "code",
   "execution_count": 7,
   "id": "60cb8a1e-31de-481a-a2fc-ea856d8a1776",
   "metadata": {},
   "outputs": [],
   "source": [
    "df['E'] = 229.2*(0.000075 + 0.001868*cosd(df['B']) - 0.032077*sind(df['B']) - 0.014615*cosd(2*df['B']) - 0.04089*sind(2*df['B']))\n",
    "\n",
    "df['t_corr'] = 4*(0-long) + df['E']"
   ]
  },
  {
   "cell_type": "code",
   "execution_count": 8,
   "id": "ba93cc28-677e-4ab6-ad5d-7e925569983b",
   "metadata": {},
   "outputs": [],
   "source": [
    "def time_to_minutes(time_float):\n",
    "    # Convert float to string and then to HHMM format\n",
    "    time_str = str(int(time_float)).zfill(4)\n",
    "    # Convert HHMM string to minutes\n",
    "    hours = int(time_str[:2])\n",
    "    minutes = int(time_str[2:])\n",
    "    return hours * 60 + minutes\n",
    "\n",
    "def minutes_from_noon(time_float):\n",
    "    # Calculate the difference between the time and noon (720 minutes)\n",
    "    time_minutes = time_to_minutes(time_float)\n",
    "    minutes_difference = time_minutes - 720\n",
    "    return minutes_difference\n",
    "\n",
    "# Apply the minutes_from_noon function to the 'HourMin' column\n",
    "df['MinutesFromNoon'] = df['HourMin'].apply(minutes_from_noon)"
   ]
  },
  {
   "cell_type": "code",
   "execution_count": 9,
   "id": "d19613fa-b1a3-4052-b3bb-1a872b0575fa",
   "metadata": {},
   "outputs": [],
   "source": [
    "df['t_sol'] = df['MinutesFromNoon'] + df['t_corr']"
   ]
  },
  {
   "cell_type": "code",
   "execution_count": 10,
   "id": "850fae0c-f32f-4ece-a8ae-0b63d7a67be5",
   "metadata": {},
   "outputs": [],
   "source": [
    "def minutes_to_HourMin(minutes):\n",
    "    # Calculate hours and minutes\n",
    "    hours = int(minutes) // 60 + 12\n",
    "    if hours < 0:\n",
    "        hours += 24\n",
    "    minutes = int(minutes) % 60\n",
    "\n",
    "    # Format the time as HHMM\n",
    "    return '{:02d}{:02d}'.format(hours, minutes)\n",
    "\n",
    "df['local_time'] = df['t_sol'].apply(minutes_to_HourMin)"
   ]
  },
  {
   "cell_type": "code",
   "execution_count": 11,
   "id": "3307a6a4-80b8-44ed-ac78-a90c9af9558a",
   "metadata": {},
   "outputs": [],
   "source": [
    "def GMT_to_std(time_float):\n",
    "    if time_float >= 100*((long // 15)+1):\n",
    "        time_diff = -100*((long // 15)+1)\n",
    "    else:\n",
    "        time_diff = 2400 - 100*((long // 15)+1)\n",
    "\n",
    "    return time_float + time_diff\n",
    "        \n",
    "df['std_time'] = df['HourMin'].apply(GMT_to_std) # convert GMT to local standard time"
   ]
  },
  {
   "cell_type": "code",
   "execution_count": 12,
   "id": "eb6dc9c7-af19-433f-93c1-2eecd07e7afb",
   "metadata": {},
   "outputs": [],
   "source": [
    "df['w'] = df['t_sol'] * (360/1440)"
   ]
  },
  {
   "cell_type": "code",
   "execution_count": 13,
   "id": "4a39a8c2-a294-4df7-bc5d-3b3805f48473",
   "metadata": {},
   "outputs": [],
   "source": [
    "df['theta_z'] =  np.degrees(np.arccos(cosd(lat) * cosd(df['decl_1']) * cosd(df['w']) + sind(lat) * sind(df['decl_1'])))"
   ]
  },
  {
   "cell_type": "code",
   "execution_count": 14,
   "id": "c37e3ead-c5cd-41c2-ae79-ab223215adbf",
   "metadata": {},
   "outputs": [
    {
     "name": "stdout",
     "output_type": "stream",
     "text": [
      "45.2360687224512\n",
      "160.81698932294165\n"
     ]
    }
   ],
   "source": [
    "print(min(df['theta_z']))\n",
    "print(max(df['theta_z']))"
   ]
  },
  {
   "cell_type": "code",
   "execution_count": 15,
   "id": "f46131f6-86d2-4063-a9a7-4b7e7ffcd9be",
   "metadata": {},
   "outputs": [],
   "source": [
    "df['isnight'] = (df['theta_z'] > 105) | (df['theta_z'] < -105)"
   ]
  },
  {
   "cell_type": "raw",
   "id": "059dc616-7e86-4792-be34-e19a81e591c8",
   "metadata": {},
   "source": [
    "pd.set_option('display.max_rows', 100)\n",
    "df.head()"
   ]
  },
  {
   "cell_type": "code",
   "execution_count": 17,
   "id": "d8eb0b67-c2e5-4c1e-aedb-b7fb70181233",
   "metadata": {},
   "outputs": [
    {
     "data": {
      "text/plain": [
       "<matplotlib.collections.PathCollection at 0x1ebeac2e930>"
      ]
     },
     "execution_count": 17,
     "metadata": {},
     "output_type": "execute_result"
    },
    {
     "data": {
      "image/png": "[encoded data removed]",
      "text/plain": [
       "<Figure size 640x480 with 1 Axes>"
      ]
     },
     "metadata": {},
     "output_type": "display_data"
    }
   ],
   "source": [
    "plt.scatter(df.index, df['theta_z'])"
   ]
  },
  {
   "cell_type": "code",
   "execution_count": 18,
   "id": "9557da53-699e-40b1-8d41-8790b8624a3b",
   "metadata": {},
   "outputs": [
    {
     "data": {
      "text/plain": [
       "<matplotlib.collections.PathCollection at 0x1ebeac90590>"
      ]
     },
     "execution_count": 18,
     "metadata": {},
     "output_type": "execute_result"
    },
    {
     "data": {
      "image/png": "[encoded data removed]",
      "text/plain": [
       "<Figure size 640x480 with 1 Axes>"
      ]
     },
     "metadata": {},
     "output_type": "display_data"
    }
   ],
   "source": [
    "plt.scatter(df.index[df['isnight']==True], df['theta_z'][df['isnight']==True])"
   ]
  },
  {
   "cell_type": "code",
   "execution_count": 19,
   "id": "de3514e7-faea-40f3-8158-8022d777a40c",
   "metadata": {},
   "outputs": [],
   "source": [
    "file_path = 'data/test/printed-file.xlsx'\n",
    "df.to_excel(file_path, index=False)"
   ]
  },
  {
   "cell_type": "code",
   "execution_count": null,
   "id": "81fe4c54-2aef-4598-8a12-6320edcd0491",
   "metadata": {},
   "outputs": [],
   "source": []
  }
 ],
 "metadata": {
  "kernelspec": {
   "display_name": "Python 3 (ipykernel)",
   "language": "python",
   "name": "python3"
  },
  "language_info": {
   "codemirror_mode": {
    "name": "ipython",
    "version": 3
   },
   "file_extension": ".py",
   "mimetype": "text/x-python",
   "name": "python",
   "nbconvert_exporter": "python",
   "pygments_lexer": "ipython3",
   "version": "3.12.2"
  }
 },
 "nbformat": 4,
 "nbformat_minor": 5
}
