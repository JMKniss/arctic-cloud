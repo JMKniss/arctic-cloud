{
 "cells": [
  {
   "cell_type": "markdown",
   "id": "efaef8d0-adeb-420f-9d7a-b3f43daae64f",
   "metadata": {},
   "source": [
    "# Recalibrating the Brunt equation using Eureka data\n",
    "\n",
    "## Jason Kniss\n",
    "### Feb 14 2024\n",
    "\n",
    "This script is used to process the unfiltered code, intended as a test of\n",
    "functionality and for the author to practice python coding"
   ]
  },
  {
   "cell_type": "markdown",
   "id": "cba5d658-5b34-4780-8a51-82b89e8f742d",
   "metadata": {},
   "source": [
    "### Import Libraries"
   ]
  },
  {
   "cell_type": "code",
   "execution_count": 1,
   "id": "a2ca24ce-112e-4661-bda3-c931de2f0923",
   "metadata": {},
   "outputs": [],
   "source": [
    "import pandas as pd\n",
    "import os\n",
    "from datetime import datetime, timedelta\n",
    "import numpy as np\n",
    "import matplotlib.pyplot as plt\n",
    "import matplotlib.dates as mdates\n",
    "from IPython.display import HTML\n",
    "from pandasgui import show"
   ]
  },
  {
   "cell_type": "markdown",
   "id": "54b8a1a0-4241-402e-a7d2-2766ee377716",
   "metadata": {
    "jp-MarkdownHeadingCollapsed": true
   },
   "source": [
    "## Import and organize data"
   ]
  },
  {
   "cell_type": "markdown",
   "id": "b0edd473-589e-4e07-99d3-8a87d5e466f3",
   "metadata": {},
   "source": [
    "### Set path to data folders\n",
    "\n",
    "separate folders are used because each data source will be treated separately. This is to simplify identification and concatenation."
   ]
  },
  {
   "cell_type": "code",
   "execution_count": 2,
   "id": "ee8823e1-0380-46fa-b64b-2f0e732d75e5",
   "metadata": {},
   "outputs": [],
   "source": [
    "towermet_path = 'data/eureka-data/tower-met'\n",
    "towerrad_path = 'data/eureka-data/tower-rad'\n",
    "bsrnrad_path = 'data/eureka-data/bsrn-rad'"
   ]
  },
  {
   "cell_type": "markdown",
   "id": "d1d2678e-f4eb-472a-981d-2a2149567d6b",
   "metadata": {},
   "source": [
    "### Crerate lists of dataframes\n",
    "\n",
    "Loops will generate a list of dataframes from text files added to specified folders."
   ]
  },
  {
   "cell_type": "code",
   "execution_count": 3,
   "id": "e97c0595-400d-4810-a728-1ac209d0da2c",
   "metadata": {},
   "outputs": [],
   "source": [
    "towermet_dfs = []  # List to store Tower Meteroological dataframes\n",
    "towerrad_dfs = []  # List to store Tower Radiation dataframes\n",
    "bsrnrad_dfs = [] # List to store BSRN radiation dataframes"
   ]
  },
  {
   "cell_type": "markdown",
   "id": "f565a54a-51ab-4493-8cab-297e83fd7d1d",
   "metadata": {},
   "source": [
    "### Tower meteorological data"
   ]
  },
  {
   "cell_type": "code",
   "execution_count": 4,
   "id": "89097551-795f-4894-9745-c1b1d0f54094",
   "metadata": {},
   "outputs": [],
   "source": [
    "for filename in os.listdir(towermet_path):\n",
    "    if filename.endswith(\".txt\"):  # Only consider .txt files\n",
    "        file_path = os.path.join(towermet_path, filename)\n",
    "        with open(file_path, \"r\") as f:\n",
    "            lines = f.readlines()\n",
    "\n",
    "        header = lines[0].strip().split()\n",
    "        data_rows = [line.strip().split(\"\\t\") for line in lines[1:]]\n",
    "\n",
    "        df = pd.DataFrame(data_rows, columns=header)\n",
    "        # Rename the dataframe when more data is imported\n",
    "\n",
    "        df = df.astype('float')\n",
    "\n",
    "        # Fix midnight HourMin\n",
    "        condition = df['HourMin'] == 2400\n",
    "        df.loc[condition, 'JulianDay'] += 1\n",
    "        df.loc[condition, 'HourMin'] = 0000\n",
    "\n",
    "        df.replace([-999, -9999], np.nan, inplace=True)\n",
    "        \n",
    "        towermet_dfs.append(df)"
   ]
  },
  {
   "cell_type": "markdown",
   "id": "c542b375-f1a3-43a8-9c44-4243bf2b3f90",
   "metadata": {},
   "source": [
    "### Tower radiation data"
   ]
  },
  {
   "cell_type": "code",
   "execution_count": 5,
   "id": "90fed0e2-f71f-46dd-80d7-416a2e088077",
   "metadata": {},
   "outputs": [],
   "source": [
    "for filename in os.listdir(towerrad_path):\n",
    "    if filename.endswith(\".txt\"):  # Only consider .txt files\n",
    "        file_path = os.path.join(towerrad_path, filename)\n",
    "        with open(file_path, \"r\") as f:\n",
    "            lines = f.readlines()\n",
    "\n",
    "        header = lines[0].strip().split()\n",
    "        data_rows = [line.strip().split(\"\\t\") for line in lines[1:]]\n",
    "\n",
    "        df = pd.DataFrame(data_rows, columns=header)\n",
    "        # Rename the dataframe when more data is imported\n",
    "\n",
    "        df = df.astype('float')\n",
    "        \n",
    "        condition = df['HourMin'] == 2400\n",
    "        df.loc[condition, 'JulianDay'] += 1\n",
    "        df.loc[condition, 'HourMin'] = 0000\n",
    "\n",
    "        df.replace([-999, -9999], np.nan, inplace=True)\n",
    "        \n",
    "        #df = df[df['HourMin'] != 2400] # Filter out invalid HourMin values \n",
    "        towerrad_dfs.append(df)"
   ]
  },
  {
   "cell_type": "markdown",
   "id": "51caf01a-c3d1-4663-8775-be820977194c",
   "metadata": {},
   "source": [
    "### BSRN radiation data\n",
    "This is redundant of tower radiation data and only serves as a comparison to tower measurements"
   ]
  },
  {
   "cell_type": "code",
   "execution_count": 6,
   "id": "91d26d57-1efc-4b5c-85c3-58d94d026030",
   "metadata": {},
   "outputs": [],
   "source": [
    "for filename in os.listdir(bsrnrad_path):\n",
    "    if filename.endswith(\".txt\"):  # Only consider .txt files\n",
    "        file_path = os.path.join(bsrnrad_path, filename)\n",
    "        with open(file_path, \"r\") as f:\n",
    "            lines = f.readlines()\n",
    "\n",
    "        header = lines[0].strip().split()\n",
    "        data_rows = [line.strip().split(\"\\t\") for line in lines[1:]]\n",
    "\n",
    "        df = pd.DataFrame(data_rows, columns=header)\n",
    "        # Rename the dataframe when more data is imported\n",
    "\n",
    "        df = df.astype('float')\n",
    "        \n",
    "        condition = df['HourMin'] == 2400\n",
    "        df.loc[condition, 'JulianDay'] += 1\n",
    "        df.loc[condition, 'HourMin'] = 0000\n",
    "\n",
    "        df.replace([-999, -9999], np.nan, inplace=True)\n",
    "        \n",
    "        #df = df[df['HourMin'] != 2400] # Filter out invalid HourMin values \n",
    "        bsrnrad_dfs.append(df)"
   ]
  },
  {
   "cell_type": "markdown",
   "id": "1112601d-abf8-404e-ba19-4a301c3fa384",
   "metadata": {
    "jp-MarkdownHeadingCollapsed": true
   },
   "source": [
    "## Sort and concatenate lists of dataframes\n",
    "\n",
    "Done separately to simplify concatenation in the next step\n",
    "### Create datetime columns\n",
    "### Tower meteorological dataframes"
   ]
  },
  {
   "cell_type": "code",
   "execution_count": 7,
   "id": "046a590b-ce6f-4e81-a026-c472fc5bc433",
   "metadata": {},
   "outputs": [],
   "source": [
    "# Create a Datetime column \n",
    "for df in towermet_dfs:\n",
    "    def julian_to_date(julian_day, base_year=(df['Year'].iloc[0]).astype('int')):\n",
    "        base_date = datetime(base_year, 1, 1)\n",
    "        target_date = base_date + timedelta(days=julian_day - 1)\n",
    "        return target_date.strftime('%Y-%m-%d')\n",
    "\n",
    "    def hourmin_to_time(hourmin):\n",
    "        hours = int(hourmin // 100)\n",
    "        minutes = int(hourmin % 100)\n",
    "        return f'{hours:02}:{minutes:02}:00'\n",
    "\n",
    "    # Convert Julian Day to date\n",
    "    df['Date'] = df['JulianDay'].apply(julian_to_date)\n",
    "\n",
    "    # Convert HourMin to time   \n",
    "    df['Time'] = df['HourMin'].apply(hourmin_to_time)\n",
    "\n",
    "    # Combine date and time into a single datetime column\n",
    "    df['Datetime'] = pd.to_datetime(df['Date'] + ' ' + df['Time'])\n",
    "\n",
    "    # Drop intermediate columns\n",
    "    df.drop(columns=['Date', 'Time'], inplace=True)\n",
    "    \n"
   ]
  },
  {
   "cell_type": "markdown",
   "id": "b0a15478-1c3c-4b54-86a1-60a9c1bc2cba",
   "metadata": {},
   "source": [
    "### Tower radiation dataframes"
   ]
  },
  {
   "cell_type": "code",
   "execution_count": 8,
   "id": "13692120-5167-4e7d-8d99-88e1cf897c28",
   "metadata": {},
   "outputs": [],
   "source": [
    "for df in towerrad_dfs:\n",
    "      def julian_to_date(julian_day, base_year=(df['Year'].iloc[0]).astype('int')):\n",
    "          base_date = datetime(base_year, 1, 1)\n",
    "          target_date = base_date + timedelta(days=julian_day - 1)\n",
    "          return target_date.strftime('%Y-%m-%d')\n",
    "\n",
    "      def hourmin_to_time(hourmin):\n",
    "          hours = int(hourmin // 100)\n",
    "          minutes = int(hourmin % 100)\n",
    "          return f'{hours:02}:{minutes:02}:00'\n",
    "\n",
    "      # Convert Julian Day to date\n",
    "      df['Date'] = df['JulianDay'].apply(julian_to_date)\n",
    "\n",
    "      # Convert HourMin to time   \n",
    "      df['Time'] = df['HourMin'].apply(hourmin_to_time)\n",
    "\n",
    "      # Combine date and time into a single datetime column\n",
    "      df['Datetime'] = pd.to_datetime(df['Date'] + ' ' + df['Time'])\n",
    "\n",
    "      # Drop intermediate columns\n",
    "      df.drop(columns=['Date', 'Time'], inplace=True)\n",
    "      \n",
    "      # Set 'Datetime' column as the index\n",
    " #     df.set_index('Datetime', inplace=True)"
   ]
  },
  {
   "cell_type": "markdown",
   "id": "50b1dc5f-e154-482e-b4da-eb9da89652e3",
   "metadata": {},
   "source": [
    "### BSRN radiation dataframes"
   ]
  },
  {
   "cell_type": "code",
   "execution_count": 9,
   "id": "f69a7d08-b0bc-4014-b3eb-5f64457a0c34",
   "metadata": {},
   "outputs": [],
   "source": [
    "for df in bsrnrad_dfs:\n",
    "    def julian_to_date(julian_day, base_year=(df['Year'].iloc[0]).astype('int')):\n",
    "        base_date = datetime(base_year, 1, 1)\n",
    "        target_date = base_date + timedelta(days=julian_day - 1)\n",
    "        return target_date.strftime('%Y-%m-%d')\n",
    "\n",
    "    def hourmin_to_time(hourmin):\n",
    "        hours = int(hourmin // 100)\n",
    "        minutes = int(hourmin % 100)\n",
    "        return f'{hours:02}:{minutes:02}:00'\n",
    "\n",
    "    # Convert Julian Day to date\n",
    "    df['Date'] = df['JulianDay'].apply(julian_to_date)\n",
    "\n",
    "    # Convert HourMin to time   \n",
    "    df['Time'] = df['HourMin'].apply(hourmin_to_time)\n",
    "\n",
    "    # Combine date and time into a single datetime column\n",
    "    df['Datetime'] = pd.to_datetime(df['Date'] + ' ' + df['Time'])\n",
    "\n",
    "    # Drop intermediate columns\n",
    "    df.drop(columns=['Date', 'Time'], inplace=True)"
   ]
  },
  {
   "cell_type": "markdown",
   "id": "7d0f1803-27b6-4fc3-adae-b38fa74032fb",
   "metadata": {},
   "source": [
    "### Concatenate lists of dataframes into dataframes and reindex by datetime"
   ]
  },
  {
   "cell_type": "code",
   "execution_count": 10,
   "id": "5fc44fde-6f1f-4a6f-8da2-22c54e0506f1",
   "metadata": {},
   "outputs": [],
   "source": [
    "# Concatenate vertically\n",
    "towermet_df = pd.concat(towermet_dfs, ignore_index=True)\n",
    "towerrad_df = pd.concat(towerrad_dfs, ignore_index=True)\n",
    "bsrnrad_df = pd.concat(bsrnrad_dfs, ignore_index=True)"
   ]
  },
  {
   "cell_type": "code",
   "execution_count": 11,
   "id": "efda1282-4863-4d95-a2bb-4ed54ade0994",
   "metadata": {},
   "outputs": [],
   "source": [
    "# Sort by datetime column\n",
    "towermet_df.sort_values(by='Datetime', inplace=True)    \n",
    "towerrad_df.sort_values(by='Datetime', inplace=True)  \n",
    "bsrnrad_df.sort_values(by='Datetime', inplace=True)"
   ]
  },
  {
   "cell_type": "code",
   "execution_count": 12,
   "id": "4ebc1aab-999c-4772-bb11-a2b473676460",
   "metadata": {},
   "outputs": [],
   "source": [
    "# Set 'Datetime' column as the index\n",
    "towermet_df.set_index('Datetime', inplace=True)\n",
    "towerrad_df.set_index('Datetime', inplace=True)\n",
    "bsrnrad_df.set_index('Datetime', inplace=True)"
   ]
  },
  {
   "cell_type": "markdown",
   "id": "6fed96f5-fac1-4390-95df-274e307a8859",
   "metadata": {},
   "source": [
    "### Join dataframes into one dataframe with pertinant columns"
   ]
  },
  {
   "cell_type": "code",
   "execution_count": 13,
   "id": "af422c10-6641-4b6c-8baa-f3dfd566b3c7",
   "metadata": {},
   "outputs": [],
   "source": [
    "towermet_df_select = towermet_df[['Pressure[mbar]', '10MRH[%]', '6MRH[%]', '2MRH[%]', '10MVTair[degC]', '6MVTair[degC]', '2MVTair[degC]']]\n",
    "\n",
    "towerrad_df_select = towerrad_df[['LWTotalDownwelling[W/m^2]', 'QualityControl']].copy()\n",
    "towerrad_df_select.rename(columns={'LWTotalDownwelling[W/m^2]': 'twrLWTotalDownwelling[W/m^2]'}, inplace=True)\n",
    "towerrad_df_select.rename(columns={'QualityControl': 'twrQualityControl'}, inplace=True)\n",
    "\n",
    "bsrnrad_df_select = bsrnrad_df[['LWTotalDownwelling[W/m^2]', 'QualityControl']].copy()\n",
    "bsrnrad_df_select.rename(columns={'LWTotalDownwelling[W/m^2]': 'bsrnLWTotalDownwelling[W/m^2]'}, inplace=True)\n",
    "bsrnrad_df_select.rename(columns={'QualityControl': 'bsrnQualityControl'}, inplace=True)\n",
    "\n",
    "data_df = towermet_df_select.join(towerrad_df_select, how='outer').join(bsrnrad_df_select, how='outer')"
   ]
  },
  {
   "cell_type": "markdown",
   "id": "0c694b95-2d37-4922-8c8c-855473870a87",
   "metadata": {
    "jp-MarkdownHeadingCollapsed": true
   },
   "source": [
    "## Generate filters"
   ]
  },
  {
   "cell_type": "markdown",
   "id": "768c6a98-a078-41e1-8563-99c67701f2b7",
   "metadata": {},
   "source": [
    "#### Choose to use bsrn LWD or tower LWD\n",
    "\n",
    "Comment out the other"
   ]
  },
  {
   "cell_type": "code",
   "execution_count": 14,
   "id": "00fe4d8f-842e-44f1-93b6-18cbe6f27fe6",
   "metadata": {},
   "outputs": [],
   "source": [
    "# To use bsrn\n",
    "data_df.rename(columns={'bsrnLWTotalDownwelling[W/m^2]': 'LWTotalDownwelling[W/m^2]'}, inplace=True)\n",
    "\n",
    "# To use tower\n",
    "# data_df.rename(columns={'twrLWTotalDownwelling[W/m^2]': 'LWTotalDownwelling[W/m^2]'}, inplace=True)"
   ]
  },
  {
   "cell_type": "markdown",
   "id": "0203dd42-2a1e-4217-bd4a-385c8883a2d9",
   "metadata": {},
   "source": [
    "#### Quality Control flags"
   ]
  },
  {
   "cell_type": "code",
   "execution_count": 15,
   "id": "bd4ac3b9-2a5f-4efc-a35c-f80d8e1190ad",
   "metadata": {},
   "outputs": [],
   "source": [
    "# Come back to this when I figure out how to QC works"
   ]
  },
  {
   "cell_type": "markdown",
   "id": "7ea71bf4-08eb-4111-afbc-640a3ffd4269",
   "metadata": {},
   "source": [
    "#### Outliers"
   ]
  },
  {
   "cell_type": "markdown",
   "id": "2b705804-227a-4994-950a-8d102e1140af",
   "metadata": {},
   "source": [
    "Eliminate outliars (2 std deviations, rolling)\n",
    "\n",
    "This must remain the first filter, as it is dependent upon the relationship between neighboring measurements in time"
   ]
  },
  {
   "cell_type": "code",
   "execution_count": 16,
   "id": "2a018b9c-03d6-4dd4-b363-84baf15dfae0",
   "metadata": {},
   "outputs": [],
   "source": [
    "columns_to_filter = [\n",
    "    'Pressure[mbar]',\n",
    "    '10MRH[%]',\n",
    "    '2MRH[%]',\n",
    "    '10MVTair[degC]', \n",
    "    '2MVTair[degC]',\n",
    "    'LWTotalDownwelling[W/m^2]'\n",
    "]"
   ]
  },
  {
   "cell_type": "code",
   "execution_count": 17,
   "id": "da5b9711-5b84-4dd7-bda6-2075345dcb4d",
   "metadata": {},
   "outputs": [],
   "source": [
    "# Parameters\n",
    "window_size = 20 # Five minute window\n",
    "z_score_threshold = 2 # two standard deviations\n",
    "\n",
    "outlier_mask_df = pd.DataFrame(index=data_df.index)\n",
    "z_scores_df = pd.DataFrame(index=data_df.index)\n",
    "\n",
    "# iterate over each selected column\n",
    "for column in columns_to_filter:\n",
    "    # Calculate rolling mean and std deviation\n",
    "    rolling_mean = data_df[column].rolling(window=window_size, center=True).mean()\n",
    "    rolling_std = data_df[column].rolling(window=window_size, center=True).std()\n",
    "\n",
    "    # Calculate z-score for the current column\n",
    "    z_scores = (data_df[column] - rolling_mean) / rolling_std\n",
    "\n",
    "    # Save Z-scores in the new DataFrame\n",
    "    z_scores_df[column + '_z_score'] = z_scores\n",
    "    \n",
    "    # Filter outliers based on z_score threshold\n",
    "    non_outlier_mask = (z_scores.abs() <= z_score_threshold) | pd.isna(z_scores)\n",
    "    outlier_mask_df[column + '_is_not_outlier'] = non_outlier_mask\n",
    "\n",
    "data_df['isnotoutlier'] = outlier_mask_df[[col + '_is_not_outlier' for col in columns_to_filter]].all(axis=1)\n",
    "    \n",
    "# outlier_mask = outlier_mask_df[[col + '_is_not_outlier' for col in columns_to_filter]].all(axis=1)\n",
    "# data_df = data_df[outlier_mask]"
   ]
  },
  {
   "cell_type": "code",
   "execution_count": 18,
   "id": "7201c039-65de-4935-9e3e-7d3b60ee8e6f",
   "metadata": {},
   "outputs": [],
   "source": [
    "# inverse_mask = ~outlier_mask\n",
    "\n",
    "# show(ref_df)\n",
    "# show(z_scores_df[inverse_mask])"
   ]
  },
  {
   "cell_type": "markdown",
   "id": "715bc34b-b811-45b2-8823-9bae995baaf4",
   "metadata": {},
   "source": [
    "#### RH cannot be negetive"
   ]
  },
  {
   "cell_type": "code",
   "execution_count": 19,
   "id": "7be3d942-4942-4e9c-9213-850ecea5236f",
   "metadata": {},
   "outputs": [],
   "source": [
    "data_df.loc[data_df['2MRH[%]'] < 0, '2MRH[%]'] = np.nan\n",
    "data_df.loc[data_df['6MRH[%]'] < 0, '6MRH[%]'] = np.nan\n",
    "data_df.loc[data_df['10MRH[%]'] < 0, '10MRH[%]'] = np.nan"
   ]
  },
  {
   "cell_type": "markdown",
   "id": "85c92ae4-1bb2-44c3-9c6c-116e79031407",
   "metadata": {
    "jp-MarkdownHeadingCollapsed": true
   },
   "source": [
    "#### View Dataframes and Info"
   ]
  },
  {
   "cell_type": "code",
   "execution_count": 20,
   "id": "47d9033d-872c-4128-872d-d04db8d56c1c",
   "metadata": {
    "jupyter": {
     "source_hidden": true
    }
   },
   "outputs": [
    {
     "data": {
      "text/html": [
       "<div>\n",
       "<style scoped>\n",
       "    .dataframe tbody tr th:only-of-type {\n",
       "        vertical-align: middle;\n",
       "    }\n",
       "\n",
       "    .dataframe tbody tr th {\n",
       "        vertical-align: top;\n",
       "    }\n",
       "\n",
       "    .dataframe thead th {\n",
       "        text-align: right;\n",
       "    }\n",
       "</style>\n",
       "<table border=\"1\" class=\"dataframe\">\n",
       "  <thead>\n",
       "    <tr style=\"text-align: right;\">\n",
       "      <th></th>\n",
       "      <th>Pressure[mbar]</th>\n",
       "      <th>10MRH[%]</th>\n",
       "      <th>6MRH[%]</th>\n",
       "      <th>2MRH[%]</th>\n",
       "      <th>10MVTair[degC]</th>\n",
       "      <th>6MVTair[degC]</th>\n",
       "      <th>2MVTair[degC]</th>\n",
       "      <th>twrLWTotalDownwelling[W/m^2]</th>\n",
       "      <th>twrQualityControl</th>\n",
       "      <th>LWTotalDownwelling[W/m^2]</th>\n",
       "      <th>bsrnQualityControl</th>\n",
       "      <th>isnotoutlier</th>\n",
       "    </tr>\n",
       "    <tr>\n",
       "      <th>Datetime</th>\n",
       "      <th></th>\n",
       "      <th></th>\n",
       "      <th></th>\n",
       "      <th></th>\n",
       "      <th></th>\n",
       "      <th></th>\n",
       "      <th></th>\n",
       "      <th></th>\n",
       "      <th></th>\n",
       "      <th></th>\n",
       "      <th></th>\n",
       "      <th></th>\n",
       "    </tr>\n",
       "  </thead>\n",
       "  <tbody>\n",
       "    <tr>\n",
       "      <th>2009-01-01 00:00:00</th>\n",
       "      <td>1009.8</td>\n",
       "      <td>64.315</td>\n",
       "      <td>62.984</td>\n",
       "      <td>61.374</td>\n",
       "      <td>-35.070</td>\n",
       "      <td>-35.191</td>\n",
       "      <td>-35.680</td>\n",
       "      <td>182.150</td>\n",
       "      <td>9.000000e+10</td>\n",
       "      <td>NaN</td>\n",
       "      <td>NaN</td>\n",
       "      <td>True</td>\n",
       "    </tr>\n",
       "    <tr>\n",
       "      <th>2009-01-01 00:01:00</th>\n",
       "      <td>1009.8</td>\n",
       "      <td>62.975</td>\n",
       "      <td>62.150</td>\n",
       "      <td>60.589</td>\n",
       "      <td>-34.944</td>\n",
       "      <td>-35.093</td>\n",
       "      <td>-35.755</td>\n",
       "      <td>182.109</td>\n",
       "      <td>9.000000e+10</td>\n",
       "      <td>150.10</td>\n",
       "      <td>9.091991e+15</td>\n",
       "      <td>True</td>\n",
       "    </tr>\n",
       "    <tr>\n",
       "      <th>2009-01-01 00:02:00</th>\n",
       "      <td>1009.8</td>\n",
       "      <td>63.003</td>\n",
       "      <td>62.699</td>\n",
       "      <td>59.687</td>\n",
       "      <td>-34.976</td>\n",
       "      <td>-35.138</td>\n",
       "      <td>-35.828</td>\n",
       "      <td>182.317</td>\n",
       "      <td>9.000000e+10</td>\n",
       "      <td>150.48</td>\n",
       "      <td>9.091991e+15</td>\n",
       "      <td>True</td>\n",
       "    </tr>\n",
       "    <tr>\n",
       "      <th>2009-01-01 00:03:00</th>\n",
       "      <td>1009.7</td>\n",
       "      <td>63.520</td>\n",
       "      <td>63.929</td>\n",
       "      <td>59.662</td>\n",
       "      <td>-34.968</td>\n",
       "      <td>-35.133</td>\n",
       "      <td>-35.864</td>\n",
       "      <td>182.290</td>\n",
       "      <td>9.000000e+10</td>\n",
       "      <td>150.36</td>\n",
       "      <td>9.091991e+15</td>\n",
       "      <td>True</td>\n",
       "    </tr>\n",
       "    <tr>\n",
       "      <th>2009-01-01 00:04:00</th>\n",
       "      <td>1009.6</td>\n",
       "      <td>65.087</td>\n",
       "      <td>65.951</td>\n",
       "      <td>60.625</td>\n",
       "      <td>-34.909</td>\n",
       "      <td>-35.060</td>\n",
       "      <td>-35.860</td>\n",
       "      <td>182.319</td>\n",
       "      <td>9.000000e+10</td>\n",
       "      <td>150.57</td>\n",
       "      <td>9.091991e+15</td>\n",
       "      <td>True</td>\n",
       "    </tr>\n",
       "  </tbody>\n",
       "</table>\n",
       "</div>"
      ],
      "text/plain": [
       "                     Pressure[mbar]  10MRH[%]  6MRH[%]  2MRH[%]  \\\n",
       "Datetime                                                          \n",
       "2009-01-01 00:00:00          1009.8    64.315   62.984   61.374   \n",
       "2009-01-01 00:01:00          1009.8    62.975   62.150   60.589   \n",
       "2009-01-01 00:02:00          1009.8    63.003   62.699   59.687   \n",
       "2009-01-01 00:03:00          1009.7    63.520   63.929   59.662   \n",
       "2009-01-01 00:04:00          1009.6    65.087   65.951   60.625   \n",
       "\n",
       "                     10MVTair[degC]  6MVTair[degC]  2MVTair[degC]  \\\n",
       "Datetime                                                            \n",
       "2009-01-01 00:00:00         -35.070        -35.191        -35.680   \n",
       "2009-01-01 00:01:00         -34.944        -35.093        -35.755   \n",
       "2009-01-01 00:02:00         -34.976        -35.138        -35.828   \n",
       "2009-01-01 00:03:00         -34.968        -35.133        -35.864   \n",
       "2009-01-01 00:04:00         -34.909        -35.060        -35.860   \n",
       "\n",
       "                     twrLWTotalDownwelling[W/m^2]  twrQualityControl  \\\n",
       "Datetime                                                               \n",
       "2009-01-01 00:00:00                       182.150       9.000000e+10   \n",
       "2009-01-01 00:01:00                       182.109       9.000000e+10   \n",
       "2009-01-01 00:02:00                       182.317       9.000000e+10   \n",
       "2009-01-01 00:03:00                       182.290       9.000000e+10   \n",
       "2009-01-01 00:04:00                       182.319       9.000000e+10   \n",
       "\n",
       "                     LWTotalDownwelling[W/m^2]  bsrnQualityControl  \\\n",
       "Datetime                                                             \n",
       "2009-01-01 00:00:00                        NaN                 NaN   \n",
       "2009-01-01 00:01:00                     150.10        9.091991e+15   \n",
       "2009-01-01 00:02:00                     150.48        9.091991e+15   \n",
       "2009-01-01 00:03:00                     150.36        9.091991e+15   \n",
       "2009-01-01 00:04:00                     150.57        9.091991e+15   \n",
       "\n",
       "                     isnotoutlier  \n",
       "Datetime                           \n",
       "2009-01-01 00:00:00          True  \n",
       "2009-01-01 00:01:00          True  \n",
       "2009-01-01 00:02:00          True  \n",
       "2009-01-01 00:03:00          True  \n",
       "2009-01-01 00:04:00          True  "
      ]
     },
     "execution_count": 20,
     "metadata": {},
     "output_type": "execute_result"
    }
   ],
   "source": [
    "data_df.head()"
   ]
  },
  {
   "cell_type": "code",
   "execution_count": 21,
   "id": "fe33367a-f761-45d7-a475-8ff41a54d551",
   "metadata": {
    "scrolled": true
   },
   "outputs": [
    {
     "data": {
      "text/html": [
       "<div>\n",
       "<style scoped>\n",
       "    .dataframe tbody tr th:only-of-type {\n",
       "        vertical-align: middle;\n",
       "    }\n",
       "\n",
       "    .dataframe tbody tr th {\n",
       "        vertical-align: top;\n",
       "    }\n",
       "\n",
       "    .dataframe thead th {\n",
       "        text-align: right;\n",
       "    }\n",
       "</style>\n",
       "<table border=\"1\" class=\"dataframe\">\n",
       "  <thead>\n",
       "    <tr style=\"text-align: right;\">\n",
       "      <th></th>\n",
       "      <th>Pressure[mbar]</th>\n",
       "      <th>10MRH[%]</th>\n",
       "      <th>6MRH[%]</th>\n",
       "      <th>2MRH[%]</th>\n",
       "      <th>10MVTair[degC]</th>\n",
       "      <th>6MVTair[degC]</th>\n",
       "      <th>2MVTair[degC]</th>\n",
       "      <th>twrLWTotalDownwelling[W/m^2]</th>\n",
       "      <th>twrQualityControl</th>\n",
       "      <th>LWTotalDownwelling[W/m^2]</th>\n",
       "      <th>bsrnQualityControl</th>\n",
       "    </tr>\n",
       "  </thead>\n",
       "  <tbody>\n",
       "    <tr>\n",
       "      <th>count</th>\n",
       "      <td>1440.000000</td>\n",
       "      <td>1440.000000</td>\n",
       "      <td>1440.000000</td>\n",
       "      <td>1440.000000</td>\n",
       "      <td>1440.000000</td>\n",
       "      <td>1440.000000</td>\n",
       "      <td>1440.000000</td>\n",
       "      <td>1440.000000</td>\n",
       "      <td>1.440000e+03</td>\n",
       "      <td>1440.000000</td>\n",
       "      <td>1.440000e+03</td>\n",
       "    </tr>\n",
       "    <tr>\n",
       "      <th>mean</th>\n",
       "      <td>1008.418403</td>\n",
       "      <td>64.313028</td>\n",
       "      <td>64.830333</td>\n",
       "      <td>62.048199</td>\n",
       "      <td>-32.379636</td>\n",
       "      <td>-32.500304</td>\n",
       "      <td>-33.022478</td>\n",
       "      <td>188.416342</td>\n",
       "      <td>9.000000e+10</td>\n",
       "      <td>173.152896</td>\n",
       "      <td>2.603644e+16</td>\n",
       "    </tr>\n",
       "    <tr>\n",
       "      <th>std</th>\n",
       "      <td>0.968669</td>\n",
       "      <td>1.333596</td>\n",
       "      <td>1.333707</td>\n",
       "      <td>1.170353</td>\n",
       "      <td>1.138639</td>\n",
       "      <td>1.052284</td>\n",
       "      <td>0.990541</td>\n",
       "      <td>3.373707</td>\n",
       "      <td>0.000000e+00</td>\n",
       "      <td>24.909017</td>\n",
       "      <td>2.676780e+17</td>\n",
       "    </tr>\n",
       "    <tr>\n",
       "      <th>min</th>\n",
       "      <td>1006.600000</td>\n",
       "      <td>60.138000</td>\n",
       "      <td>59.160000</td>\n",
       "      <td>58.506000</td>\n",
       "      <td>-35.112000</td>\n",
       "      <td>-35.191000</td>\n",
       "      <td>-35.864000</td>\n",
       "      <td>182.089000</td>\n",
       "      <td>9.000000e+10</td>\n",
       "      <td>147.090000</td>\n",
       "      <td>9.091991e+15</td>\n",
       "    </tr>\n",
       "    <tr>\n",
       "      <th>25%</th>\n",
       "      <td>1007.500000</td>\n",
       "      <td>63.426750</td>\n",
       "      <td>64.007250</td>\n",
       "      <td>61.298000</td>\n",
       "      <td>-33.165000</td>\n",
       "      <td>-33.335500</td>\n",
       "      <td>-33.849250</td>\n",
       "      <td>185.582500</td>\n",
       "      <td>9.000000e+10</td>\n",
       "      <td>150.797500</td>\n",
       "      <td>9.091991e+15</td>\n",
       "    </tr>\n",
       "    <tr>\n",
       "      <th>50%</th>\n",
       "      <td>1008.600000</td>\n",
       "      <td>64.315000</td>\n",
       "      <td>64.877000</td>\n",
       "      <td>62.064000</td>\n",
       "      <td>-32.423000</td>\n",
       "      <td>-32.528500</td>\n",
       "      <td>-33.004500</td>\n",
       "      <td>188.045000</td>\n",
       "      <td>9.000000e+10</td>\n",
       "      <td>160.920000</td>\n",
       "      <td>9.091991e+15</td>\n",
       "    </tr>\n",
       "    <tr>\n",
       "      <th>75%</th>\n",
       "      <td>1009.200000</td>\n",
       "      <td>65.124000</td>\n",
       "      <td>65.694500</td>\n",
       "      <td>62.830500</td>\n",
       "      <td>-31.466250</td>\n",
       "      <td>-31.687000</td>\n",
       "      <td>-32.341000</td>\n",
       "      <td>190.634250</td>\n",
       "      <td>9.000000e+10</td>\n",
       "      <td>196.955000</td>\n",
       "      <td>9.091991e+15</td>\n",
       "    </tr>\n",
       "    <tr>\n",
       "      <th>max</th>\n",
       "      <td>1010.100000</td>\n",
       "      <td>68.614000</td>\n",
       "      <td>68.989000</td>\n",
       "      <td>66.058000</td>\n",
       "      <td>-29.611000</td>\n",
       "      <td>-29.729000</td>\n",
       "      <td>-30.771000</td>\n",
       "      <td>197.145000</td>\n",
       "      <td>9.000000e+10</td>\n",
       "      <td>230.830000</td>\n",
       "      <td>5.309092e+18</td>\n",
       "    </tr>\n",
       "  </tbody>\n",
       "</table>\n",
       "</div>"
      ],
      "text/plain": [
       "       Pressure[mbar]     10MRH[%]      6MRH[%]      2MRH[%]  10MVTair[degC]  \\\n",
       "count     1440.000000  1440.000000  1440.000000  1440.000000     1440.000000   \n",
       "mean      1008.418403    64.313028    64.830333    62.048199      -32.379636   \n",
       "std          0.968669     1.333596     1.333707     1.170353        1.138639   \n",
       "min       1006.600000    60.138000    59.160000    58.506000      -35.112000   \n",
       "25%       1007.500000    63.426750    64.007250    61.298000      -33.165000   \n",
       "50%       1008.600000    64.315000    64.877000    62.064000      -32.423000   \n",
       "75%       1009.200000    65.124000    65.694500    62.830500      -31.466250   \n",
       "max       1010.100000    68.614000    68.989000    66.058000      -29.611000   \n",
       "\n",
       "       6MVTair[degC]  2MVTair[degC]  twrLWTotalDownwelling[W/m^2]  \\\n",
       "count    1440.000000    1440.000000                   1440.000000   \n",
       "mean      -32.500304     -33.022478                    188.416342   \n",
       "std         1.052284       0.990541                      3.373707   \n",
       "min       -35.191000     -35.864000                    182.089000   \n",
       "25%       -33.335500     -33.849250                    185.582500   \n",
       "50%       -32.528500     -33.004500                    188.045000   \n",
       "75%       -31.687000     -32.341000                    190.634250   \n",
       "max       -29.729000     -30.771000                    197.145000   \n",
       "\n",
       "       twrQualityControl  LWTotalDownwelling[W/m^2]  bsrnQualityControl  \n",
       "count       1.440000e+03                1440.000000        1.440000e+03  \n",
       "mean        9.000000e+10                 173.152896        2.603644e+16  \n",
       "std         0.000000e+00                  24.909017        2.676780e+17  \n",
       "min         9.000000e+10                 147.090000        9.091991e+15  \n",
       "25%         9.000000e+10                 150.797500        9.091991e+15  \n",
       "50%         9.000000e+10                 160.920000        9.091991e+15  \n",
       "75%         9.000000e+10                 196.955000        9.091991e+15  \n",
       "max         9.000000e+10                 230.830000        5.309092e+18  "
      ]
     },
     "execution_count": 21,
     "metadata": {},
     "output_type": "execute_result"
    }
   ],
   "source": [
    "data_df.describe()"
   ]
  },
  {
   "cell_type": "code",
   "execution_count": 22,
   "id": "eac91397-891e-478e-93b4-c2adc0c70011",
   "metadata": {},
   "outputs": [],
   "source": [
    "# ref_df.describe()"
   ]
  },
  {
   "cell_type": "code",
   "execution_count": 23,
   "id": "09224867-20b1-4877-afcf-ed266a642822",
   "metadata": {},
   "outputs": [
    {
     "data": {
      "text/plain": [
       "Index(['Pressure[mbar]', '10MRH[%]', '6MRH[%]', '2MRH[%]', '10MVTair[degC]',\n",
       "       '6MVTair[degC]', '2MVTair[degC]', 'twrLWTotalDownwelling[W/m^2]',\n",
       "       'twrQualityControl', 'LWTotalDownwelling[W/m^2]', 'bsrnQualityControl',\n",
       "       'isnotoutlier'],\n",
       "      dtype='object')"
      ]
     },
     "execution_count": 23,
     "metadata": {},
     "output_type": "execute_result"
    }
   ],
   "source": [
    "data_df.columns"
   ]
  },
  {
   "cell_type": "code",
   "execution_count": 24,
   "id": "f12c5542-b678-4ed4-9b72-5b0049913177",
   "metadata": {
    "scrolled": true
   },
   "outputs": [
    {
     "data": {
      "text/plain": [
       "DatetimeIndex(['2009-01-01 00:00:00', '2009-01-01 00:01:00',\n",
       "               '2009-01-01 00:02:00', '2009-01-01 00:03:00',\n",
       "               '2009-01-01 00:04:00', '2009-01-01 00:05:00',\n",
       "               '2009-01-01 00:06:00', '2009-01-01 00:07:00',\n",
       "               '2009-01-01 00:08:00', '2009-01-01 00:09:00',\n",
       "               ...\n",
       "               '2009-01-01 23:51:00', '2009-01-01 23:52:00',\n",
       "               '2009-01-01 23:53:00', '2009-01-01 23:54:00',\n",
       "               '2009-01-01 23:55:00', '2009-01-01 23:56:00',\n",
       "               '2009-01-01 23:57:00', '2009-01-01 23:58:00',\n",
       "               '2009-01-01 23:59:00', '2009-01-02 00:00:00'],\n",
       "              dtype='datetime64[ns]', name='Datetime', length=1441, freq=None)"
      ]
     },
     "execution_count": 24,
     "metadata": {},
     "output_type": "execute_result"
    }
   ],
   "source": [
    "data_df.index"
   ]
  },
  {
   "cell_type": "markdown",
   "id": "f5aaf706-e19b-446a-bc8c-fff888ea5bb7",
   "metadata": {},
   "source": [
    "### Night Filter\n",
    "\n",
    "This filter takes out any data when the sun is less than 15 degrees below the horizon."
   ]
  },
  {
   "cell_type": "markdown",
   "id": "4b1b8942-b29e-408c-8b72-3f471c82d012",
   "metadata": {},
   "source": [
    "#### Get back JulianDay"
   ]
  },
  {
   "cell_type": "code",
   "execution_count": 25,
   "id": "aa918354-2b12-4710-b9b1-195bd9594f9b",
   "metadata": {},
   "outputs": [],
   "source": [
    "data_df['JulianDay'] = data_df.index.dayofyear"
   ]
  },
  {
   "cell_type": "code",
   "execution_count": 26,
   "id": "5a935ef8-a262-4bdb-ae7a-bacf2fbda99d",
   "metadata": {},
   "outputs": [],
   "source": [
    "# Set Lat and Long for stationary sites\n",
    "lat = 79.983 # North(+)\n",
    "long = 85.95 # West(+)"
   ]
  },
  {
   "cell_type": "markdown",
   "id": "89419447-6e5a-4f34-90d3-d0baaa9f916a",
   "metadata": {},
   "source": [
    "#### 1) Determine declination"
   ]
  },
  {
   "cell_type": "markdown",
   "id": "fca13b9b-a671-4a6d-b901-07510ab5db74",
   "metadata": {},
   "source": [
    "define sin/cos functions that expect degrees as the input"
   ]
  },
  {
   "cell_type": "code",
   "execution_count": 27,
   "id": "431c72f1-1762-4098-80db-a9cc38d60233",
   "metadata": {},
   "outputs": [],
   "source": [
    "def cosd(degrees):\n",
    "     return np.cos(np.deg2rad(degrees))\n",
    "def sind(degrees):\n",
    "    return np.sin(np.deg2rad(degrees))"
   ]
  },
  {
   "cell_type": "code",
   "execution_count": 28,
   "id": "0b40cb06-331a-4488-8656-5a9b762cbec6",
   "metadata": {},
   "outputs": [],
   "source": [
    "data_df['B'] = (data_df['JulianDay'] - 1)*(360/365)\n",
    "data_df['decl'] = (180/np.pi)*(0.006918 - 0.399912*cosd(data_df['B']) + 0.070257*sind(data_df['B']) - 0.006785*cosd(2*data_df['B']) + 0.000907*sind(2*data_df['B']) - 0.002697*cosd(3*data_df['B']) + 0.00148*sind(3*data_df['B']))\n",
    "# data_df['decl'] = 23.45*sind(360*(284 + data_df['JulianDay'])/365) # Less accurate but typically adequate for most engineering purposes"
   ]
  },
  {
   "cell_type": "markdown",
   "id": "c04d2545-c8c4-4f24-8546-febb7144913a",
   "metadata": {},
   "source": [
    "#### 2) Determine hour angle"
   ]
  },
  {
   "cell_type": "markdown",
   "id": "09ac30a5-221c-4661-a273-d7f1ee04c698",
   "metadata": {},
   "source": [
    "2a) determine local time in terms of minutes from solar noon (+ afternoon, - morning)\n",
    "\n",
    "**Eureka data is logged as GMT/UTC time**"
   ]
  },
  {
   "cell_type": "code",
   "execution_count": 29,
   "id": "af129b96-e961-4a48-9d4f-7d12147d39d4",
   "metadata": {},
   "outputs": [],
   "source": [
    "data_df['E'] = 229.2*(0.000075 + 0.001868*cosd(data_df['B']) - 0.032077*sind(data_df['B']) - 0.014615*cosd(2*data_df['B']) - 0.04089*sind(2*data_df['B']))\n",
    "\n",
    "data_df['t_corr'] = round(4*(0-long) + data_df['E'])"
   ]
  },
  {
   "cell_type": "code",
   "execution_count": 30,
   "id": "614f90a2-a03f-4403-83a2-7f88a024a278",
   "metadata": {},
   "outputs": [
    {
     "data": {
      "text/plain": [
       "Datetime\n",
       "2009-01-01 00:00:00   -347.0\n",
       "2009-01-01 00:01:00   -347.0\n",
       "2009-01-01 00:02:00   -347.0\n",
       "2009-01-01 00:03:00   -347.0\n",
       "2009-01-01 00:04:00   -347.0\n",
       "                       ...  \n",
       "2009-01-01 23:56:00   -347.0\n",
       "2009-01-01 23:57:00   -347.0\n",
       "2009-01-01 23:58:00   -347.0\n",
       "2009-01-01 23:59:00   -347.0\n",
       "2009-01-02 00:00:00   -347.0\n",
       "Name: t_corr, Length: 1441, dtype: float64"
      ]
     },
     "execution_count": 30,
     "metadata": {},
     "output_type": "execute_result"
    }
   ],
   "source": [
    "data_df['t_corr']"
   ]
  },
  {
   "cell_type": "markdown",
   "id": "7ceb63a7-8c25-485a-bd2f-f39da9cc1cc2",
   "metadata": {},
   "source": [
    "Calculate local (solar) time"
   ]
  },
  {
   "cell_type": "code",
   "execution_count": 31,
   "id": "be3d1f20-954f-44b3-89b1-1dad2c61a0b7",
   "metadata": {},
   "outputs": [],
   "source": [
    "data_df['LocalTime'] = data_df.index.to_series().apply(lambda dt: dt + pd.Timedelta(minutes=int(data_df.loc[dt, 't_corr'])))"
   ]
  },
  {
   "cell_type": "markdown",
   "id": "9a13961a-9902-4736-8cf0-2fe9878d80b1",
   "metadata": {},
   "source": [
    "Calculate minutes from solar noon"
   ]
  },
  {
   "cell_type": "code",
   "execution_count": 32,
   "id": "c3a4e4c6-5fb3-4500-9b4f-ce5173413e85",
   "metadata": {},
   "outputs": [],
   "source": [
    "data_df['date'] = data_df['LocalTime'].dt.date\n",
    "\n",
    "data_df['noon'] = pd.to_datetime(data_df['date'].astype(str) + ' 12:00:00')\n",
    "\n",
    "data_df['minutes_from_noon'] = (data_df['LocalTime'] - data_df['noon']).dt.total_seconds() / 60\n",
    "\n",
    "data_df = data_df.drop(['date', 'noon'], axis=1)"
   ]
  },
  {
   "cell_type": "markdown",
   "id": "8269bceb-70ef-45d7-a97a-6791187b542c",
   "metadata": {},
   "source": [
    "Calculate hour angle (w)"
   ]
  },
  {
   "cell_type": "code",
   "execution_count": 33,
   "id": "0a767093-8d43-47d7-9eef-6ebb8565c07b",
   "metadata": {},
   "outputs": [],
   "source": [
    "data_df['w'] = data_df['minutes_from_noon'] * (360/1440)"
   ]
  },
  {
   "cell_type": "markdown",
   "id": "bcabf8aa-5fee-43f0-97e9-973a901efc7e",
   "metadata": {},
   "source": [
    "#### 3) Calculate zenith angle\n",
    "\n",
    "Zenith angle is the angle between the verticle to the sun. It is the compliment of the altitude angle, which represents the angle between the sun and the horizon."
   ]
  },
  {
   "cell_type": "code",
   "execution_count": 34,
   "id": "bdc90b12-5ce1-4b52-b593-9abdc0800aa5",
   "metadata": {},
   "outputs": [],
   "source": [
    "data_df['theta_z'] =  np.degrees(np.arccos(cosd(lat) * cosd(data_df['decl']) * cosd(data_df['w']) + sind(lat) * sind(data_df['decl'])))"
   ]
  },
  {
   "cell_type": "code",
   "execution_count": 35,
   "id": "f51088f4-23d8-4694-8794-db32c1ed821f",
   "metadata": {},
   "outputs": [
    {
     "name": "stdout",
     "output_type": "stream",
     "text": [
      "103.04317615530732\n",
      "123.07717615530733\n"
     ]
    }
   ],
   "source": [
    "print(min(data_df['theta_z']))\n",
    "print(max(data_df['theta_z']))"
   ]
  },
  {
   "cell_type": "markdown",
   "id": "2ada97a1-505b-41ca-a30c-a3e69960d9fc",
   "metadata": {},
   "source": [
    "#### 4) Determine whether it is night based on the zenith angle\n",
    "\n",
    "We will define 'night' as when the sun is 15 degrees or more below the horizon, or when zenith angle exceeds 105"
   ]
  },
  {
   "cell_type": "code",
   "execution_count": 36,
   "id": "d5355226-1297-4cc7-a094-6ea29e6f3d09",
   "metadata": {},
   "outputs": [],
   "source": [
    "data_df['isnight'] = data_df['theta_z'] > 95"
   ]
  },
  {
   "cell_type": "code",
   "execution_count": 37,
   "id": "d2da2f20-ceb6-4661-8e72-e000eed14e21",
   "metadata": {},
   "outputs": [
    {
     "data": {
      "text/html": [
       "<div>\n",
       "<style scoped>\n",
       "    .dataframe tbody tr th:only-of-type {\n",
       "        vertical-align: middle;\n",
       "    }\n",
       "\n",
       "    .dataframe tbody tr th {\n",
       "        vertical-align: top;\n",
       "    }\n",
       "\n",
       "    .dataframe thead th {\n",
       "        text-align: right;\n",
       "    }\n",
       "</style>\n",
       "<table border=\"1\" class=\"dataframe\">\n",
       "  <thead>\n",
       "    <tr style=\"text-align: right;\">\n",
       "      <th></th>\n",
       "      <th>Pressure[mbar]</th>\n",
       "      <th>10MRH[%]</th>\n",
       "      <th>6MRH[%]</th>\n",
       "      <th>2MRH[%]</th>\n",
       "      <th>10MVTair[degC]</th>\n",
       "      <th>6MVTair[degC]</th>\n",
       "      <th>2MVTair[degC]</th>\n",
       "      <th>twrLWTotalDownwelling[W/m^2]</th>\n",
       "      <th>twrQualityControl</th>\n",
       "      <th>LWTotalDownwelling[W/m^2]</th>\n",
       "      <th>...</th>\n",
       "      <th>JulianDay</th>\n",
       "      <th>B</th>\n",
       "      <th>decl</th>\n",
       "      <th>E</th>\n",
       "      <th>t_corr</th>\n",
       "      <th>LocalTime</th>\n",
       "      <th>minutes_from_noon</th>\n",
       "      <th>w</th>\n",
       "      <th>theta_z</th>\n",
       "      <th>isnight</th>\n",
       "    </tr>\n",
       "    <tr>\n",
       "      <th>Datetime</th>\n",
       "      <th></th>\n",
       "      <th></th>\n",
       "      <th></th>\n",
       "      <th></th>\n",
       "      <th></th>\n",
       "      <th></th>\n",
       "      <th></th>\n",
       "      <th></th>\n",
       "      <th></th>\n",
       "      <th></th>\n",
       "      <th></th>\n",
       "      <th></th>\n",
       "      <th></th>\n",
       "      <th></th>\n",
       "      <th></th>\n",
       "      <th></th>\n",
       "      <th></th>\n",
       "      <th></th>\n",
       "      <th></th>\n",
       "      <th></th>\n",
       "      <th></th>\n",
       "    </tr>\n",
       "  </thead>\n",
       "  <tbody>\n",
       "    <tr>\n",
       "      <th>2009-01-01 00:00:00</th>\n",
       "      <td>1009.8</td>\n",
       "      <td>64.315</td>\n",
       "      <td>62.984</td>\n",
       "      <td>61.374</td>\n",
       "      <td>-35.070</td>\n",
       "      <td>-35.191</td>\n",
       "      <td>-35.680</td>\n",
       "      <td>182.150</td>\n",
       "      <td>9.000000e+10</td>\n",
       "      <td>NaN</td>\n",
       "      <td>...</td>\n",
       "      <td>1</td>\n",
       "      <td>0.000000</td>\n",
       "      <td>-23.060176</td>\n",
       "      <td>-2.904422</td>\n",
       "      <td>-347.0</td>\n",
       "      <td>2008-12-31 18:13:00</td>\n",
       "      <td>373.0</td>\n",
       "      <td>93.25</td>\n",
       "      <td>113.253496</td>\n",
       "      <td>True</td>\n",
       "    </tr>\n",
       "    <tr>\n",
       "      <th>2009-01-01 00:01:00</th>\n",
       "      <td>1009.8</td>\n",
       "      <td>62.975</td>\n",
       "      <td>62.150</td>\n",
       "      <td>60.589</td>\n",
       "      <td>-34.944</td>\n",
       "      <td>-35.093</td>\n",
       "      <td>-35.755</td>\n",
       "      <td>182.109</td>\n",
       "      <td>9.000000e+10</td>\n",
       "      <td>150.10</td>\n",
       "      <td>...</td>\n",
       "      <td>1</td>\n",
       "      <td>0.000000</td>\n",
       "      <td>-23.060176</td>\n",
       "      <td>-2.904422</td>\n",
       "      <td>-347.0</td>\n",
       "      <td>2008-12-31 18:14:00</td>\n",
       "      <td>374.0</td>\n",
       "      <td>93.50</td>\n",
       "      <td>113.296976</td>\n",
       "      <td>True</td>\n",
       "    </tr>\n",
       "    <tr>\n",
       "      <th>2009-01-01 00:02:00</th>\n",
       "      <td>1009.8</td>\n",
       "      <td>63.003</td>\n",
       "      <td>62.699</td>\n",
       "      <td>59.687</td>\n",
       "      <td>-34.976</td>\n",
       "      <td>-35.138</td>\n",
       "      <td>-35.828</td>\n",
       "      <td>182.317</td>\n",
       "      <td>9.000000e+10</td>\n",
       "      <td>150.48</td>\n",
       "      <td>...</td>\n",
       "      <td>1</td>\n",
       "      <td>0.000000</td>\n",
       "      <td>-23.060176</td>\n",
       "      <td>-2.904422</td>\n",
       "      <td>-347.0</td>\n",
       "      <td>2008-12-31 18:15:00</td>\n",
       "      <td>375.0</td>\n",
       "      <td>93.75</td>\n",
       "      <td>113.340458</td>\n",
       "      <td>True</td>\n",
       "    </tr>\n",
       "    <tr>\n",
       "      <th>2009-01-01 00:03:00</th>\n",
       "      <td>1009.7</td>\n",
       "      <td>63.520</td>\n",
       "      <td>63.929</td>\n",
       "      <td>59.662</td>\n",
       "      <td>-34.968</td>\n",
       "      <td>-35.133</td>\n",
       "      <td>-35.864</td>\n",
       "      <td>182.290</td>\n",
       "      <td>9.000000e+10</td>\n",
       "      <td>150.36</td>\n",
       "      <td>...</td>\n",
       "      <td>1</td>\n",
       "      <td>0.000000</td>\n",
       "      <td>-23.060176</td>\n",
       "      <td>-2.904422</td>\n",
       "      <td>-347.0</td>\n",
       "      <td>2008-12-31 18:16:00</td>\n",
       "      <td>376.0</td>\n",
       "      <td>94.00</td>\n",
       "      <td>113.383942</td>\n",
       "      <td>True</td>\n",
       "    </tr>\n",
       "    <tr>\n",
       "      <th>2009-01-01 00:04:00</th>\n",
       "      <td>1009.6</td>\n",
       "      <td>65.087</td>\n",
       "      <td>65.951</td>\n",
       "      <td>60.625</td>\n",
       "      <td>-34.909</td>\n",
       "      <td>-35.060</td>\n",
       "      <td>-35.860</td>\n",
       "      <td>182.319</td>\n",
       "      <td>9.000000e+10</td>\n",
       "      <td>150.57</td>\n",
       "      <td>...</td>\n",
       "      <td>1</td>\n",
       "      <td>0.000000</td>\n",
       "      <td>-23.060176</td>\n",
       "      <td>-2.904422</td>\n",
       "      <td>-347.0</td>\n",
       "      <td>2008-12-31 18:17:00</td>\n",
       "      <td>377.0</td>\n",
       "      <td>94.25</td>\n",
       "      <td>113.427427</td>\n",
       "      <td>True</td>\n",
       "    </tr>\n",
       "    <tr>\n",
       "      <th>...</th>\n",
       "      <td>...</td>\n",
       "      <td>...</td>\n",
       "      <td>...</td>\n",
       "      <td>...</td>\n",
       "      <td>...</td>\n",
       "      <td>...</td>\n",
       "      <td>...</td>\n",
       "      <td>...</td>\n",
       "      <td>...</td>\n",
       "      <td>...</td>\n",
       "      <td>...</td>\n",
       "      <td>...</td>\n",
       "      <td>...</td>\n",
       "      <td>...</td>\n",
       "      <td>...</td>\n",
       "      <td>...</td>\n",
       "      <td>...</td>\n",
       "      <td>...</td>\n",
       "      <td>...</td>\n",
       "      <td>...</td>\n",
       "      <td>...</td>\n",
       "    </tr>\n",
       "    <tr>\n",
       "      <th>2009-01-01 23:56:00</th>\n",
       "      <td>1007.0</td>\n",
       "      <td>64.239</td>\n",
       "      <td>64.277</td>\n",
       "      <td>62.600</td>\n",
       "      <td>-31.433</td>\n",
       "      <td>-31.746</td>\n",
       "      <td>-31.801</td>\n",
       "      <td>194.803</td>\n",
       "      <td>9.000000e+10</td>\n",
       "      <td>204.33</td>\n",
       "      <td>...</td>\n",
       "      <td>1</td>\n",
       "      <td>0.000000</td>\n",
       "      <td>-23.060176</td>\n",
       "      <td>-2.904422</td>\n",
       "      <td>-347.0</td>\n",
       "      <td>2009-01-01 18:09:00</td>\n",
       "      <td>369.0</td>\n",
       "      <td>92.25</td>\n",
       "      <td>113.079621</td>\n",
       "      <td>True</td>\n",
       "    </tr>\n",
       "    <tr>\n",
       "      <th>2009-01-01 23:57:00</th>\n",
       "      <td>1007.0</td>\n",
       "      <td>64.493</td>\n",
       "      <td>64.850</td>\n",
       "      <td>62.608</td>\n",
       "      <td>-31.401</td>\n",
       "      <td>-31.747</td>\n",
       "      <td>-31.815</td>\n",
       "      <td>194.898</td>\n",
       "      <td>9.000000e+10</td>\n",
       "      <td>203.49</td>\n",
       "      <td>...</td>\n",
       "      <td>1</td>\n",
       "      <td>0.000000</td>\n",
       "      <td>-23.060176</td>\n",
       "      <td>-2.904422</td>\n",
       "      <td>-347.0</td>\n",
       "      <td>2009-01-01 18:10:00</td>\n",
       "      <td>370.0</td>\n",
       "      <td>92.50</td>\n",
       "      <td>113.123082</td>\n",
       "      <td>True</td>\n",
       "    </tr>\n",
       "    <tr>\n",
       "      <th>2009-01-01 23:58:00</th>\n",
       "      <td>1007.1</td>\n",
       "      <td>65.445</td>\n",
       "      <td>65.413</td>\n",
       "      <td>63.221</td>\n",
       "      <td>-31.391</td>\n",
       "      <td>-31.751</td>\n",
       "      <td>-31.805</td>\n",
       "      <td>194.958</td>\n",
       "      <td>9.000000e+10</td>\n",
       "      <td>202.73</td>\n",
       "      <td>...</td>\n",
       "      <td>1</td>\n",
       "      <td>0.000000</td>\n",
       "      <td>-23.060176</td>\n",
       "      <td>-2.904422</td>\n",
       "      <td>-347.0</td>\n",
       "      <td>2009-01-01 18:11:00</td>\n",
       "      <td>371.0</td>\n",
       "      <td>92.75</td>\n",
       "      <td>113.166549</td>\n",
       "      <td>True</td>\n",
       "    </tr>\n",
       "    <tr>\n",
       "      <th>2009-01-01 23:59:00</th>\n",
       "      <td>1007.0</td>\n",
       "      <td>65.577</td>\n",
       "      <td>65.024</td>\n",
       "      <td>63.756</td>\n",
       "      <td>-31.434</td>\n",
       "      <td>-31.779</td>\n",
       "      <td>-31.809</td>\n",
       "      <td>194.575</td>\n",
       "      <td>9.000000e+10</td>\n",
       "      <td>201.69</td>\n",
       "      <td>...</td>\n",
       "      <td>1</td>\n",
       "      <td>0.000000</td>\n",
       "      <td>-23.060176</td>\n",
       "      <td>-2.904422</td>\n",
       "      <td>-347.0</td>\n",
       "      <td>2009-01-01 18:12:00</td>\n",
       "      <td>372.0</td>\n",
       "      <td>93.00</td>\n",
       "      <td>113.210020</td>\n",
       "      <td>True</td>\n",
       "    </tr>\n",
       "    <tr>\n",
       "      <th>2009-01-02 00:00:00</th>\n",
       "      <td>NaN</td>\n",
       "      <td>NaN</td>\n",
       "      <td>NaN</td>\n",
       "      <td>NaN</td>\n",
       "      <td>NaN</td>\n",
       "      <td>NaN</td>\n",
       "      <td>NaN</td>\n",
       "      <td>NaN</td>\n",
       "      <td>NaN</td>\n",
       "      <td>200.70</td>\n",
       "      <td>...</td>\n",
       "      <td>2</td>\n",
       "      <td>0.986301</td>\n",
       "      <td>-22.980888</td>\n",
       "      <td>-3.351653</td>\n",
       "      <td>-347.0</td>\n",
       "      <td>2009-01-01 18:13:00</td>\n",
       "      <td>373.0</td>\n",
       "      <td>93.25</td>\n",
       "      <td>113.175636</td>\n",
       "      <td>True</td>\n",
       "    </tr>\n",
       "  </tbody>\n",
       "</table>\n",
       "<p>1441 rows × 22 columns</p>\n",
       "</div>"
      ],
      "text/plain": [
       "                     Pressure[mbar]  10MRH[%]  6MRH[%]  2MRH[%]  \\\n",
       "Datetime                                                          \n",
       "2009-01-01 00:00:00          1009.8    64.315   62.984   61.374   \n",
       "2009-01-01 00:01:00          1009.8    62.975   62.150   60.589   \n",
       "2009-01-01 00:02:00          1009.8    63.003   62.699   59.687   \n",
       "2009-01-01 00:03:00          1009.7    63.520   63.929   59.662   \n",
       "2009-01-01 00:04:00          1009.6    65.087   65.951   60.625   \n",
       "...                             ...       ...      ...      ...   \n",
       "2009-01-01 23:56:00          1007.0    64.239   64.277   62.600   \n",
       "2009-01-01 23:57:00          1007.0    64.493   64.850   62.608   \n",
       "2009-01-01 23:58:00          1007.1    65.445   65.413   63.221   \n",
       "2009-01-01 23:59:00          1007.0    65.577   65.024   63.756   \n",
       "2009-01-02 00:00:00             NaN       NaN      NaN      NaN   \n",
       "\n",
       "                     10MVTair[degC]  6MVTair[degC]  2MVTair[degC]  \\\n",
       "Datetime                                                            \n",
       "2009-01-01 00:00:00         -35.070        -35.191        -35.680   \n",
       "2009-01-01 00:01:00         -34.944        -35.093        -35.755   \n",
       "2009-01-01 00:02:00         -34.976        -35.138        -35.828   \n",
       "2009-01-01 00:03:00         -34.968        -35.133        -35.864   \n",
       "2009-01-01 00:04:00         -34.909        -35.060        -35.860   \n",
       "...                             ...            ...            ...   \n",
       "2009-01-01 23:56:00         -31.433        -31.746        -31.801   \n",
       "2009-01-01 23:57:00         -31.401        -31.747        -31.815   \n",
       "2009-01-01 23:58:00         -31.391        -31.751        -31.805   \n",
       "2009-01-01 23:59:00         -31.434        -31.779        -31.809   \n",
       "2009-01-02 00:00:00             NaN            NaN            NaN   \n",
       "\n",
       "                     twrLWTotalDownwelling[W/m^2]  twrQualityControl  \\\n",
       "Datetime                                                               \n",
       "2009-01-01 00:00:00                       182.150       9.000000e+10   \n",
       "2009-01-01 00:01:00                       182.109       9.000000e+10   \n",
       "2009-01-01 00:02:00                       182.317       9.000000e+10   \n",
       "2009-01-01 00:03:00                       182.290       9.000000e+10   \n",
       "2009-01-01 00:04:00                       182.319       9.000000e+10   \n",
       "...                                           ...                ...   \n",
       "2009-01-01 23:56:00                       194.803       9.000000e+10   \n",
       "2009-01-01 23:57:00                       194.898       9.000000e+10   \n",
       "2009-01-01 23:58:00                       194.958       9.000000e+10   \n",
       "2009-01-01 23:59:00                       194.575       9.000000e+10   \n",
       "2009-01-02 00:00:00                           NaN                NaN   \n",
       "\n",
       "                     LWTotalDownwelling[W/m^2]  ...  JulianDay         B  \\\n",
       "Datetime                                        ...                        \n",
       "2009-01-01 00:00:00                        NaN  ...          1  0.000000   \n",
       "2009-01-01 00:01:00                     150.10  ...          1  0.000000   \n",
       "2009-01-01 00:02:00                     150.48  ...          1  0.000000   \n",
       "2009-01-01 00:03:00                     150.36  ...          1  0.000000   \n",
       "2009-01-01 00:04:00                     150.57  ...          1  0.000000   \n",
       "...                                        ...  ...        ...       ...   \n",
       "2009-01-01 23:56:00                     204.33  ...          1  0.000000   \n",
       "2009-01-01 23:57:00                     203.49  ...          1  0.000000   \n",
       "2009-01-01 23:58:00                     202.73  ...          1  0.000000   \n",
       "2009-01-01 23:59:00                     201.69  ...          1  0.000000   \n",
       "2009-01-02 00:00:00                     200.70  ...          2  0.986301   \n",
       "\n",
       "                          decl         E  t_corr           LocalTime  \\\n",
       "Datetime                                                               \n",
       "2009-01-01 00:00:00 -23.060176 -2.904422  -347.0 2008-12-31 18:13:00   \n",
       "2009-01-01 00:01:00 -23.060176 -2.904422  -347.0 2008-12-31 18:14:00   \n",
       "2009-01-01 00:02:00 -23.060176 -2.904422  -347.0 2008-12-31 18:15:00   \n",
       "2009-01-01 00:03:00 -23.060176 -2.904422  -347.0 2008-12-31 18:16:00   \n",
       "2009-01-01 00:04:00 -23.060176 -2.904422  -347.0 2008-12-31 18:17:00   \n",
       "...                        ...       ...     ...                 ...   \n",
       "2009-01-01 23:56:00 -23.060176 -2.904422  -347.0 2009-01-01 18:09:00   \n",
       "2009-01-01 23:57:00 -23.060176 -2.904422  -347.0 2009-01-01 18:10:00   \n",
       "2009-01-01 23:58:00 -23.060176 -2.904422  -347.0 2009-01-01 18:11:00   \n",
       "2009-01-01 23:59:00 -23.060176 -2.904422  -347.0 2009-01-01 18:12:00   \n",
       "2009-01-02 00:00:00 -22.980888 -3.351653  -347.0 2009-01-01 18:13:00   \n",
       "\n",
       "                     minutes_from_noon      w     theta_z  isnight  \n",
       "Datetime                                                            \n",
       "2009-01-01 00:00:00              373.0  93.25  113.253496     True  \n",
       "2009-01-01 00:01:00              374.0  93.50  113.296976     True  \n",
       "2009-01-01 00:02:00              375.0  93.75  113.340458     True  \n",
       "2009-01-01 00:03:00              376.0  94.00  113.383942     True  \n",
       "2009-01-01 00:04:00              377.0  94.25  113.427427     True  \n",
       "...                                ...    ...         ...      ...  \n",
       "2009-01-01 23:56:00              369.0  92.25  113.079621     True  \n",
       "2009-01-01 23:57:00              370.0  92.50  113.123082     True  \n",
       "2009-01-01 23:58:00              371.0  92.75  113.166549     True  \n",
       "2009-01-01 23:59:00              372.0  93.00  113.210020     True  \n",
       "2009-01-02 00:00:00              373.0  93.25  113.175636     True  \n",
       "\n",
       "[1441 rows x 22 columns]"
      ]
     },
     "execution_count": 37,
     "metadata": {},
     "output_type": "execute_result"
    }
   ],
   "source": [
    "data_df"
   ]
  },
  {
   "cell_type": "code",
   "execution_count": 38,
   "id": "3d8faa81-5114-4a67-9eae-ff63b8835c4e",
   "metadata": {
    "scrolled": true
   },
   "outputs": [
    {
     "data": {
      "text/plain": [
       "<matplotlib.legend.Legend at 0x14edf1d26f0>"
      ]
     },
     "execution_count": 38,
     "metadata": {},
     "output_type": "execute_result"
    },
    {
     "data": {
      "image/png": "[encoded data removed]",
      "text/plain": [
       "<Figure size 1000x600 with 1 Axes>"
      ]
     },
     "metadata": {},
     "output_type": "display_data"
    }
   ],
   "source": [
    "plt.figure(figsize=(10, 6))\n",
    "plt.plot(data_df['LocalTime'], data_df['theta_z'], label='Solar Zenith Angle')\n",
    "\n",
    "plt.gca().xaxis.set_major_locator(mdates.DayLocator(interval=5))  # Show a tick every 5 days\n",
    "plt.gca().xaxis.set_major_formatter(mdates.DateFormatter('%Y-%m-%d'))  # Format the date\n",
    "\n",
    "plt.xlabel('Date')\n",
    "plt.ylabel('Degrees')\n",
    "plt.title('Solar Zenith Angle')\n",
    "\n",
    "plt.grid(True)\n",
    "\n",
    "plt.gcf().autofmt_xdate()\n",
    "\n",
    "plt.legend()"
   ]
  },
  {
   "cell_type": "markdown",
   "id": "b3f4766b-64b9-49a9-9ec9-37de84d8b14c",
   "metadata": {},
   "source": [
    "The discontinuities at visible are the result of declination changing once per day, by our equation."
   ]
  },
  {
   "cell_type": "markdown",
   "id": "212749db-8eea-461c-8ba7-b8cf00bcd748",
   "metadata": {},
   "source": [
    "#### Clear-sky filter 1\n",
    "\n",
    "Comparison to expected emissivity"
   ]
  },
  {
   "cell_type": "code",
   "execution_count": 39,
   "id": "e8d67ed5-2f4c-4a69-968e-542e4449241a",
   "metadata": {},
   "outputs": [],
   "source": [
    "# THIS IS A TEST\n",
    "np.random.seed(0) #for reproducibility\n",
    "data_df['isclear1'] = np.random.choice([True, False], size=len(data_df))"
   ]
  },
  {
   "cell_type": "markdown",
   "id": "f94d893a-e446-4359-89e8-c6277f935c29",
   "metadata": {},
   "source": [
    "#### Create tool for selecting filters"
   ]
  },
  {
   "cell_type": "code",
   "execution_count": 40,
   "id": "ebc3c00b-a2ec-4091-bbc9-2f7386ded942",
   "metadata": {},
   "outputs": [],
   "source": [
    "# This lists all filters available, it does not apply these filters\n",
    "filters = {\n",
    "    'isnotoutlier': data_df['isnotoutlier'] == True,\n",
    "    'isnight': data_df['isnight'] == True,\n",
    "    'isclear1': data_df['isclear1'] == True,\n",
    "}"
   ]
  },
  {
   "cell_type": "code",
   "execution_count": 41,
   "id": "8f4684f3-b49b-4f33-96cf-b289da239f6c",
   "metadata": {},
   "outputs": [],
   "source": [
    "def select_filters(filters, filter_keys):\n",
    "    # Start with a Series of True values (assuming you want to include all rows by default)\n",
    "    select = pd.Series([True] * len(data_df), index=data_df.index)\n",
    "    \n",
    "    # Iterate through the keys of the conditions you want to apply and combine them\n",
    "    for key in filter_keys:\n",
    "        select &= filters[key]  # Using &= to apply logical AND with the current condition\n",
    "        \n",
    "    return select"
   ]
  },
  {
   "cell_type": "markdown",
   "id": "bbed1793-38b3-4859-8026-90bf281ac8da",
   "metadata": {},
   "source": [
    "## Select filters to apply"
   ]
  },
  {
   "cell_type": "markdown",
   "id": "64deaf68-0ea1-49f7-813b-7a4f8680f6b4",
   "metadata": {},
   "source": [
    "List of Filters\n",
    "\n",
    "'isnotoutlier', 'isnight', 'isclear1'"
   ]
  },
  {
   "cell_type": "code",
   "execution_count": 42,
   "id": "254c1df9-23a2-479c-909c-664383f2bedb",
   "metadata": {},
   "outputs": [],
   "source": [
    "# This selects which filters to apply\n",
    "filter_keys = [\n",
    "    'isnotoutlier', \n",
    "    'isnight', \n",
    "    # 'isclear1'\n",
    "]  # Add or remove condition keys as needed (copy/paste from list above)\n",
    "\n",
    "# Get the combined condition\n",
    "selected_filters = select_filters(filters, filter_keys)\n",
    "filtered_df = data_df[selected_filters].copy()"
   ]
  },
  {
   "cell_type": "code",
   "execution_count": 43,
   "id": "85c581b8-bb9a-4882-963e-7a40e3b5d085",
   "metadata": {},
   "outputs": [
    {
     "data": {
      "text/plain": [
       "(1441, 84)"
      ]
     },
     "execution_count": 43,
     "metadata": {},
     "output_type": "execute_result"
    }
   ],
   "source": [
    "len(data_df), len(data_df) - len(filtered_df)"
   ]
  },
  {
   "cell_type": "markdown",
   "id": "65936955-c2e3-4a43-b635-95a74fab9875",
   "metadata": {},
   "source": [
    "## 1) Calculate effective emissivity"
   ]
  },
  {
   "cell_type": "markdown",
   "id": "2f33cc12-d1d0-43ce-abfe-972941014245",
   "metadata": {},
   "source": [
    "### Calculate effective emissivity from measured DLR and Temperature\n",
    "\n",
    "$\\varepsilon = \\frac{\\rm DLR}{\\sigma T_a}$"
   ]
  },
  {
   "cell_type": "code",
   "execution_count": 44,
   "id": "e6cfa749-1340-4f61-b2ea-f6c723886b2b",
   "metadata": {},
   "outputs": [],
   "source": [
    "SIGMA = 5.67e-8"
   ]
  },
  {
   "cell_type": "code",
   "execution_count": 45,
   "id": "b7ba1aad-cf5d-4c26-b134-5c0e0bbef7b9",
   "metadata": {},
   "outputs": [],
   "source": [
    "# Convert temperature from Celsius to Kelvin\n",
    "\n",
    "filtered_df['T2_K'] = filtered_df['2MVTair[degC]'] + 273.15 \n",
    "filtered_df['T6_K'] = filtered_df['6MVTair[degC]'] + 273.15 \n",
    "filtered_df['T10_K'] = filtered_df['10MVTair[degC]'] + 273.15 \n",
    "\n",
    "# Calculate effective emissivity\n",
    "filtered_df['eps2'] = filtered_df['LWTotalDownwelling[W/m^2]'] / (SIGMA * filtered_df['T2_K']**4)\n",
    "filtered_df['eps6'] = filtered_df['LWTotalDownwelling[W/m^2]'] / (SIGMA * filtered_df['T6_K']**4)\n",
    "filtered_df['eps10'] = filtered_df['LWTotalDownwelling[W/m^2]'] / (SIGMA * filtered_df['T10_K']**4)"
   ]
  },
  {
   "cell_type": "markdown",
   "id": "3f128d4b-7c25-4e2c-881a-788a0bb14408",
   "metadata": {},
   "source": [
    "## 2) Calculate expected DLR \n",
    "The Brunt form of the equation for clear sky emissivity is:\n",
    "\n",
    "$\\varepsilon_c = c_1 + c_2\\sqrt{P_w}$\n",
    "\n",
    "\n",
    "*This step will come after fitting a power curve to the measured DLR data*"
   ]
  },
  {
   "cell_type": "markdown",
   "id": "811e88ad-949b-4558-b63f-53908bd92967",
   "metadata": {},
   "source": [
    "Calculate Partial Pressure of water vapor (hPa)"
   ]
  },
  {
   "cell_type": "code",
   "execution_count": 46,
   "id": "efa9f5b1-0607-4a68-bb31-062cca9bbe2b",
   "metadata": {},
   "outputs": [],
   "source": [
    "filtered_df['Pw2'] = 610.94*(filtered_df['2MRH[%]']/100)*np.exp((17.625*(filtered_df['T2_K'] - 273.15))/(filtered_df['T2_K'] - 30.11))/100\n",
    "filtered_df['Pw6'] = 610.94*(filtered_df['6MRH[%]']/100)*np.exp((17.625*(filtered_df['T6_K'] - 273.15))/(filtered_df['T6_K'] - 30.11))/100\n",
    "filtered_df['Pw10'] = 610.94*(filtered_df['10MRH[%]']/100)*np.exp((17.625*(filtered_df['T10_K'] - 273.15))/(filtered_df['T10_K'] - 30.11))/100"
   ]
  },
  {
   "cell_type": "markdown",
   "id": "b13b19fa-e167-4ba9-a1fb-f926bd9f38ab",
   "metadata": {},
   "source": [
    "Calculate clear sky emissivity\n",
    "*Parameters per the original Brunt equation. **Don't Run both emissivity cells***\n"
   ]
  },
  {
   "cell_type": "code",
   "execution_count": 47,
   "id": "e65ac89d-8bfe-4f91-9e24-625c04718ded",
   "metadata": {},
   "outputs": [],
   "source": [
    "filtered_df['e2_Brunt'] = (0.52 + 0.065*np.sqrt(filtered_df['Pw2']))\n",
    "# filtered_df['e6'] = (0.52 + 0.065*np.sqrt(filtered_df['Pw6']))\n",
    "# filtered_df['e10'] = (0.52 + 0.065*np.sqrt(filtered_df['Pw10']))"
   ]
  },
  {
   "cell_type": "markdown",
   "id": "0c8b2b0f-bbae-488d-80e2-5a3c06f7c0f8",
   "metadata": {},
   "source": [
    "Calculate clear sky emissivity\n",
    "*Calibrated parameters per Li et al. 2017. **Don't Run both emissivity cells***"
   ]
  },
  {
   "cell_type": "code",
   "execution_count": 76,
   "id": "de8c5cbb-0e60-4f50-b08a-a86482e7e26a",
   "metadata": {},
   "outputs": [],
   "source": [
    "filtered_df['e2_Li'] = (0.618 + 0.054*np.sqrt(filtered_df['Pw2']))\n",
    "# filtered_df['e6'] = (0.618 + 0.054*np.sqrt(filtered_df['Pw6']))\n",
    "# filtered_df['e10'] = (0.618 + 0.054*np.sqrt(filtered_df['Pw10']))"
   ]
  },
  {
   "cell_type": "markdown",
   "id": "b82b77d1-32cf-48b2-8d28-7563d54c9c2f",
   "metadata": {},
   "source": [
    "Calculate expected DLR"
   ]
  },
  {
   "cell_type": "code",
   "execution_count": 77,
   "id": "43ae755a-44fe-47ed-8dcb-d950d680fb56",
   "metadata": {},
   "outputs": [],
   "source": [
    "filtered_df['DLR2_Brunt'] = filtered_df['e2_Brunt']*SIGMA*(filtered_df['T2_K']**4)\n",
    "# filtered_df['DLR6'] = filtered_df['e6']*SIGMA*(filtered_df['T6_K']**4)\n",
    "# filtered_df['DLR10'] = filtered_df['e10']*SIGMA*(filtered_df['T10_K']**4)\n",
    "\n",
    "filtered_df['DLR2_Li'] = filtered_df['e2_Li']*SIGMA*(filtered_df['T2_K']**4)"
   ]
  },
  {
   "cell_type": "markdown",
   "id": "cbf459c7-a2aa-410c-8080-f6cb2fb6bed0",
   "metadata": {},
   "source": [
    "Create a mask to filter out NaN values\n",
    "\n",
    "*This may be unnecessary, NaN values may be automatically rejected*"
   ]
  },
  {
   "cell_type": "code",
   "execution_count": 78,
   "id": "d9532dd9-9b89-43d7-a746-81e05d6db1fe",
   "metadata": {},
   "outputs": [],
   "source": [
    "# epsmask2 = filtered_df['eps2'].notna()\n",
    "# epsmask6 = filtered_df['eps6'].notna()\n",
    "# epsmask10 = filtered_df['eps10'].notna()\n",
    "# DLRmask2 = filtered_df['DLR2'].notna() & filtered_df['LWTotalDownwelling[W/m^2]'].notna()\n",
    "# DLRmask6 = filtered_df['DLR6'].notna() & filtered_df['LWTotalDownwelling[W/m^2]'].notna()\n",
    "# DLRmask10 = filtered_df['DLR10'].notna() & filtered_df['LWTotalDownwelling[W/m^2]'].notna()"
   ]
  },
  {
   "cell_type": "markdown",
   "id": "e0dc8893-076f-4251-9ceb-d1f2e2439dd2",
   "metadata": {},
   "source": [
    "## 3) Generate Plots"
   ]
  },
  {
   "cell_type": "markdown",
   "id": "a9b2bcb3-dcc6-4df9-a752-272bb25ba93e",
   "metadata": {},
   "source": [
    "### Emissivity over Time\n",
    "*Does not work for short selections of data spanning years*"
   ]
  },
  {
   "cell_type": "code",
   "execution_count": 79,
   "id": "6b16a498-0d6e-48d3-a86b-1b035f989134",
   "metadata": {},
   "outputs": [
    {
     "data": {
      "image/png": "[encoded data removed]",
      "text/plain": [
       "<Figure size 640x480 with 1 Axes>"
      ]
     },
     "metadata": {},
     "output_type": "display_data"
    }
   ],
   "source": [
    "## Plot e_sky over time\n",
    "plt.scatter(filtered_df.index, filtered_df['eps2'], label='2m', s=0.5, color='blue')\n",
    "# plt.scatter(towermet_df.index[epsmask6], towermet_df['eps6'][epsmask6], label='6m', s=0.5, color='cyan')\n",
    "# plt.scatter(towermet_df.index[epsmask10], towermet_df['eps10'][epsmask10], label='10m', s=0.5, color='red')\n",
    "\n",
    "# Set ticks at regular intervals\n",
    "# Find the start and end dates in your DataFrame\n",
    "start_date = filtered_df.index.min()\n",
    "end_date = filtered_df.index.max()\n",
    "\n",
    "# # Generate ticks at regular intervals between start and end dates\n",
    "ticks = pd.date_range(start=start_date, end=end_date, freq='5d')\n",
    "tick_labels = [date.strftime('%Y-%m-%d') if i % 4 == 0 else None for i, date in enumerate(ticks)]\n",
    "\n",
    "# Format the plot\n",
    "plt.xticks(ticks, tick_labels)\n",
    "plt.xlabel('Time')\n",
    "plt.ylabel('Emissivity')\n",
    "plt.title('Emissivity over Time')\n",
    "plt.legend()\n",
    "plt.grid()\n",
    "\n",
    "# Save plot as .png\n",
    "# plt.savefig('emissivity.png')"
   ]
  },
  {
   "cell_type": "markdown",
   "id": "78858590-0aed-40be-ad31-3901b2ff235e",
   "metadata": {},
   "source": [
    "### Expected vs Measured DLR\n",
    "\n",
    "Axis start at zero"
   ]
  },
  {
   "cell_type": "code",
   "execution_count": 80,
   "id": "c854ed41-c93c-4c16-8191-982c2137cab7",
   "metadata": {},
   "outputs": [
    {
     "data": {
      "text/plain": [
       "<matplotlib.legend.Legend at 0x14eed6d1970>"
      ]
     },
     "execution_count": 80,
     "metadata": {},
     "output_type": "execute_result"
    },
    {
     "data": {
      "image/png": "[encoded data removed]",
      "text/plain": [
       "<Figure size 640x480 with 1 Axes>"
      ]
     },
     "metadata": {},
     "output_type": "display_data"
    }
   ],
   "source": [
    "## Plot expected DLR vs measured DLR\n",
    "plt.scatter(filtered_df['LWTotalDownwelling[W/m^2]'], filtered_df['DLR2_Brunt'], label='2m', s=0.5, color='blue')\n",
    "plt.scatter(filtered_df['LWTotalDownwelling[W/m^2]'], filtered_df['DLR2_Li'], label='2m', s=0.5, color='red')\n",
    "# plt.scatter(towerrad_df['LWTotalDownwelling[W/m^2]'][DLRmask6], towermet_df['DLR6'][DLRmask6], label='6m', s=0.5, color='cyan')\n",
    "# plt.scatter(towerrad_df['LWTotalDownwelling[W/m^2]'][DLRmask10], towermet_df['DLR10'][DLRmask10], label='10m', s=0.5, color='')\n",
    "\n",
    "# Calculate the maximum value for x and y\n",
    "max_value = max(np.nanmax(filtered_df['LWTotalDownwelling[W/m^2]']), np.nanmax(filtered_df['DLR2_Brunt']))\n",
    "plt.xlim(0, max_value)\n",
    "plt.ylim(0, max_value)\n",
    "plt.grid()\n",
    "plt.plot([0,max_value],[0,max_value])\n",
    "\n",
    "# Format the plot\n",
    "plt.xlabel('Measured DLR')\n",
    "plt.ylabel('Expected DLR')\n",
    "plt.title('Expected vs Measured DLR')\n",
    "plt.legend()\n",
    "\n",
    "# Save plot as .png\n",
    "# plt.savefig('exp-vs-measured-DLR.png')"
   ]
  },
  {
   "cell_type": "markdown",
   "id": "26e2b63e-273c-472d-a172-ea3542361a91",
   "metadata": {},
   "source": [
    "### Expected vs Measured DLR\n",
    "\n",
    "Grid fitted to data (i.e. zoomed in)"
   ]
  },
  {
   "cell_type": "code",
   "execution_count": 81,
   "id": "39f2b7e2-2c36-446b-bd52-16595e3b6c6c",
   "metadata": {},
   "outputs": [
    {
     "data": {
      "text/plain": [
       "<matplotlib.legend.Legend at 0x14eeb06a2a0>"
      ]
     },
     "execution_count": 81,
     "metadata": {},
     "output_type": "execute_result"
    },
    {
     "data": {
      "image/png": "[encoded data removed]",
      "text/plain": [
       "<Figure size 640x480 with 1 Axes>"
      ]
     },
     "metadata": {},
     "output_type": "display_data"
    }
   ],
   "source": [
    "## Plot expected DLR vs measured DLR\n",
    "plt.scatter(filtered_df['LWTotalDownwelling[W/m^2]'], filtered_df['DLR2_Brunt'], label='2m', s=0.01, color='blue')\n",
    "plt.scatter(filtered_df['LWTotalDownwelling[W/m^2]'], filtered_df['DLR2_Li'], label='2m', s=0.01, color='red')\n",
    "# plt.scatter(towerrad_df['LWTotalDownwelling[W/m^2]'][DLRmask6], towermet_df['DLR6'][DLRmask6], label='6m', s=0.5, color='cyan')\n",
    "# plt.scatter(towerrad_df['LWTotalDownwelling[W/m^2]'][DLRmask10], towermet_df['DLR10'][DLRmask10], label='10m', s=0.5, color='red')\n",
    "\n",
    "# Calculate the maximum value for x and y\n",
    "max_value = max(np.nanmax(filtered_df['LWTotalDownwelling[W/m^2]']), np.nanmax(filtered_df['DLR2_Brunt']))\n",
    "min_value = min(np.nanmin(filtered_df['LWTotalDownwelling[W/m^2]']), np.nanmin(filtered_df['DLR2_Brunt']))\n",
    "plt.xlim(min_value, max_value)\n",
    "plt.ylim(min_value, max_value)\n",
    "plt.grid()\n",
    "plt.plot([min_value,max_value],[min_value,max_value])\n",
    "\n",
    "\n",
    "# Format the plot\n",
    "plt.xlabel('Measured DLR')\n",
    "plt.ylabel('Expected DLR')\n",
    "plt.title('Expected vs Measured DLR')\n",
    "plt.legend()\n",
    "\n",
    "# Save plot as .png\n",
    "# plt.savefig('exp-vs-measured-DLR.png')"
   ]
  },
  {
   "cell_type": "code",
   "execution_count": 82,
   "id": "ee0cb0ec-6b31-4faf-9d83-4c04909d9779",
   "metadata": {},
   "outputs": [
    {
     "data": {
      "text/plain": [
       "<matplotlib.legend.Legend at 0x14eed875d90>"
      ]
     },
     "execution_count": 82,
     "metadata": {},
     "output_type": "execute_result"
    },
    {
     "data": {
      "image/png": "[encoded data removed]",
      "text/plain": [
       "<Figure size 640x480 with 1 Axes>"
      ]
     },
     "metadata": {},
     "output_type": "display_data"
    }
   ],
   "source": [
    "# Plot expected DLR vs measured DLR\n",
    "plt.scatter(filtered_df['Pw2'], filtered_df['eps2'], label='2m', s=0.01, color='blue')\n",
    "# plt.scatter(towerrad_df['LWTotalDownwelling[W/m^2]'][DLRmask6], towermet_df['DLR6'][DLRmask6], label='6m', s=0.5, color='cyan')\n",
    "# plt.scatter(towerrad_df['LWTotalDownwelling[W/m^2]'][DLRmask10], towermet_df['DLR10'][DLRmask10], label='10m', s=0.5, color='red')\n",
    "\n",
    "# Calculate the maximum value for x and y\n",
    "# max_value = max(np.nanmax(filtered_df['Pw2']), np.nanmax(filtered_df['eps2']))\n",
    "# min_value = min(np.nanmin(filtered_df['Pw2']), np.nanmin(filtered_df['eps2']))\n",
    "# plt.xlim(min_value, max_value)\n",
    "# plt.ylim(min_value, max_value)\n",
    "plt.grid()\n",
    "\n",
    "\n",
    "# Format the plot\n",
    "plt.xlabel('Partial pressure of water vapor [hPa]')\n",
    "plt.ylabel('Sky emissivity')\n",
    "plt.title('Emissivity vs water vapor')\n",
    "plt.legend()\n",
    "\n",
    "# Save plot as .png\n",
    "# plt.savefig('exp-vs-measured-DLR.png')"
   ]
  },
  {
   "cell_type": "code",
   "execution_count": 83,
   "id": "f2d93d66-26f6-4fbc-a232-fb0e503e0288",
   "metadata": {},
   "outputs": [
    {
     "data": {
      "text/plain": [
       "(66.058, 0.299130850998574)"
      ]
     },
     "execution_count": 83,
     "metadata": {},
     "output_type": "execute_result"
    }
   ],
   "source": [
    "max(filtered_df['2MRH[%]']), max(filtered_df['Pw2'])"
   ]
  },
  {
   "cell_type": "code",
   "execution_count": 84,
   "id": "4654eb5d-65b9-42bb-afe9-547ce0e2e81f",
   "metadata": {},
   "outputs": [
    {
     "data": {
      "image/png": "[encoded data removed]",
      "text/plain": [
       "<Figure size 1000x600 with 1 Axes>"
      ]
     },
     "metadata": {},
     "output_type": "display_data"
    }
   ],
   "source": [
    "if 'isnight' in filter_keys:\n",
    "    plt.figure(figsize=(10, 6))\n",
    "    plt.plot(data_df['LocalTime'], data_df['theta_z'], label='all', color='blue')\n",
    "    plt.plot(filtered_df['LocalTime'], filtered_df['theta_z'], label='night', color='red')\n",
    "\n",
    "    plt.gca().xaxis.set_major_locator(mdates.DayLocator(interval=5))  # Show a tick every 5 days\n",
    "    plt.gca().xaxis.set_major_formatter(mdates.DateFormatter('%Y-%m-%d'))  # Format the date\n",
    "\n",
    "    plt.xlabel('Date')\n",
    "    plt.ylabel('Degrees')\n",
    "    plt.title('Solar Zenith Angle')\n",
    "\n",
    "    plt.grid(True)\n",
    "\n",
    "    plt.gcf().autofmt_xdate()\n",
    "\n",
    "    plt.legend()"
   ]
  },
  {
   "cell_type": "code",
   "execution_count": null,
   "id": "3d9a037c-4553-43bd-85bc-c21946da5543",
   "metadata": {},
   "outputs": [],
   "source": []
  }
 ],
 "metadata": {
  "kernelspec": {
   "display_name": "Python 3 (ipykernel)",
   "language": "python",
   "name": "python3"
  },
  "language_info": {
   "codemirror_mode": {
    "name": "ipython",
    "version": 3
   },
   "file_extension": ".py",
   "mimetype": "text/x-python",
   "name": "python",
   "nbconvert_exporter": "python",
   "pygments_lexer": "ipython3",
   "version": "3.12.2"
  }
 },
 "nbformat": 4,
 "nbformat_minor": 5
}
