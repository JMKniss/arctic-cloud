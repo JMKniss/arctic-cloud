{
 "cells": [
  {
   "cell_type": "markdown",
   "id": "4b5d16fa-5fc3-4cdc-8384-6f6c1b39fd23",
   "metadata": {},
   "source": [
    "# Arctic-calibrated Brunt equation\n",
    "\n",
    "## Jason Kniss\n",
    "## Feb 14 2024\n",
    "\n",
    "### Calibrate the Brunt equation using data from the Eureka site"
   ]
  },
  {
   "cell_type": "markdown",
   "id": "8e8a726b-ff87-48b1-b003-2bb259a9a56c",
   "metadata": {},
   "source": [
    "Import libraries"
   ]
  },
  {
   "cell_type": "code",
   "execution_count": 2,
   "id": "6e068c0a-3460-47a8-8954-86c987cf0cd6",
   "metadata": {},
   "outputs": [],
   "source": [
    "import pandas as pd\n",
    "import matplotlib.pyplot as plt\n",
    "import numpy as np\n",
    "from datetime import datetime, timedelta"
   ]
  },
  {
   "cell_type": "code",
   "execution_count": null,
   "id": "0988597d-e596-4629-b0e2-fef9e700bf0d",
   "metadata": {},
   "outputs": [],
   "source": []
  },
  {
   "cell_type": "code",
   "execution_count": null,
   "id": "5d6c7dd6-34be-47cf-9941-3d6c698c6ea4",
   "metadata": {},
   "outputs": [],
   "source": []
  }
 ],
 "metadata": {
  "kernelspec": {
   "display_name": "Python 3 (ipykernel)",
   "language": "python",
   "name": "python3"
  },
  "language_info": {
   "codemirror_mode": {
    "name": "ipython",
    "version": 3
   },
   "file_extension": ".py",
   "mimetype": "text/x-python",
   "name": "python",
   "nbconvert_exporter": "python",
   "pygments_lexer": "ipython3",
   "version": "3.12.2"
  }
 },
 "nbformat": 4,
 "nbformat_minor": 5
}
