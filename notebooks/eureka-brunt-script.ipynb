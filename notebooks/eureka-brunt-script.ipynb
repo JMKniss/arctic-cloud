{
 "cells": [
  {
   "cell_type": "markdown",
   "id": "efaef8d0-adeb-420f-9d7a-b3f43daae64f",
   "metadata": {},
   "source": [
    "# Recalibrating the Brunt equation using Eureka data\n",
    "\n",
    "## Jason Kniss\n",
    "### Feb 14 2024\n",
    "\n",
    "This script is used to process the unfiltered code, intended as a test of\n",
    "functionality and for the author to practice python coding"
   ]
  },
  {
   "cell_type": "markdown",
   "id": "cba5d658-5b34-4780-8a51-82b89e8f742d",
   "metadata": {},
   "source": [
    "### Import Libraries"
   ]
  },
  {
   "cell_type": "code",
   "execution_count": 30,
   "id": "a2ca24ce-112e-4661-bda3-c931de2f0923",
   "metadata": {},
   "outputs": [],
   "source": [
    "import pandas as pd\n",
    "import os\n",
    "import matplotlib.pyplot as plt\n",
    "from datetime import datetime, timedelta\n",
    "import numpy as np\n",
    "from IPython.display import HTML"
   ]
  },
  {
   "cell_type": "markdown",
   "id": "b0edd473-589e-4e07-99d3-8a87d5e466f3",
   "metadata": {},
   "source": [
    "### Set path to data folders\n",
    "\n",
    "separate folders are used because each data source will be treated separately. This is to simplify identification and concatenation."
   ]
  },
  {
   "cell_type": "code",
   "execution_count": 2,
   "id": "ee8823e1-0380-46fa-b64b-2f0e732d75e5",
   "metadata": {},
   "outputs": [],
   "source": [
    "towermet_path = 'data/eureka-data/tower-met'\n",
    "towerrad_path = 'data/eureka-data/tower-rad'\n",
    "bsrnrad_path = 'data/eureka-data/bsrn-rad'"
   ]
  },
  {
   "cell_type": "markdown",
   "id": "d1d2678e-f4eb-472a-981d-2a2149567d6b",
   "metadata": {},
   "source": [
    "### Crerate lists of dataframes\n",
    "\n",
    "Loops will generate a list of dataframes from text files added to specified folders."
   ]
  },
  {
   "cell_type": "code",
   "execution_count": 3,
   "id": "e97c0595-400d-4810-a728-1ac209d0da2c",
   "metadata": {},
   "outputs": [],
   "source": [
    "towermet_dfs = []  # List to store Tower Meteroological dataframes\n",
    "towerrad_dfs = []  # List to store Tower Radiation dataframes\n",
    "bsrnrad_dfs = [] # List to store BSRN radiation dataframes"
   ]
  },
  {
   "cell_type": "markdown",
   "id": "f4f0dd5a-65fc-4234-9a57-c26b1258a70e",
   "metadata": {},
   "source": [
    "# Import and organize data\n",
    "\n",
    "### Tower meteorological data"
   ]
  },
  {
   "cell_type": "code",
   "execution_count": 4,
   "id": "89097551-795f-4894-9745-c1b1d0f54094",
   "metadata": {},
   "outputs": [],
   "source": [
    "for filename in os.listdir(towermet_path):\n",
    "    if filename.endswith(\".txt\"):  # Only consider .txt files\n",
    "        file_path = os.path.join(towermet_path, filename)\n",
    "        with open(file_path, \"r\") as f:\n",
    "            lines = f.readlines()\n",
    "\n",
    "        header = lines[0].strip().split()\n",
    "        data_rows = [line.strip().split(\"\\t\") for line in lines[1:]]\n",
    "\n",
    "        df = pd.DataFrame(data_rows, columns=header)\n",
    "        # Rename the dataframe when more data is imported\n",
    "\n",
    "        df = df.astype('float')\n",
    "        condition = df['HourMin'] == 2400\n",
    "        df.loc[condition, 'JulianDay'] += 1\n",
    "        df.loc[condition, 'HourMin'] = 0000\n",
    "        #df = df[df['HourMin'] != 2400] # Filter out invalid HourMin values \n",
    "        towermet_dfs.append(df)"
   ]
  },
  {
   "cell_type": "markdown",
   "id": "c542b375-f1a3-43a8-9c44-4243bf2b3f90",
   "metadata": {},
   "source": [
    "### Tower radiation data"
   ]
  },
  {
   "cell_type": "code",
   "execution_count": 5,
   "id": "90fed0e2-f71f-46dd-80d7-416a2e088077",
   "metadata": {},
   "outputs": [],
   "source": [
    "for filename in os.listdir(towerrad_path):\n",
    "    if filename.endswith(\".txt\"):  # Only consider .txt files\n",
    "        file_path = os.path.join(towerrad_path, filename)\n",
    "        with open(file_path, \"r\") as f:\n",
    "            lines = f.readlines()\n",
    "\n",
    "        header = lines[0].strip().split()\n",
    "        data_rows = [line.strip().split(\"\\t\") for line in lines[1:]]\n",
    "\n",
    "        df = pd.DataFrame(data_rows, columns=header)\n",
    "        # Rename the dataframe when more data is imported\n",
    "\n",
    "        df = df.astype('float')\n",
    "        condition = df['HourMin'] == 2400\n",
    "        df.loc[condition, 'JulianDay'] += 1\n",
    "        df.loc[condition, 'HourMin'] = 0000\n",
    "        #df = df[df['HourMin'] != 2400] # Filter out invalid HourMin values \n",
    "        towerrad_dfs.append(df)"
   ]
  },
  {
   "cell_type": "markdown",
   "id": "51caf01a-c3d1-4663-8775-be820977194c",
   "metadata": {},
   "source": [
    "### BSRN radiation data\n",
    "This is redundant of tower radiation data and only serves as a comparison to tower measurements"
   ]
  },
  {
   "cell_type": "code",
   "execution_count": 6,
   "id": "91d26d57-1efc-4b5c-85c3-58d94d026030",
   "metadata": {},
   "outputs": [],
   "source": [
    "for filename in os.listdir(bsrnrad_path):\n",
    "    if filename.endswith(\".txt\"):  # Only consider .txt files\n",
    "        file_path = os.path.join(bsrnrad_path, filename)\n",
    "        with open(file_path, \"r\") as f:\n",
    "            lines = f.readlines()\n",
    "\n",
    "        header = lines[0].strip().split()\n",
    "        data_rows = [line.strip().split(\"\\t\") for line in lines[1:]]\n",
    "\n",
    "        df = pd.DataFrame(data_rows, columns=header)\n",
    "        # Rename the dataframe when more data is imported\n",
    "\n",
    "        df = df.astype('float')\n",
    "        condition = df['HourMin'] == 2400\n",
    "        df.loc[condition, 'JulianDay'] += 1\n",
    "        df.loc[condition, 'HourMin'] = 0000\n",
    "        #df = df[df['HourMin'] != 2400] # Filter out invalid HourMin values \n",
    "        bsrnrad_dfs.append(df)"
   ]
  },
  {
   "cell_type": "markdown",
   "id": "1112601d-abf8-404e-ba19-4a301c3fa384",
   "metadata": {},
   "source": [
    "## Sort and concatenate lists of dataframes\n",
    "\n",
    "Done separately to simplify concatenation in the next step\n",
    "### Create datetime columns\n",
    "### Tower meteorological dataframes"
   ]
  },
  {
   "cell_type": "code",
   "execution_count": 7,
   "id": "046a590b-ce6f-4e81-a026-c472fc5bc433",
   "metadata": {},
   "outputs": [],
   "source": [
    "# Create a Datetime column \n",
    "for df in towermet_dfs:\n",
    "    def julian_to_date(julian_day, base_year=(df['Year'].iloc[0]).astype('int')):\n",
    "        base_date = datetime(base_year, 1, 1)\n",
    "        target_date = base_date + timedelta(days=julian_day - 1)\n",
    "        return target_date.strftime('%Y-%m-%d')\n",
    "\n",
    "    def hourmin_to_time(hourmin):\n",
    "        hours = int(hourmin // 100)\n",
    "        minutes = int(hourmin % 100)\n",
    "        return f'{hours:02}:{minutes:02}:00'\n",
    "\n",
    "    # Convert Julian Day to date\n",
    "    df['Date'] = df['JulianDay'].apply(julian_to_date)\n",
    "\n",
    "    # Convert HourMin to time   \n",
    "    df['Time'] = df['HourMin'].apply(hourmin_to_time)\n",
    "\n",
    "    # Combine date and time into a single datetime column\n",
    "    df['Datetime'] = pd.to_datetime(df['Date'] + ' ' + df['Time'])\n",
    "\n",
    "    # Drop intermediate columns\n",
    "    df.drop(columns=['Date', 'Time'], inplace=True)\n",
    "    \n",
    "    # Set 'Datetime' column as the index\n",
    "#    df.set_index('Datetime', inplace=True)"
   ]
  },
  {
   "cell_type": "markdown",
   "id": "b0a15478-1c3c-4b54-86a1-60a9c1bc2cba",
   "metadata": {},
   "source": [
    "### Tower radiation dataframes"
   ]
  },
  {
   "cell_type": "code",
   "execution_count": 8,
   "id": "13692120-5167-4e7d-8d99-88e1cf897c28",
   "metadata": {},
   "outputs": [],
   "source": [
    "for df in towerrad_dfs:\n",
    "      def julian_to_date(julian_day, base_year=(df['Year'].iloc[0]).astype('int')):\n",
    "          base_date = datetime(base_year, 1, 1)\n",
    "          target_date = base_date + timedelta(days=julian_day - 1)\n",
    "          return target_date.strftime('%Y-%m-%d')\n",
    "\n",
    "      def hourmin_to_time(hourmin):\n",
    "          hours = int(hourmin // 100)\n",
    "          minutes = int(hourmin % 100)\n",
    "          return f'{hours:02}:{minutes:02}:00'\n",
    "\n",
    "      # Convert Julian Day to date\n",
    "      df['Date'] = df['JulianDay'].apply(julian_to_date)\n",
    "\n",
    "      # Convert HourMin to time   \n",
    "      df['Time'] = df['HourMin'].apply(hourmin_to_time)\n",
    "\n",
    "      # Combine date and time into a single datetime column\n",
    "      df['Datetime'] = pd.to_datetime(df['Date'] + ' ' + df['Time'])\n",
    "\n",
    "      # Drop intermediate columns\n",
    "      df.drop(columns=['Date', 'Time'], inplace=True)\n",
    "      \n",
    "      # Set 'Datetime' column as the index\n",
    " #     df.set_index('Datetime', inplace=True)"
   ]
  },
  {
   "cell_type": "markdown",
   "id": "50b1dc5f-e154-482e-b4da-eb9da89652e3",
   "metadata": {},
   "source": [
    "### BSRN radiation dataframes"
   ]
  },
  {
   "cell_type": "code",
   "execution_count": 9,
   "id": "f69a7d08-b0bc-4014-b3eb-5f64457a0c34",
   "metadata": {},
   "outputs": [],
   "source": [
    "for df in bsrnrad_dfs:\n",
    "    def julian_to_date(julian_day, base_year=(df['Year'].iloc[0]).astype('int')):\n",
    "        base_date = datetime(base_year, 1, 1)\n",
    "        target_date = base_date + timedelta(days=julian_day - 1)\n",
    "        return target_date.strftime('%Y-%m-%d')\n",
    "\n",
    "    def hourmin_to_time(hourmin):\n",
    "        hours = int(hourmin // 100)\n",
    "        minutes = int(hourmin % 100)\n",
    "        return f'{hours:02}:{minutes:02}:00'\n",
    "\n",
    "    # Convert Julian Day to date\n",
    "    df['Date'] = df['JulianDay'].apply(julian_to_date)\n",
    "\n",
    "    # Convert HourMin to time   \n",
    "    df['Time'] = df['HourMin'].apply(hourmin_to_time)\n",
    "\n",
    "    # Combine date and time into a single datetime column\n",
    "    df['Datetime'] = pd.to_datetime(df['Date'] + ' ' + df['Time'])\n",
    "\n",
    "    # Drop intermediate columns\n",
    "    df.drop(columns=['Date', 'Time'], inplace=True)"
   ]
  },
  {
   "cell_type": "markdown",
   "id": "7d0f1803-27b6-4fc3-adae-b38fa74032fb",
   "metadata": {},
   "source": [
    "### Concatenate lists of dataframes into dataframes and reindex by datetime"
   ]
  },
  {
   "cell_type": "code",
   "execution_count": 10,
   "id": "3ff5b9db-5086-4d87-aa44-2ac91a47a8ef",
   "metadata": {},
   "outputs": [],
   "source": [
    "# Concatenate vertically\n",
    "towermet_df = pd.concat(towermet_dfs, ignore_index=True)\n",
    "towerrad_df = pd.concat(towerrad_dfs, ignore_index=True)\n",
    "bsrnrad_df = pd.concat(bsrnrad_dfs, ignore_index=True)\n",
    "\n",
    "# Sort by datetime column\n",
    "towermet_df.sort_values(by='Datetime', inplace=True)    \n",
    "towerrad_df.sort_values(by='Datetime', inplace=True)  \n",
    "bsrnrad_df.sort_values(by='Datetime', inplace=True)\n",
    "\n",
    "# Set 'Datetime' column as the index\n",
    "towermet_df.set_index('Datetime', inplace=True)\n",
    "towerrad_df.set_index('Datetime', inplace=True)\n",
    "bsrnrad_df.set_index('Datetime', inplace=True)"
   ]
  },
  {
   "cell_type": "markdown",
   "id": "6fed96f5-fac1-4390-95df-274e307a8859",
   "metadata": {},
   "source": [
    "### Join dataframes into one dataframe with pertinant columns"
   ]
  },
  {
   "cell_type": "code",
   "execution_count": 11,
   "id": "af422c10-6641-4b6c-8baa-f3dfd566b3c7",
   "metadata": {},
   "outputs": [],
   "source": [
    "towermet_df_select = towermet_df[['Pressure[mbar]', '10MRH[%]', '6MRH[%]', '2MRH[%]', '10MTair[degC]', '6MTair[degC]', '2MTair[degC]']]\n",
    "towerrad_df_select = towerrad_df[['LWTotalDownwelling[W/m^2]']]\n",
    "bsrnrad_df_select = bsrnrad_df[['LWTotalDownwelling[W/m^2]']].copy()\n",
    "bsrnrad_df_select.rename(columns={'LWTotalDownwelling[W/m^2]': 'bsrnLWTotalDownwelling[W/m^2]'}, inplace=True)\n",
    "\n",
    "target_df = towermet_df_select.join(towerrad_df_select, how='outer').join(bsrnrad_df_select, how='outer')"
   ]
  },
  {
   "cell_type": "code",
   "execution_count": 32,
   "id": "47d9033d-872c-4128-872d-d04db8d56c1c",
   "metadata": {
    "collapsed": true,
    "jupyter": {
     "outputs_hidden": true
    }
   },
   "outputs": [
    {
     "data": {
      "text/html": [
       "<div>\n",
       "<style scoped>\n",
       "    .dataframe tbody tr th:only-of-type {\n",
       "        vertical-align: middle;\n",
       "    }\n",
       "\n",
       "    .dataframe tbody tr th {\n",
       "        vertical-align: top;\n",
       "    }\n",
       "\n",
       "    .dataframe thead th {\n",
       "        text-align: right;\n",
       "    }\n",
       "</style>\n",
       "<table border=\"1\" class=\"dataframe\">\n",
       "  <thead>\n",
       "    <tr style=\"text-align: right;\">\n",
       "      <th></th>\n",
       "      <th>Pressure[mbar]</th>\n",
       "      <th>10MRH[%]</th>\n",
       "      <th>6MRH[%]</th>\n",
       "      <th>2MRH[%]</th>\n",
       "      <th>10MTair[degC]</th>\n",
       "      <th>6MTair[degC]</th>\n",
       "      <th>2MTair[degC]</th>\n",
       "      <th>LWTotalDownwelling[W/m^2]</th>\n",
       "      <th>bsrnLWTotalDownwelling[W/m^2]</th>\n",
       "    </tr>\n",
       "    <tr>\n",
       "      <th>Datetime</th>\n",
       "      <th></th>\n",
       "      <th></th>\n",
       "      <th></th>\n",
       "      <th></th>\n",
       "      <th></th>\n",
       "      <th></th>\n",
       "      <th></th>\n",
       "      <th></th>\n",
       "      <th></th>\n",
       "    </tr>\n",
       "  </thead>\n",
       "  <tbody>\n",
       "    <tr>\n",
       "      <th>2011-05-15 00:00:00</th>\n",
       "      <td>1012.4</td>\n",
       "      <td>73.746</td>\n",
       "      <td>74.090</td>\n",
       "      <td>73.352</td>\n",
       "      <td>-13.795</td>\n",
       "      <td>-13.755</td>\n",
       "      <td>-13.788</td>\n",
       "      <td>178.499</td>\n",
       "      <td>NaN</td>\n",
       "    </tr>\n",
       "    <tr>\n",
       "      <th>2011-05-15 00:01:00</th>\n",
       "      <td>1012.4</td>\n",
       "      <td>74.163</td>\n",
       "      <td>74.231</td>\n",
       "      <td>73.576</td>\n",
       "      <td>-13.874</td>\n",
       "      <td>-13.806</td>\n",
       "      <td>-13.841</td>\n",
       "      <td>178.370</td>\n",
       "      <td>176.84</td>\n",
       "    </tr>\n",
       "    <tr>\n",
       "      <th>2011-05-15 00:02:00</th>\n",
       "      <td>1012.4</td>\n",
       "      <td>74.178</td>\n",
       "      <td>74.602</td>\n",
       "      <td>73.994</td>\n",
       "      <td>-13.957</td>\n",
       "      <td>-13.887</td>\n",
       "      <td>-13.920</td>\n",
       "      <td>178.464</td>\n",
       "      <td>178.26</td>\n",
       "    </tr>\n",
       "    <tr>\n",
       "      <th>2011-05-15 00:03:00</th>\n",
       "      <td>1012.4</td>\n",
       "      <td>73.599</td>\n",
       "      <td>74.417</td>\n",
       "      <td>74.503</td>\n",
       "      <td>-13.897</td>\n",
       "      <td>-13.877</td>\n",
       "      <td>-13.874</td>\n",
       "      <td>178.586</td>\n",
       "      <td>178.67</td>\n",
       "    </tr>\n",
       "    <tr>\n",
       "      <th>2011-05-15 00:04:00</th>\n",
       "      <td>1012.4</td>\n",
       "      <td>73.317</td>\n",
       "      <td>74.186</td>\n",
       "      <td>74.604</td>\n",
       "      <td>-13.831</td>\n",
       "      <td>-13.823</td>\n",
       "      <td>-13.806</td>\n",
       "      <td>178.583</td>\n",
       "      <td>178.49</td>\n",
       "    </tr>\n",
       "  </tbody>\n",
       "</table>\n",
       "</div>"
      ],
      "text/plain": [
       "                     Pressure[mbar]  10MRH[%]  6MRH[%]  2MRH[%]  \\\n",
       "Datetime                                                          \n",
       "2011-05-15 00:00:00          1012.4    73.746   74.090   73.352   \n",
       "2011-05-15 00:01:00          1012.4    74.163   74.231   73.576   \n",
       "2011-05-15 00:02:00          1012.4    74.178   74.602   73.994   \n",
       "2011-05-15 00:03:00          1012.4    73.599   74.417   74.503   \n",
       "2011-05-15 00:04:00          1012.4    73.317   74.186   74.604   \n",
       "\n",
       "                     10MTair[degC]  6MTair[degC]  2MTair[degC]  \\\n",
       "Datetime                                                         \n",
       "2011-05-15 00:00:00        -13.795       -13.755       -13.788   \n",
       "2011-05-15 00:01:00        -13.874       -13.806       -13.841   \n",
       "2011-05-15 00:02:00        -13.957       -13.887       -13.920   \n",
       "2011-05-15 00:03:00        -13.897       -13.877       -13.874   \n",
       "2011-05-15 00:04:00        -13.831       -13.823       -13.806   \n",
       "\n",
       "                     LWTotalDownwelling[W/m^2]  bsrnLWTotalDownwelling[W/m^2]  \n",
       "Datetime                                                                       \n",
       "2011-05-15 00:00:00                    178.499                            NaN  \n",
       "2011-05-15 00:01:00                    178.370                         176.84  \n",
       "2011-05-15 00:02:00                    178.464                         178.26  \n",
       "2011-05-15 00:03:00                    178.586                         178.67  \n",
       "2011-05-15 00:04:00                    178.583                         178.49  "
      ]
     },
     "execution_count": 32,
     "metadata": {},
     "output_type": "execute_result"
    }
   ],
   "source": [
    "target_df.head()"
   ]
  },
  {
   "cell_type": "code",
   "execution_count": 33,
   "id": "fe33367a-f761-45d7-a475-8ff41a54d551",
   "metadata": {},
   "outputs": [
    {
     "data": {
      "text/html": [
       "<div>\n",
       "<style scoped>\n",
       "    .dataframe tbody tr th:only-of-type {\n",
       "        vertical-align: middle;\n",
       "    }\n",
       "\n",
       "    .dataframe tbody tr th {\n",
       "        vertical-align: top;\n",
       "    }\n",
       "\n",
       "    .dataframe thead th {\n",
       "        text-align: right;\n",
       "    }\n",
       "</style>\n",
       "<table border=\"1\" class=\"dataframe\">\n",
       "  <thead>\n",
       "    <tr style=\"text-align: right;\">\n",
       "      <th></th>\n",
       "      <th>Pressure[mbar]</th>\n",
       "      <th>10MRH[%]</th>\n",
       "      <th>6MRH[%]</th>\n",
       "      <th>2MRH[%]</th>\n",
       "      <th>10MTair[degC]</th>\n",
       "      <th>6MTair[degC]</th>\n",
       "      <th>2MTair[degC]</th>\n",
       "      <th>LWTotalDownwelling[W/m^2]</th>\n",
       "      <th>bsrnLWTotalDownwelling[W/m^2]</th>\n",
       "    </tr>\n",
       "  </thead>\n",
       "  <tbody>\n",
       "    <tr>\n",
       "      <th>count</th>\n",
       "      <td>11520.000000</td>\n",
       "      <td>11520.000000</td>\n",
       "      <td>11520.000000</td>\n",
       "      <td>11520.000000</td>\n",
       "      <td>11520.000000</td>\n",
       "      <td>11520.000000</td>\n",
       "      <td>11520.000000</td>\n",
       "      <td>11520.000000</td>\n",
       "      <td>8642.000000</td>\n",
       "    </tr>\n",
       "    <tr>\n",
       "      <th>mean</th>\n",
       "      <td>1009.673885</td>\n",
       "      <td>60.938048</td>\n",
       "      <td>61.045173</td>\n",
       "      <td>61.266068</td>\n",
       "      <td>-0.253145</td>\n",
       "      <td>-0.299319</td>\n",
       "      <td>-0.425323</td>\n",
       "      <td>252.007745</td>\n",
       "      <td>226.791844</td>\n",
       "    </tr>\n",
       "    <tr>\n",
       "      <th>std</th>\n",
       "      <td>8.356647</td>\n",
       "      <td>16.629128</td>\n",
       "      <td>16.481022</td>\n",
       "      <td>16.737523</td>\n",
       "      <td>10.603025</td>\n",
       "      <td>10.693661</td>\n",
       "      <td>10.732160</td>\n",
       "      <td>65.841121</td>\n",
       "      <td>160.631852</td>\n",
       "    </tr>\n",
       "    <tr>\n",
       "      <th>min</th>\n",
       "      <td>996.910000</td>\n",
       "      <td>16.836000</td>\n",
       "      <td>17.281000</td>\n",
       "      <td>17.614000</td>\n",
       "      <td>-15.671000</td>\n",
       "      <td>-15.995000</td>\n",
       "      <td>-15.920000</td>\n",
       "      <td>171.492000</td>\n",
       "      <td>-9999.000000</td>\n",
       "    </tr>\n",
       "    <tr>\n",
       "      <th>25%</th>\n",
       "      <td>1003.200000</td>\n",
       "      <td>52.758750</td>\n",
       "      <td>53.465000</td>\n",
       "      <td>52.950250</td>\n",
       "      <td>-7.963175</td>\n",
       "      <td>-8.227375</td>\n",
       "      <td>-8.273650</td>\n",
       "      <td>196.199000</td>\n",
       "      <td>186.070000</td>\n",
       "    </tr>\n",
       "    <tr>\n",
       "      <th>50%</th>\n",
       "      <td>1007.800000</td>\n",
       "      <td>67.516500</td>\n",
       "      <td>67.284500</td>\n",
       "      <td>67.944000</td>\n",
       "      <td>-3.618850</td>\n",
       "      <td>-3.620850</td>\n",
       "      <td>-3.872500</td>\n",
       "      <td>242.630000</td>\n",
       "      <td>236.090000</td>\n",
       "    </tr>\n",
       "    <tr>\n",
       "      <th>75%</th>\n",
       "      <td>1015.025000</td>\n",
       "      <td>72.117000</td>\n",
       "      <td>72.175500</td>\n",
       "      <td>72.869250</td>\n",
       "      <td>8.389975</td>\n",
       "      <td>8.378200</td>\n",
       "      <td>8.445450</td>\n",
       "      <td>288.113250</td>\n",
       "      <td>271.120000</td>\n",
       "    </tr>\n",
       "    <tr>\n",
       "      <th>max</th>\n",
       "      <td>1023.600000</td>\n",
       "      <td>86.036000</td>\n",
       "      <td>86.253000</td>\n",
       "      <td>86.084000</td>\n",
       "      <td>19.754000</td>\n",
       "      <td>19.998000</td>\n",
       "      <td>19.825000</td>\n",
       "      <td>416.329000</td>\n",
       "      <td>289.120000</td>\n",
       "    </tr>\n",
       "  </tbody>\n",
       "</table>\n",
       "</div>"
      ],
      "text/plain": [
       "       Pressure[mbar]      10MRH[%]       6MRH[%]       2MRH[%]  \\\n",
       "count    11520.000000  11520.000000  11520.000000  11520.000000   \n",
       "mean      1009.673885     60.938048     61.045173     61.266068   \n",
       "std          8.356647     16.629128     16.481022     16.737523   \n",
       "min        996.910000     16.836000     17.281000     17.614000   \n",
       "25%       1003.200000     52.758750     53.465000     52.950250   \n",
       "50%       1007.800000     67.516500     67.284500     67.944000   \n",
       "75%       1015.025000     72.117000     72.175500     72.869250   \n",
       "max       1023.600000     86.036000     86.253000     86.084000   \n",
       "\n",
       "       10MTair[degC]  6MTair[degC]  2MTair[degC]  LWTotalDownwelling[W/m^2]  \\\n",
       "count   11520.000000  11520.000000  11520.000000               11520.000000   \n",
       "mean       -0.253145     -0.299319     -0.425323                 252.007745   \n",
       "std        10.603025     10.693661     10.732160                  65.841121   \n",
       "min       -15.671000    -15.995000    -15.920000                 171.492000   \n",
       "25%        -7.963175     -8.227375     -8.273650                 196.199000   \n",
       "50%        -3.618850     -3.620850     -3.872500                 242.630000   \n",
       "75%         8.389975      8.378200      8.445450                 288.113250   \n",
       "max        19.754000     19.998000     19.825000                 416.329000   \n",
       "\n",
       "       bsrnLWTotalDownwelling[W/m^2]  \n",
       "count                    8642.000000  \n",
       "mean                      226.791844  \n",
       "std                       160.631852  \n",
       "min                     -9999.000000  \n",
       "25%                       186.070000  \n",
       "50%                       236.090000  \n",
       "75%                       271.120000  \n",
       "max                       289.120000  "
      ]
     },
     "execution_count": 33,
     "metadata": {},
     "output_type": "execute_result"
    }
   ],
   "source": [
    "target_df.describe()"
   ]
  },
  {
   "cell_type": "code",
   "execution_count": 34,
   "id": "09224867-20b1-4877-afcf-ed266a642822",
   "metadata": {},
   "outputs": [
    {
     "data": {
      "text/plain": [
       "Index(['Pressure[mbar]', '10MRH[%]', '6MRH[%]', '2MRH[%]', '10MTair[degC]',\n",
       "       '6MTair[degC]', '2MTair[degC]', 'LWTotalDownwelling[W/m^2]',\n",
       "       'bsrnLWTotalDownwelling[W/m^2]'],\n",
       "      dtype='object')"
      ]
     },
     "execution_count": 34,
     "metadata": {},
     "output_type": "execute_result"
    }
   ],
   "source": [
    "target_df.columns"
   ]
  },
  {
   "cell_type": "code",
   "execution_count": 35,
   "id": "f12c5542-b678-4ed4-9b72-5b0049913177",
   "metadata": {},
   "outputs": [
    {
     "data": {
      "text/plain": [
       "DatetimeIndex(['2011-05-15 00:00:00', '2011-05-15 00:01:00',\n",
       "               '2011-05-15 00:02:00', '2011-05-15 00:03:00',\n",
       "               '2011-05-15 00:04:00', '2011-05-15 00:05:00',\n",
       "               '2011-05-15 00:06:00', '2011-05-15 00:07:00',\n",
       "               '2011-05-15 00:08:00', '2011-05-15 00:09:00',\n",
       "               ...\n",
       "               '2014-07-04 23:51:00', '2014-07-04 23:52:00',\n",
       "               '2014-07-04 23:53:00', '2014-07-04 23:54:00',\n",
       "               '2014-07-04 23:55:00', '2014-07-04 23:56:00',\n",
       "               '2014-07-04 23:57:00', '2014-07-04 23:58:00',\n",
       "               '2014-07-04 23:59:00', '2014-07-05 00:00:00'],\n",
       "              dtype='datetime64[ns]', name='Datetime', length=11526, freq=None)"
      ]
     },
     "execution_count": 35,
     "metadata": {},
     "output_type": "execute_result"
    }
   ],
   "source": [
    "target_df.index"
   ]
  },
  {
   "cell_type": "markdown",
   "id": "65936955-c2e3-4a43-b635-95a74fab9875",
   "metadata": {},
   "source": [
    "## 1) Calculate effective emissivity"
   ]
  },
  {
   "cell_type": "markdown",
   "id": "2f33cc12-d1d0-43ce-abfe-972941014245",
   "metadata": {},
   "source": [
    "### Calculate effective emissivity from measured DLR and Temperature"
   ]
  },
  {
   "cell_type": "code",
   "execution_count": 12,
   "id": "e6cfa749-1340-4f61-b2ea-f6c723886b2b",
   "metadata": {},
   "outputs": [],
   "source": [
    "SIGMA = 5.67e-8"
   ]
  },
  {
   "cell_type": "code",
   "execution_count": 13,
   "id": "b7ba1aad-cf5d-4c26-b134-5c0e0bbef7b9",
   "metadata": {},
   "outputs": [],
   "source": [
    "# Convert temperature from Celsius to Kelvin\n",
    "\n",
    "towermet_df['T2_K'] = towermet_df['2MTair[degC]'] + 273.15 \n",
    "towermet_df['T6_K'] = towermet_df['6MTair[degC]'] + 273.15 \n",
    "towermet_df['T10_K'] = towermet_df['10MTair[degC]'] + 273.15 \n",
    "\n",
    "# Calculate effective emissivity\n",
    "towermet_df['eps2'] = towerrad_df['LWTotalDownwelling[W/m^2]'] / (SIGMA * towermet_df['T2_K']**4)\n",
    "towermet_df['eps6'] = towerrad_df['LWTotalDownwelling[W/m^2]'] / (SIGMA * towermet_df['T6_K']**4)\n",
    "towermet_df['eps10'] = towerrad_df['LWTotalDownwelling[W/m^2]'] / (SIGMA * towermet_df['T10_K']**4)"
   ]
  },
  {
   "cell_type": "markdown",
   "id": "3f128d4b-7c25-4e2c-881a-788a0bb14408",
   "metadata": {},
   "source": [
    "## 2) Calculate expected DLR \n",
    "\n",
    "*This step will come after fitting a power curve to the measured DLR data*"
   ]
  },
  {
   "cell_type": "markdown",
   "id": "811e88ad-949b-4558-b63f-53908bd92967",
   "metadata": {},
   "source": [
    "Calculate Partial Pressure of water vapor (hPa)"
   ]
  },
  {
   "cell_type": "code",
   "execution_count": 14,
   "id": "efa9f5b1-0607-4a68-bb31-062cca9bbe2b",
   "metadata": {},
   "outputs": [],
   "source": [
    "towermet_df['Pw2'] = 610.94*(towermet_df['2MRH[%]']/100)*np.exp((17.625*(towermet_df['T2_K'] - 273.15))/(towermet_df['T2_K'] - 30.11))/100\n",
    "towermet_df['Pw6'] = 610.94*(towermet_df['6MRH[%]']/100)*np.exp((17.625*(towermet_df['T6_K'] - 273.15))/(towermet_df['T6_K'] - 30.11))/100\n",
    "towermet_df['Pw10'] = 610.94*(towermet_df['10MRH[%]']/100)*np.exp((17.625*(towermet_df['T10_K'] - 273.15))/(towermet_df['T10_K'] - 30.11))/100"
   ]
  },
  {
   "cell_type": "markdown",
   "id": "b13b19fa-e167-4ba9-a1fb-f926bd9f38ab",
   "metadata": {},
   "source": [
    "Calculate clear sky emissivity\n",
    "*Parameters per the original Brunt equation. **Don't Run both emissivity cells***"
   ]
  },
  {
   "cell_type": "code",
   "execution_count": 15,
   "id": "e65ac89d-8bfe-4f91-9e24-625c04718ded",
   "metadata": {},
   "outputs": [],
   "source": [
    "towermet_df['e2'] = (0.52 + 0.065*np.sqrt(towermet_df['Pw2']))\n",
    "towermet_df['e6'] = (0.52 + 0.065*np.sqrt(towermet_df['Pw6']))\n",
    "towermet_df['e10'] = (0.52 + 0.065*np.sqrt(towermet_df['Pw10']))"
   ]
  },
  {
   "cell_type": "markdown",
   "id": "0c8b2b0f-bbae-488d-80e2-5a3c06f7c0f8",
   "metadata": {},
   "source": [
    "Calculate clear sky emissivity\n",
    "*Calibrated parameters per Li et al. 2017. **Don't Run both emissivity cells***"
   ]
  },
  {
   "cell_type": "code",
   "execution_count": 16,
   "id": "de8c5cbb-0e60-4f50-b08a-a86482e7e26a",
   "metadata": {},
   "outputs": [],
   "source": [
    "# towermet_df['e2'] = (0.618 + 0.054*np.sqrt(towermet_df['Pw2']))\n",
    "# towermet_df['e6'] = (0.618 + 0.054*np.sqrt(towermet_df['Pw6']))\n",
    "# towermet_df['e10'] = (0.618 + 0.054*np.sqrt(towermet_df['Pw10']))"
   ]
  },
  {
   "cell_type": "markdown",
   "id": "b82b77d1-32cf-48b2-8d28-7563d54c9c2f",
   "metadata": {},
   "source": [
    "Calculate expected DLR"
   ]
  },
  {
   "cell_type": "code",
   "execution_count": 17,
   "id": "43ae755a-44fe-47ed-8dcb-d950d680fb56",
   "metadata": {},
   "outputs": [],
   "source": [
    "towermet_df['DLR2'] = towermet_df['e2']*SIGMA*(towermet_df['T2_K']**4)\n",
    "towermet_df['DLR6'] = towermet_df['e6']*SIGMA*(towermet_df['T6_K']**4)\n",
    "towermet_df['DLR10'] = towermet_df['e10']*SIGMA*(towermet_df['T10_K']**4)"
   ]
  },
  {
   "cell_type": "markdown",
   "id": "cbf459c7-a2aa-410c-8080-f6cb2fb6bed0",
   "metadata": {},
   "source": [
    "Create a mask to filter out NaN values"
   ]
  },
  {
   "cell_type": "code",
   "execution_count": 18,
   "id": "d9532dd9-9b89-43d7-a746-81e05d6db1fe",
   "metadata": {},
   "outputs": [],
   "source": [
    "epsmask2 = towermet_df['eps2'].notna()\n",
    "epsmask6 = towermet_df['eps6'].notna()\n",
    "epsmask10 = towermet_df['eps10'].notna()\n",
    "DLRmask2 = towermet_df['DLR2'].notna() & towerrad_df['LWTotalDownwelling[W/m^2]'].notna()\n",
    "DLRmask6 = towermet_df['DLR6'].notna() & towerrad_df['LWTotalDownwelling[W/m^2]'].notna()\n",
    "DLRmask10 = towermet_df['DLR10'].notna() & towerrad_df['LWTotalDownwelling[W/m^2]'].notna()"
   ]
  },
  {
   "cell_type": "markdown",
   "id": "e0dc8893-076f-4251-9ceb-d1f2e2439dd2",
   "metadata": {},
   "source": [
    "## 3) Generate Plots"
   ]
  },
  {
   "cell_type": "markdown",
   "id": "a9b2bcb3-dcc6-4df9-a752-272bb25ba93e",
   "metadata": {},
   "source": [
    "### Emissivity over Time\n",
    "*Does not work for short selections of data spanning years*"
   ]
  },
  {
   "cell_type": "code",
   "execution_count": 22,
   "id": "6b16a498-0d6e-48d3-a86b-1b035f989134",
   "metadata": {},
   "outputs": [
    {
     "data": {
      "image/png": "[encoded data removed]",
      "text/plain": [
       "<Figure size 640x480 with 1 Axes>"
      ]
     },
     "metadata": {},
     "output_type": "display_data"
    }
   ],
   "source": [
    "## Plot e_sky over time\n",
    "plt.scatter(towermet_df.index[epsmask2], towermet_df['eps2'][epsmask2], label='2m', s=0.5, color='blue')\n",
    "# plt.scatter(towermet_df.index[epsmask6], towermet_df['eps6'][epsmask6], label='6m', s=0.5, color='cyan')\n",
    "# plt.scatter(towermet_df.index[epsmask10], towermet_df['eps10'][epsmask10], label='10m', s=0.5, color='red')\n",
    "\n",
    "# Set ticks at regular intervals\n",
    "# Find the start and end dates in your DataFrame\n",
    "start_date = towermet_df.index.min()\n",
    "end_date = towermet_df.index.max()\n",
    "\n",
    "# # Generate ticks at regular intervals between start and end dates\n",
    "ticks = pd.date_range(start=start_date, end=end_date, freq='12h')\n",
    "tick_labels = [date.strftime('%Y-%m-%d') if i % 4 == 0 else None for i, date in enumerate(ticks)]\n",
    "\n",
    "# Format the plot\n",
    "plt.xticks(ticks, tick_labels)\n",
    "plt.xlabel('Time')\n",
    "plt.ylabel('Emissivity')\n",
    "plt.title('Emissivity over Time')\n",
    "plt.legend()\n",
    "plt.grid()\n",
    "\n",
    "# Save plot as .png\n",
    "# plt.savefig('emissivity.png')"
   ]
  },
  {
   "cell_type": "markdown",
   "id": "78858590-0aed-40be-ad31-3901b2ff235e",
   "metadata": {},
   "source": [
    "### Expected vs Measured DLR\n",
    "\n",
    "Axis start at zero"
   ]
  },
  {
   "cell_type": "code",
   "execution_count": 23,
   "id": "c854ed41-c93c-4c16-8191-982c2137cab7",
   "metadata": {},
   "outputs": [
    {
     "data": {
      "text/plain": [
       "<matplotlib.legend.Legend at 0x22429eaebd0>"
      ]
     },
     "execution_count": 23,
     "metadata": {},
     "output_type": "execute_result"
    },
    {
     "data": {
      "image/png": "[encoded data removed]",
      "text/plain": [
       "<Figure size 640x480 with 1 Axes>"
      ]
     },
     "metadata": {},
     "output_type": "display_data"
    }
   ],
   "source": [
    "## Plot expected DLR vs measured DLR\n",
    "plt.scatter(towerrad_df['LWTotalDownwelling[W/m^2]'][DLRmask2], towermet_df['DLR2'][DLRmask2], label='2m', s=0.5, color='blue')\n",
    "# plt.scatter(towerrad_df['LWTotalDownwelling[W/m^2]'][DLRmask6], towermet_df['DLR6'][DLRmask6], label='6m', s=0.5, color='cyan')\n",
    "# plt.scatter(towerrad_df['LWTotalDownwelling[W/m^2]'][DLRmask10], towermet_df['DLR10'][DLRmask10], label='10m', s=0.5, color='red')\n",
    "\n",
    "# Calculate the maximum value for x and y\n",
    "max_value = max(np.nanmax(towerrad_df['LWTotalDownwelling[W/m^2]'][DLRmask2]), np.nanmax(towermet_df['DLR2'][DLRmask2]))\n",
    "plt.xlim(0, max_value)\n",
    "plt.ylim(0, max_value)\n",
    "plt.grid()\n",
    "plt.plot([0,max_value],[0,max_value])\n",
    "\n",
    "# Format the plot\n",
    "plt.xlabel('Measured DLR')\n",
    "plt.ylabel('Expected DLR')\n",
    "plt.title('Expected vs Measured DLR')\n",
    "plt.legend()\n",
    "\n",
    "# Save plot as .png\n",
    "# plt.savefig('exp-vs-measured-DLR.png')"
   ]
  },
  {
   "cell_type": "markdown",
   "id": "26e2b63e-273c-472d-a172-ea3542361a91",
   "metadata": {},
   "source": [
    "### Expected vs Measured DLR\n",
    "\n",
    "Grid fitted to data (i.e. zoomed in)"
   ]
  },
  {
   "cell_type": "code",
   "execution_count": 24,
   "id": "39f2b7e2-2c36-446b-bd52-16595e3b6c6c",
   "metadata": {},
   "outputs": [
    {
     "data": {
      "text/plain": [
       "<matplotlib.legend.Legend at 0x22429d26780>"
      ]
     },
     "execution_count": 24,
     "metadata": {},
     "output_type": "execute_result"
    },
    {
     "data": {
      "image/png": "[encoded data removed]",
      "text/plain": [
       "<Figure size 640x480 with 1 Axes>"
      ]
     },
     "metadata": {},
     "output_type": "display_data"
    }
   ],
   "source": [
    "## Plot expected DLR vs measured DLR\n",
    "plt.scatter(towerrad_df['LWTotalDownwelling[W/m^2]'][DLRmask2], towermet_df['DLR2'][DLRmask2], label='2m', s=0.5, color='blue')\n",
    "# plt.scatter(towerrad_df['LWTotalDownwelling[W/m^2]'][DLRmask6], towermet_df['DLR6'][DLRmask6], label='6m', s=0.5, color='cyan')\n",
    "# plt.scatter(towerrad_df['LWTotalDownwelling[W/m^2]'][DLRmask10], towermet_df['DLR10'][DLRmask10], label='10m', s=0.5, color='red')\n",
    "\n",
    "# Calculate the maximum value for x and y\n",
    "max_value = max(np.nanmax(towerrad_df['LWTotalDownwelling[W/m^2]'][DLRmask2]), np.nanmax(towermet_df['DLR2'][DLRmask2]))\n",
    "min_value = min(np.nanmin(towerrad_df['LWTotalDownwelling[W/m^2]'][DLRmask2]), np.nanmin(towermet_df['DLR2'][DLRmask2]))\n",
    "plt.xlim(min_value, max_value)\n",
    "plt.ylim(min_value, max_value)\n",
    "plt.grid()\n",
    "plt.plot([min_value,max_value],[min_value,max_value])\n",
    "\n",
    "\n",
    "# Format the plot\n",
    "plt.xlabel('Measured DLR')\n",
    "plt.ylabel('Expected DLR')\n",
    "plt.title('Expected vs Measured DLR')\n",
    "plt.legend()\n",
    "\n",
    "# Save plot as .png\n",
    "# plt.savefig('exp-vs-measured-DLR.png')"
   ]
  },
  {
   "cell_type": "code",
   "execution_count": null,
   "id": "723e646d-4dd9-45f9-9418-e0668923b414",
   "metadata": {},
   "outputs": [],
   "source": []
  }
 ],
 "metadata": {
  "kernelspec": {
   "display_name": "Python 3 (ipykernel)",
   "language": "python",
   "name": "python3"
  },
  "language_info": {
   "codemirror_mode": {
    "name": "ipython",
    "version": 3
   },
   "file_extension": ".py",
   "mimetype": "text/x-python",
   "name": "python",
   "nbconvert_exporter": "python",
   "pygments_lexer": "ipython3",
   "version": "3.12.2"
  }
 },
 "nbformat": 4,
 "nbformat_minor": 5
}
