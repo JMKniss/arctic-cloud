{
 "cells": [
  {
   "cell_type": "markdown",
   "id": "4b5d16fa-5fc3-4cdc-8384-6f6c1b39fd23",
   "metadata": {},
   "source": [
    "# Arctic-calibrated Brunt equation\n",
    "\n",
    "## Jason Kniss\n",
    "## Feb 14 2024\n",
    "\n",
    "### Calibrate the Brunt equation using data from the Eureka site"
   ]
  },
  {
   "cell_type": "markdown",
   "id": "8e8a726b-ff87-48b1-b003-2bb259a9a56c",
   "metadata": {},
   "source": [
    "Import libraries"
   ]
  },
  {
   "cell_type": "code",
   "execution_count": 1,
   "id": "6e068c0a-3460-47a8-8954-86c987cf0cd6",
   "metadata": {},
   "outputs": [],
   "source": [
    "import pandas as pd\n",
    "import matplotlib.pyplot as plt\n",
    "import numpy as np\n",
    "from datetime import datetime, timedelta"
   ]
  },
  {
   "cell_type": "markdown",
   "id": "17d626e3-4cab-4af4-a2cf-beca17c32023",
   "metadata": {},
   "source": [
    "## Import data from Eureka observatory"
   ]
  },
  {
   "cell_type": "code",
   "execution_count": 2,
   "id": "9f84b8d5-71ff-4e8a-8065-067378b184c5",
   "metadata": {},
   "outputs": [],
   "source": [
    "towermet_07012011_file = 'data/eureka-data/eurmeteorologicaltwr.b1.20110701.000000.txt'\n",
    "# Add additional tower met data files\n",
    "\n",
    "towerrad_07012011_file = 'data/eureka-data/eurradiationtwr.b1.20110701.000000.txt'\n",
    "# Add additional tower radiation files"
   ]
  },
  {
   "cell_type": "markdown",
   "id": "a69712cc-4a9b-46eb-be96-3ae8f85110e1",
   "metadata": {},
   "source": [
    "### Create meteorological dataframes"
   ]
  },
  {
   "cell_type": "markdown",
   "id": "5cff3aab-6638-47dc-85be-8a62046ea21f",
   "metadata": {},
   "source": [
    "Extract the header data separately (delimiters are not the same)"
   ]
  },
  {
   "cell_type": "code",
   "execution_count": 3,
   "id": "b0cb944c-3a12-4aef-866b-5f75e2122fa1",
   "metadata": {},
   "outputs": [],
   "source": [
    "with open(towermet_07012011_file, \"r\") as f:\n",
    "    lines = f.readlines()\n",
    "\n",
    "header = lines[0].strip().split()\n",
    "data_rows = [line.strip().split(\"\\t\") for line in lines[1:]]\n"
   ]
  },
  {
   "cell_type": "code",
   "execution_count": 4,
   "id": "5d6c7dd6-34be-47cf-9941-3d6c698c6ea4",
   "metadata": {},
   "outputs": [],
   "source": [
    "df1 = pd.DataFrame(data_rows, columns=header)\n",
    " # Rename the dataframe when more data is imported"
   ]
  },
  {
   "cell_type": "code",
   "execution_count": 5,
   "id": "f1f97d3f-2811-4c0d-b1ce-12b56a4c565a",
   "metadata": {},
   "outputs": [],
   "source": [
    "df1 = df1.astype('float')"
   ]
  },
  {
   "cell_type": "code",
   "execution_count": 6,
   "id": "27b87900-4b7e-4464-ba67-ae27ef61aa7c",
   "metadata": {},
   "outputs": [
    {
     "data": {
      "text/html": [
       "<div>\n",
       "<style scoped>\n",
       "    .dataframe tbody tr th:only-of-type {\n",
       "        vertical-align: middle;\n",
       "    }\n",
       "\n",
       "    .dataframe tbody tr th {\n",
       "        vertical-align: top;\n",
       "    }\n",
       "\n",
       "    .dataframe thead th {\n",
       "        text-align: right;\n",
       "    }\n",
       "</style>\n",
       "<table border=\"1\" class=\"dataframe\">\n",
       "  <thead>\n",
       "    <tr style=\"text-align: right;\">\n",
       "      <th></th>\n",
       "      <th>DayFrac</th>\n",
       "      <th>Year</th>\n",
       "      <th>JulianDay</th>\n",
       "      <th>HourMin</th>\n",
       "      <th>Pressure[mbar]</th>\n",
       "      <th>10MVTair[degC]</th>\n",
       "      <th>10MRH[%]</th>\n",
       "      <th>6MVTair[degC]</th>\n",
       "      <th>6MRH[%]</th>\n",
       "      <th>2MVTair[degC]</th>\n",
       "      <th>...</th>\n",
       "      <th>2MTair[degC]</th>\n",
       "      <th>10MTCETair[degC]</th>\n",
       "      <th>6MTCETair[degC]</th>\n",
       "      <th>6MTCWTair[degC]</th>\n",
       "      <th>2MTCWTair[degC]</th>\n",
       "      <th>Wdir[deg]</th>\n",
       "      <th>Wspd[m/s]</th>\n",
       "      <th>HumidityQC</th>\n",
       "      <th>AirTempQC</th>\n",
       "      <th>TCAirTempQC</th>\n",
       "    </tr>\n",
       "  </thead>\n",
       "  <tbody>\n",
       "    <tr>\n",
       "      <th>0</th>\n",
       "      <td>182.000</td>\n",
       "      <td>2011.0</td>\n",
       "      <td>182.0</td>\n",
       "      <td>0.0</td>\n",
       "      <td>1006.3</td>\n",
       "      <td>18.695</td>\n",
       "      <td>22.882</td>\n",
       "      <td>18.781</td>\n",
       "      <td>23.215</td>\n",
       "      <td>18.933</td>\n",
       "      <td>...</td>\n",
       "      <td>18.346</td>\n",
       "      <td>19.155</td>\n",
       "      <td>19.320</td>\n",
       "      <td>19.481</td>\n",
       "      <td>-9999.0</td>\n",
       "      <td>176.99</td>\n",
       "      <td>2.6605</td>\n",
       "      <td>0.0</td>\n",
       "      <td>0.0</td>\n",
       "      <td>1.0</td>\n",
       "    </tr>\n",
       "    <tr>\n",
       "      <th>1</th>\n",
       "      <td>182.001</td>\n",
       "      <td>2011.0</td>\n",
       "      <td>182.0</td>\n",
       "      <td>1.0</td>\n",
       "      <td>1006.4</td>\n",
       "      <td>18.719</td>\n",
       "      <td>23.086</td>\n",
       "      <td>18.856</td>\n",
       "      <td>23.790</td>\n",
       "      <td>18.990</td>\n",
       "      <td>...</td>\n",
       "      <td>18.392</td>\n",
       "      <td>19.351</td>\n",
       "      <td>19.578</td>\n",
       "      <td>19.562</td>\n",
       "      <td>-9999.0</td>\n",
       "      <td>195.14</td>\n",
       "      <td>1.9895</td>\n",
       "      <td>0.0</td>\n",
       "      <td>0.0</td>\n",
       "      <td>1.0</td>\n",
       "    </tr>\n",
       "    <tr>\n",
       "      <th>2</th>\n",
       "      <td>182.001</td>\n",
       "      <td>2011.0</td>\n",
       "      <td>182.0</td>\n",
       "      <td>2.0</td>\n",
       "      <td>1006.4</td>\n",
       "      <td>18.802</td>\n",
       "      <td>23.171</td>\n",
       "      <td>18.892</td>\n",
       "      <td>23.560</td>\n",
       "      <td>19.018</td>\n",
       "      <td>...</td>\n",
       "      <td>18.406</td>\n",
       "      <td>19.430</td>\n",
       "      <td>19.517</td>\n",
       "      <td>19.658</td>\n",
       "      <td>-9999.0</td>\n",
       "      <td>180.96</td>\n",
       "      <td>2.0947</td>\n",
       "      <td>0.0</td>\n",
       "      <td>0.0</td>\n",
       "      <td>1.0</td>\n",
       "    </tr>\n",
       "    <tr>\n",
       "      <th>3</th>\n",
       "      <td>182.002</td>\n",
       "      <td>2011.0</td>\n",
       "      <td>182.0</td>\n",
       "      <td>3.0</td>\n",
       "      <td>1006.4</td>\n",
       "      <td>18.793</td>\n",
       "      <td>22.865</td>\n",
       "      <td>18.861</td>\n",
       "      <td>23.263</td>\n",
       "      <td>18.985</td>\n",
       "      <td>...</td>\n",
       "      <td>18.389</td>\n",
       "      <td>19.124</td>\n",
       "      <td>19.244</td>\n",
       "      <td>19.377</td>\n",
       "      <td>-9999.0</td>\n",
       "      <td>165.34</td>\n",
       "      <td>2.3053</td>\n",
       "      <td>0.0</td>\n",
       "      <td>0.0</td>\n",
       "      <td>1.0</td>\n",
       "    </tr>\n",
       "    <tr>\n",
       "      <th>4</th>\n",
       "      <td>182.003</td>\n",
       "      <td>2011.0</td>\n",
       "      <td>182.0</td>\n",
       "      <td>4.0</td>\n",
       "      <td>1006.4</td>\n",
       "      <td>18.691</td>\n",
       "      <td>22.890</td>\n",
       "      <td>18.768</td>\n",
       "      <td>23.457</td>\n",
       "      <td>18.933</td>\n",
       "      <td>...</td>\n",
       "      <td>18.341</td>\n",
       "      <td>19.227</td>\n",
       "      <td>19.421</td>\n",
       "      <td>19.453</td>\n",
       "      <td>-9999.0</td>\n",
       "      <td>160.13</td>\n",
       "      <td>2.1737</td>\n",
       "      <td>0.0</td>\n",
       "      <td>0.0</td>\n",
       "      <td>1.0</td>\n",
       "    </tr>\n",
       "  </tbody>\n",
       "</table>\n",
       "<p>5 rows × 23 columns</p>\n",
       "</div>"
      ],
      "text/plain": [
       "   DayFrac    Year  JulianDay  HourMin  Pressure[mbar]  10MVTair[degC]  \\\n",
       "0  182.000  2011.0      182.0      0.0          1006.3          18.695   \n",
       "1  182.001  2011.0      182.0      1.0          1006.4          18.719   \n",
       "2  182.001  2011.0      182.0      2.0          1006.4          18.802   \n",
       "3  182.002  2011.0      182.0      3.0          1006.4          18.793   \n",
       "4  182.003  2011.0      182.0      4.0          1006.4          18.691   \n",
       "\n",
       "   10MRH[%]  6MVTair[degC]  6MRH[%]  2MVTair[degC]  ...  2MTair[degC]  \\\n",
       "0    22.882         18.781   23.215         18.933  ...        18.346   \n",
       "1    23.086         18.856   23.790         18.990  ...        18.392   \n",
       "2    23.171         18.892   23.560         19.018  ...        18.406   \n",
       "3    22.865         18.861   23.263         18.985  ...        18.389   \n",
       "4    22.890         18.768   23.457         18.933  ...        18.341   \n",
       "\n",
       "   10MTCETair[degC]  6MTCETair[degC]  6MTCWTair[degC]  2MTCWTair[degC]  \\\n",
       "0            19.155           19.320           19.481          -9999.0   \n",
       "1            19.351           19.578           19.562          -9999.0   \n",
       "2            19.430           19.517           19.658          -9999.0   \n",
       "3            19.124           19.244           19.377          -9999.0   \n",
       "4            19.227           19.421           19.453          -9999.0   \n",
       "\n",
       "   Wdir[deg]  Wspd[m/s]  HumidityQC  AirTempQC  TCAirTempQC  \n",
       "0     176.99     2.6605         0.0        0.0          1.0  \n",
       "1     195.14     1.9895         0.0        0.0          1.0  \n",
       "2     180.96     2.0947         0.0        0.0          1.0  \n",
       "3     165.34     2.3053         0.0        0.0          1.0  \n",
       "4     160.13     2.1737         0.0        0.0          1.0  \n",
       "\n",
       "[5 rows x 23 columns]"
      ]
     },
     "execution_count": 6,
     "metadata": {},
     "output_type": "execute_result"
    }
   ],
   "source": [
    "df1.head()"
   ]
  },
  {
   "cell_type": "code",
   "execution_count": 7,
   "id": "005d782a-d9b8-4847-aa04-749718195ab2",
   "metadata": {},
   "outputs": [
    {
     "data": {
      "text/html": [
       "<div>\n",
       "<style scoped>\n",
       "    .dataframe tbody tr th:only-of-type {\n",
       "        vertical-align: middle;\n",
       "    }\n",
       "\n",
       "    .dataframe tbody tr th {\n",
       "        vertical-align: top;\n",
       "    }\n",
       "\n",
       "    .dataframe thead th {\n",
       "        text-align: right;\n",
       "    }\n",
       "</style>\n",
       "<table border=\"1\" class=\"dataframe\">\n",
       "  <thead>\n",
       "    <tr style=\"text-align: right;\">\n",
       "      <th></th>\n",
       "      <th>DayFrac</th>\n",
       "      <th>Year</th>\n",
       "      <th>JulianDay</th>\n",
       "      <th>HourMin</th>\n",
       "      <th>Pressure[mbar]</th>\n",
       "      <th>10MVTair[degC]</th>\n",
       "      <th>10MRH[%]</th>\n",
       "      <th>6MVTair[degC]</th>\n",
       "      <th>6MRH[%]</th>\n",
       "      <th>2MVTair[degC]</th>\n",
       "      <th>...</th>\n",
       "      <th>2MTair[degC]</th>\n",
       "      <th>10MTCETair[degC]</th>\n",
       "      <th>6MTCETair[degC]</th>\n",
       "      <th>6MTCWTair[degC]</th>\n",
       "      <th>2MTCWTair[degC]</th>\n",
       "      <th>Wdir[deg]</th>\n",
       "      <th>Wspd[m/s]</th>\n",
       "      <th>HumidityQC</th>\n",
       "      <th>AirTempQC</th>\n",
       "      <th>TCAirTempQC</th>\n",
       "    </tr>\n",
       "  </thead>\n",
       "  <tbody>\n",
       "    <tr>\n",
       "      <th>count</th>\n",
       "      <td>1440.000000</td>\n",
       "      <td>1440.0</td>\n",
       "      <td>1440.0</td>\n",
       "      <td>1440.00000</td>\n",
       "      <td>1440.000000</td>\n",
       "      <td>1440.000000</td>\n",
       "      <td>1440.000000</td>\n",
       "      <td>1440.000000</td>\n",
       "      <td>1440.000000</td>\n",
       "      <td>1440.000000</td>\n",
       "      <td>...</td>\n",
       "      <td>1440.000000</td>\n",
       "      <td>1440.000000</td>\n",
       "      <td>1440.000000</td>\n",
       "      <td>1440.000000</td>\n",
       "      <td>1440.000000</td>\n",
       "      <td>1440.000000</td>\n",
       "      <td>1440.000000</td>\n",
       "      <td>1440.000000</td>\n",
       "      <td>1440.000000</td>\n",
       "      <td>1440.000000</td>\n",
       "    </tr>\n",
       "    <tr>\n",
       "      <th>mean</th>\n",
       "      <td>182.499656</td>\n",
       "      <td>2011.0</td>\n",
       "      <td>182.0</td>\n",
       "      <td>1179.50000</td>\n",
       "      <td>1005.749583</td>\n",
       "      <td>18.146654</td>\n",
       "      <td>25.146140</td>\n",
       "      <td>18.314465</td>\n",
       "      <td>25.534051</td>\n",
       "      <td>18.414520</td>\n",
       "      <td>...</td>\n",
       "      <td>17.843102</td>\n",
       "      <td>18.503231</td>\n",
       "      <td>18.614147</td>\n",
       "      <td>18.398411</td>\n",
       "      <td>-9950.298996</td>\n",
       "      <td>193.301083</td>\n",
       "      <td>3.003553</td>\n",
       "      <td>733.811111</td>\n",
       "      <td>0.785417</td>\n",
       "      <td>4.064583</td>\n",
       "    </tr>\n",
       "    <tr>\n",
       "      <th>std</th>\n",
       "      <td>0.288777</td>\n",
       "      <td>0.0</td>\n",
       "      <td>0.0</td>\n",
       "      <td>692.67581</td>\n",
       "      <td>0.287255</td>\n",
       "      <td>1.010456</td>\n",
       "      <td>4.624364</td>\n",
       "      <td>0.978427</td>\n",
       "      <td>4.494879</td>\n",
       "      <td>1.074884</td>\n",
       "      <td>...</td>\n",
       "      <td>1.140793</td>\n",
       "      <td>1.016766</td>\n",
       "      <td>1.034999</td>\n",
       "      <td>1.422710</td>\n",
       "      <td>697.048249</td>\n",
       "      <td>52.581495</td>\n",
       "      <td>1.764908</td>\n",
       "      <td>8450.125618</td>\n",
       "      <td>8.981592</td>\n",
       "      <td>52.898496</td>\n",
       "    </tr>\n",
       "    <tr>\n",
       "      <th>min</th>\n",
       "      <td>182.000000</td>\n",
       "      <td>2011.0</td>\n",
       "      <td>182.0</td>\n",
       "      <td>0.00000</td>\n",
       "      <td>1005.200000</td>\n",
       "      <td>15.393000</td>\n",
       "      <td>16.836000</td>\n",
       "      <td>15.619000</td>\n",
       "      <td>17.281000</td>\n",
       "      <td>15.522000</td>\n",
       "      <td>...</td>\n",
       "      <td>14.819000</td>\n",
       "      <td>16.038000</td>\n",
       "      <td>15.994000</td>\n",
       "      <td>14.397000</td>\n",
       "      <td>-9999.000000</td>\n",
       "      <td>124.210000</td>\n",
       "      <td>0.200000</td>\n",
       "      <td>0.000000</td>\n",
       "      <td>0.000000</td>\n",
       "      <td>0.000000</td>\n",
       "    </tr>\n",
       "    <tr>\n",
       "      <th>25%</th>\n",
       "      <td>182.249750</td>\n",
       "      <td>2011.0</td>\n",
       "      <td>182.0</td>\n",
       "      <td>589.75000</td>\n",
       "      <td>1005.500000</td>\n",
       "      <td>17.884000</td>\n",
       "      <td>22.185250</td>\n",
       "      <td>18.042500</td>\n",
       "      <td>22.783000</td>\n",
       "      <td>18.050250</td>\n",
       "      <td>...</td>\n",
       "      <td>17.358000</td>\n",
       "      <td>17.769000</td>\n",
       "      <td>17.933000</td>\n",
       "      <td>17.865250</td>\n",
       "      <td>-9999.000000</td>\n",
       "      <td>159.767500</td>\n",
       "      <td>1.686800</td>\n",
       "      <td>0.000000</td>\n",
       "      <td>0.000000</td>\n",
       "      <td>1.000000</td>\n",
       "    </tr>\n",
       "    <tr>\n",
       "      <th>50%</th>\n",
       "      <td>182.499500</td>\n",
       "      <td>2011.0</td>\n",
       "      <td>182.0</td>\n",
       "      <td>1179.50000</td>\n",
       "      <td>1005.800000</td>\n",
       "      <td>18.315500</td>\n",
       "      <td>24.222000</td>\n",
       "      <td>18.514500</td>\n",
       "      <td>24.609000</td>\n",
       "      <td>18.602500</td>\n",
       "      <td>...</td>\n",
       "      <td>18.012000</td>\n",
       "      <td>18.596000</td>\n",
       "      <td>18.701500</td>\n",
       "      <td>18.749500</td>\n",
       "      <td>-9999.000000</td>\n",
       "      <td>170.580000</td>\n",
       "      <td>2.410500</td>\n",
       "      <td>0.000000</td>\n",
       "      <td>0.000000</td>\n",
       "      <td>1.000000</td>\n",
       "    </tr>\n",
       "    <tr>\n",
       "      <th>75%</th>\n",
       "      <td>182.749250</td>\n",
       "      <td>2011.0</td>\n",
       "      <td>182.0</td>\n",
       "      <td>1769.25000</td>\n",
       "      <td>1005.900000</td>\n",
       "      <td>18.870250</td>\n",
       "      <td>27.284000</td>\n",
       "      <td>18.993750</td>\n",
       "      <td>27.571000</td>\n",
       "      <td>19.235500</td>\n",
       "      <td>...</td>\n",
       "      <td>18.731500</td>\n",
       "      <td>19.376000</td>\n",
       "      <td>19.473500</td>\n",
       "      <td>19.487250</td>\n",
       "      <td>-9999.000000</td>\n",
       "      <td>212.877500</td>\n",
       "      <td>4.384200</td>\n",
       "      <td>0.000000</td>\n",
       "      <td>0.000000</td>\n",
       "      <td>1.000000</td>\n",
       "    </tr>\n",
       "    <tr>\n",
       "      <th>max</th>\n",
       "      <td>182.999000</td>\n",
       "      <td>2011.0</td>\n",
       "      <td>182.0</td>\n",
       "      <td>2359.00000</td>\n",
       "      <td>1006.400000</td>\n",
       "      <td>19.884000</td>\n",
       "      <td>36.965000</td>\n",
       "      <td>19.998000</td>\n",
       "      <td>37.092000</td>\n",
       "      <td>20.281000</td>\n",
       "      <td>...</td>\n",
       "      <td>19.825000</td>\n",
       "      <td>20.250000</td>\n",
       "      <td>20.489000</td>\n",
       "      <td>20.401000</td>\n",
       "      <td>19.711000</td>\n",
       "      <td>352.260000</td>\n",
       "      <td>7.568400</td>\n",
       "      <td>110011.000000</td>\n",
       "      <td>111.000000</td>\n",
       "      <td>1001.000000</td>\n",
       "    </tr>\n",
       "  </tbody>\n",
       "</table>\n",
       "<p>8 rows × 23 columns</p>\n",
       "</div>"
      ],
      "text/plain": [
       "           DayFrac    Year  JulianDay     HourMin  Pressure[mbar]  \\\n",
       "count  1440.000000  1440.0     1440.0  1440.00000     1440.000000   \n",
       "mean    182.499656  2011.0      182.0  1179.50000     1005.749583   \n",
       "std       0.288777     0.0        0.0   692.67581        0.287255   \n",
       "min     182.000000  2011.0      182.0     0.00000     1005.200000   \n",
       "25%     182.249750  2011.0      182.0   589.75000     1005.500000   \n",
       "50%     182.499500  2011.0      182.0  1179.50000     1005.800000   \n",
       "75%     182.749250  2011.0      182.0  1769.25000     1005.900000   \n",
       "max     182.999000  2011.0      182.0  2359.00000     1006.400000   \n",
       "\n",
       "       10MVTair[degC]     10MRH[%]  6MVTair[degC]      6MRH[%]  2MVTair[degC]  \\\n",
       "count     1440.000000  1440.000000    1440.000000  1440.000000    1440.000000   \n",
       "mean        18.146654    25.146140      18.314465    25.534051      18.414520   \n",
       "std          1.010456     4.624364       0.978427     4.494879       1.074884   \n",
       "min         15.393000    16.836000      15.619000    17.281000      15.522000   \n",
       "25%         17.884000    22.185250      18.042500    22.783000      18.050250   \n",
       "50%         18.315500    24.222000      18.514500    24.609000      18.602500   \n",
       "75%         18.870250    27.284000      18.993750    27.571000      19.235500   \n",
       "max         19.884000    36.965000      19.998000    37.092000      20.281000   \n",
       "\n",
       "       ...  2MTair[degC]  10MTCETair[degC]  6MTCETair[degC]  6MTCWTair[degC]  \\\n",
       "count  ...   1440.000000       1440.000000      1440.000000      1440.000000   \n",
       "mean   ...     17.843102         18.503231        18.614147        18.398411   \n",
       "std    ...      1.140793          1.016766         1.034999         1.422710   \n",
       "min    ...     14.819000         16.038000        15.994000        14.397000   \n",
       "25%    ...     17.358000         17.769000        17.933000        17.865250   \n",
       "50%    ...     18.012000         18.596000        18.701500        18.749500   \n",
       "75%    ...     18.731500         19.376000        19.473500        19.487250   \n",
       "max    ...     19.825000         20.250000        20.489000        20.401000   \n",
       "\n",
       "       2MTCWTair[degC]    Wdir[deg]    Wspd[m/s]     HumidityQC    AirTempQC  \\\n",
       "count      1440.000000  1440.000000  1440.000000    1440.000000  1440.000000   \n",
       "mean      -9950.298996   193.301083     3.003553     733.811111     0.785417   \n",
       "std         697.048249    52.581495     1.764908    8450.125618     8.981592   \n",
       "min       -9999.000000   124.210000     0.200000       0.000000     0.000000   \n",
       "25%       -9999.000000   159.767500     1.686800       0.000000     0.000000   \n",
       "50%       -9999.000000   170.580000     2.410500       0.000000     0.000000   \n",
       "75%       -9999.000000   212.877500     4.384200       0.000000     0.000000   \n",
       "max          19.711000   352.260000     7.568400  110011.000000   111.000000   \n",
       "\n",
       "       TCAirTempQC  \n",
       "count  1440.000000  \n",
       "mean      4.064583  \n",
       "std      52.898496  \n",
       "min       0.000000  \n",
       "25%       1.000000  \n",
       "50%       1.000000  \n",
       "75%       1.000000  \n",
       "max    1001.000000  \n",
       "\n",
       "[8 rows x 23 columns]"
      ]
     },
     "execution_count": 7,
     "metadata": {},
     "output_type": "execute_result"
    }
   ],
   "source": [
    "df1.describe()"
   ]
  },
  {
   "cell_type": "code",
   "execution_count": 8,
   "id": "0faa4c67-e13e-4c4c-a020-8a11e3cae7ce",
   "metadata": {},
   "outputs": [
    {
     "data": {
      "text/plain": [
       "Index(['DayFrac', 'Year', 'JulianDay', 'HourMin', 'Pressure[mbar]',\n",
       "       '10MVTair[degC]', '10MRH[%]', '6MVTair[degC]', '6MRH[%]',\n",
       "       '2MVTair[degC]', '2MRH[%]', '10MTair[degC]', '6MTair[degC]',\n",
       "       '2MTair[degC]', '10MTCETair[degC]', '6MTCETair[degC]',\n",
       "       '6MTCWTair[degC]', '2MTCWTair[degC]', 'Wdir[deg]', 'Wspd[m/s]',\n",
       "       'HumidityQC', 'AirTempQC', 'TCAirTempQC'],\n",
       "      dtype='object')"
      ]
     },
     "execution_count": 8,
     "metadata": {},
     "output_type": "execute_result"
    }
   ],
   "source": [
    "df1.columns"
   ]
  },
  {
   "cell_type": "code",
   "execution_count": 9,
   "id": "d99e6047-16fa-4ae5-a462-2cb85e3bc2a0",
   "metadata": {},
   "outputs": [
    {
     "data": {
      "text/plain": [
       "RangeIndex(start=0, stop=1440, step=1)"
      ]
     },
     "execution_count": 9,
     "metadata": {},
     "output_type": "execute_result"
    }
   ],
   "source": [
    "df1.index"
   ]
  },
  {
   "cell_type": "markdown",
   "id": "e51726e2-6ca6-41b2-b30c-86cd21e84c61",
   "metadata": {},
   "source": [
    "### Create radiation dataframes\n",
    "Note* it may be better to just add the radiation column to the tower dataframe in one step"
   ]
  },
  {
   "cell_type": "code",
   "execution_count": 10,
   "id": "880a6c6a-9fa9-4ddb-8aba-6228b5900a42",
   "metadata": {},
   "outputs": [],
   "source": [
    "with open(towerrad_07012011_file, \"r\") as f:\n",
    "    lines = f.readlines()\n",
    "\n",
    "header = lines[0].strip().split()\n",
    "data_rows = [line.strip().split(\"\\t\") for line in lines[1:]]\n"
   ]
  },
  {
   "cell_type": "code",
   "execution_count": 11,
   "id": "d76515bf-5c9a-48ff-b6cb-447807f6ecf1",
   "metadata": {},
   "outputs": [],
   "source": [
    "df2 = pd.DataFrame(data_rows, columns=header)\n",
    " # Rename the dataframe when more data is imported\n"
   ]
  },
  {
   "cell_type": "code",
   "execution_count": 12,
   "id": "14cf2e40-49a1-4b88-bbff-c3bd053da39e",
   "metadata": {},
   "outputs": [],
   "source": [
    "df2 = df2.astype('float')"
   ]
  },
  {
   "cell_type": "code",
   "execution_count": 13,
   "id": "6030b1a8-34c9-47a6-a69b-a095bf728216",
   "metadata": {},
   "outputs": [
    {
     "data": {
      "text/html": [
       "<div>\n",
       "<style scoped>\n",
       "    .dataframe tbody tr th:only-of-type {\n",
       "        vertical-align: middle;\n",
       "    }\n",
       "\n",
       "    .dataframe tbody tr th {\n",
       "        vertical-align: top;\n",
       "    }\n",
       "\n",
       "    .dataframe thead th {\n",
       "        text-align: right;\n",
       "    }\n",
       "</style>\n",
       "<table border=\"1\" class=\"dataframe\">\n",
       "  <thead>\n",
       "    <tr style=\"text-align: right;\">\n",
       "      <th></th>\n",
       "      <th>DayFrac</th>\n",
       "      <th>Year</th>\n",
       "      <th>JulianDay</th>\n",
       "      <th>HourMin</th>\n",
       "      <th>LWTotalDownwelling[W/m^2]</th>\n",
       "      <th>SWTotalDownwelling[W/m^2]</th>\n",
       "      <th>LWTotalUpwelling[W/m^2]</th>\n",
       "      <th>SWTotalUpwelling[W/m^2]</th>\n",
       "      <th>QualityControl</th>\n",
       "    </tr>\n",
       "  </thead>\n",
       "  <tbody>\n",
       "    <tr>\n",
       "      <th>0</th>\n",
       "      <td>182.000</td>\n",
       "      <td>2011.0</td>\n",
       "      <td>182.0</td>\n",
       "      <td>0.0</td>\n",
       "      <td>289.774</td>\n",
       "      <td>338.822</td>\n",
       "      <td>390.904</td>\n",
       "      <td>61.9039</td>\n",
       "      <td>0.0</td>\n",
       "    </tr>\n",
       "    <tr>\n",
       "      <th>1</th>\n",
       "      <td>182.001</td>\n",
       "      <td>2011.0</td>\n",
       "      <td>182.0</td>\n",
       "      <td>1.0</td>\n",
       "      <td>289.659</td>\n",
       "      <td>338.036</td>\n",
       "      <td>432.653</td>\n",
       "      <td>61.8831</td>\n",
       "      <td>10000000.0</td>\n",
       "    </tr>\n",
       "    <tr>\n",
       "      <th>2</th>\n",
       "      <td>182.001</td>\n",
       "      <td>2011.0</td>\n",
       "      <td>182.0</td>\n",
       "      <td>2.0</td>\n",
       "      <td>289.919</td>\n",
       "      <td>337.261</td>\n",
       "      <td>424.224</td>\n",
       "      <td>61.7523</td>\n",
       "      <td>0.0</td>\n",
       "    </tr>\n",
       "    <tr>\n",
       "      <th>3</th>\n",
       "      <td>182.002</td>\n",
       "      <td>2011.0</td>\n",
       "      <td>182.0</td>\n",
       "      <td>3.0</td>\n",
       "      <td>289.737</td>\n",
       "      <td>336.465</td>\n",
       "      <td>386.288</td>\n",
       "      <td>61.4595</td>\n",
       "      <td>0.0</td>\n",
       "    </tr>\n",
       "    <tr>\n",
       "      <th>4</th>\n",
       "      <td>182.003</td>\n",
       "      <td>2011.0</td>\n",
       "      <td>182.0</td>\n",
       "      <td>4.0</td>\n",
       "      <td>290.097</td>\n",
       "      <td>335.552</td>\n",
       "      <td>417.702</td>\n",
       "      <td>61.2477</td>\n",
       "      <td>0.0</td>\n",
       "    </tr>\n",
       "  </tbody>\n",
       "</table>\n",
       "</div>"
      ],
      "text/plain": [
       "   DayFrac    Year  JulianDay  HourMin  LWTotalDownwelling[W/m^2]  \\\n",
       "0  182.000  2011.0      182.0      0.0                    289.774   \n",
       "1  182.001  2011.0      182.0      1.0                    289.659   \n",
       "2  182.001  2011.0      182.0      2.0                    289.919   \n",
       "3  182.002  2011.0      182.0      3.0                    289.737   \n",
       "4  182.003  2011.0      182.0      4.0                    290.097   \n",
       "\n",
       "   SWTotalDownwelling[W/m^2]  LWTotalUpwelling[W/m^2]  \\\n",
       "0                    338.822                  390.904   \n",
       "1                    338.036                  432.653   \n",
       "2                    337.261                  424.224   \n",
       "3                    336.465                  386.288   \n",
       "4                    335.552                  417.702   \n",
       "\n",
       "   SWTotalUpwelling[W/m^2]  QualityControl  \n",
       "0                  61.9039             0.0  \n",
       "1                  61.8831      10000000.0  \n",
       "2                  61.7523             0.0  \n",
       "3                  61.4595             0.0  \n",
       "4                  61.2477             0.0  "
      ]
     },
     "execution_count": 13,
     "metadata": {},
     "output_type": "execute_result"
    }
   ],
   "source": [
    "df2.head()\n"
   ]
  },
  {
   "cell_type": "code",
   "execution_count": 14,
   "id": "663c3f62-cef7-4f41-877b-45d748569a85",
   "metadata": {},
   "outputs": [
    {
     "data": {
      "text/html": [
       "<div>\n",
       "<style scoped>\n",
       "    .dataframe tbody tr th:only-of-type {\n",
       "        vertical-align: middle;\n",
       "    }\n",
       "\n",
       "    .dataframe tbody tr th {\n",
       "        vertical-align: top;\n",
       "    }\n",
       "\n",
       "    .dataframe thead th {\n",
       "        text-align: right;\n",
       "    }\n",
       "</style>\n",
       "<table border=\"1\" class=\"dataframe\">\n",
       "  <thead>\n",
       "    <tr style=\"text-align: right;\">\n",
       "      <th></th>\n",
       "      <th>DayFrac</th>\n",
       "      <th>Year</th>\n",
       "      <th>JulianDay</th>\n",
       "      <th>HourMin</th>\n",
       "      <th>LWTotalDownwelling[W/m^2]</th>\n",
       "      <th>SWTotalDownwelling[W/m^2]</th>\n",
       "      <th>LWTotalUpwelling[W/m^2]</th>\n",
       "      <th>SWTotalUpwelling[W/m^2]</th>\n",
       "      <th>QualityControl</th>\n",
       "    </tr>\n",
       "  </thead>\n",
       "  <tbody>\n",
       "    <tr>\n",
       "      <th>count</th>\n",
       "      <td>1440.000000</td>\n",
       "      <td>1440.0</td>\n",
       "      <td>1440.0</td>\n",
       "      <td>1440.00000</td>\n",
       "      <td>1440.000000</td>\n",
       "      <td>1440.000000</td>\n",
       "      <td>1440.000000</td>\n",
       "      <td>1440.000000</td>\n",
       "      <td>1.440000e+03</td>\n",
       "    </tr>\n",
       "    <tr>\n",
       "      <th>mean</th>\n",
       "      <td>182.499656</td>\n",
       "      <td>2011.0</td>\n",
       "      <td>182.0</td>\n",
       "      <td>1179.50000</td>\n",
       "      <td>288.827946</td>\n",
       "      <td>349.425111</td>\n",
       "      <td>404.657880</td>\n",
       "      <td>71.754494</td>\n",
       "      <td>1.650111e+09</td>\n",
       "    </tr>\n",
       "    <tr>\n",
       "      <th>std</th>\n",
       "      <td>0.288777</td>\n",
       "      <td>0.0</td>\n",
       "      <td>0.0</td>\n",
       "      <td>692.67581</td>\n",
       "      <td>12.809363</td>\n",
       "      <td>125.129636</td>\n",
       "      <td>21.310641</td>\n",
       "      <td>29.665735</td>\n",
       "      <td>1.194301e+10</td>\n",
       "    </tr>\n",
       "    <tr>\n",
       "      <th>min</th>\n",
       "      <td>182.000000</td>\n",
       "      <td>2011.0</td>\n",
       "      <td>182.0</td>\n",
       "      <td>0.00000</td>\n",
       "      <td>278.638000</td>\n",
       "      <td>40.358800</td>\n",
       "      <td>356.878000</td>\n",
       "      <td>33.592600</td>\n",
       "      <td>0.000000e+00</td>\n",
       "    </tr>\n",
       "    <tr>\n",
       "      <th>25%</th>\n",
       "      <td>182.249750</td>\n",
       "      <td>2011.0</td>\n",
       "      <td>182.0</td>\n",
       "      <td>589.75000</td>\n",
       "      <td>284.675250</td>\n",
       "      <td>226.157000</td>\n",
       "      <td>386.921250</td>\n",
       "      <td>42.549175</td>\n",
       "      <td>0.000000e+00</td>\n",
       "    </tr>\n",
       "    <tr>\n",
       "      <th>50%</th>\n",
       "      <td>182.499500</td>\n",
       "      <td>2011.0</td>\n",
       "      <td>182.0</td>\n",
       "      <td>1179.50000</td>\n",
       "      <td>286.689500</td>\n",
       "      <td>347.049000</td>\n",
       "      <td>402.093000</td>\n",
       "      <td>67.832750</td>\n",
       "      <td>0.000000e+00</td>\n",
       "    </tr>\n",
       "    <tr>\n",
       "      <th>75%</th>\n",
       "      <td>182.749250</td>\n",
       "      <td>2011.0</td>\n",
       "      <td>182.0</td>\n",
       "      <td>1769.25000</td>\n",
       "      <td>288.870250</td>\n",
       "      <td>473.516500</td>\n",
       "      <td>421.293250</td>\n",
       "      <td>99.678500</td>\n",
       "      <td>1.000000e+07</td>\n",
       "    </tr>\n",
       "    <tr>\n",
       "      <th>max</th>\n",
       "      <td>182.999000</td>\n",
       "      <td>2011.0</td>\n",
       "      <td>182.0</td>\n",
       "      <td>2359.00000</td>\n",
       "      <td>385.835000</td>\n",
       "      <td>529.172000</td>\n",
       "      <td>452.720000</td>\n",
       "      <td>133.519000</td>\n",
       "      <td>2.100300e+11</td>\n",
       "    </tr>\n",
       "  </tbody>\n",
       "</table>\n",
       "</div>"
      ],
      "text/plain": [
       "           DayFrac    Year  JulianDay     HourMin  LWTotalDownwelling[W/m^2]  \\\n",
       "count  1440.000000  1440.0     1440.0  1440.00000                1440.000000   \n",
       "mean    182.499656  2011.0      182.0  1179.50000                 288.827946   \n",
       "std       0.288777     0.0        0.0   692.67581                  12.809363   \n",
       "min     182.000000  2011.0      182.0     0.00000                 278.638000   \n",
       "25%     182.249750  2011.0      182.0   589.75000                 284.675250   \n",
       "50%     182.499500  2011.0      182.0  1179.50000                 286.689500   \n",
       "75%     182.749250  2011.0      182.0  1769.25000                 288.870250   \n",
       "max     182.999000  2011.0      182.0  2359.00000                 385.835000   \n",
       "\n",
       "       SWTotalDownwelling[W/m^2]  LWTotalUpwelling[W/m^2]  \\\n",
       "count                1440.000000              1440.000000   \n",
       "mean                  349.425111               404.657880   \n",
       "std                   125.129636                21.310641   \n",
       "min                    40.358800               356.878000   \n",
       "25%                   226.157000               386.921250   \n",
       "50%                   347.049000               402.093000   \n",
       "75%                   473.516500               421.293250   \n",
       "max                   529.172000               452.720000   \n",
       "\n",
       "       SWTotalUpwelling[W/m^2]  QualityControl  \n",
       "count              1440.000000    1.440000e+03  \n",
       "mean                 71.754494    1.650111e+09  \n",
       "std                  29.665735    1.194301e+10  \n",
       "min                  33.592600    0.000000e+00  \n",
       "25%                  42.549175    0.000000e+00  \n",
       "50%                  67.832750    0.000000e+00  \n",
       "75%                  99.678500    1.000000e+07  \n",
       "max                 133.519000    2.100300e+11  "
      ]
     },
     "execution_count": 14,
     "metadata": {},
     "output_type": "execute_result"
    }
   ],
   "source": [
    "df2.describe()"
   ]
  },
  {
   "cell_type": "code",
   "execution_count": 15,
   "id": "aecb82a3-4b3e-4405-86ac-d10fc1f4a537",
   "metadata": {},
   "outputs": [
    {
     "data": {
      "text/plain": [
       "Index(['DayFrac', 'Year', 'JulianDay', 'HourMin', 'LWTotalDownwelling[W/m^2]',\n",
       "       'SWTotalDownwelling[W/m^2]', 'LWTotalUpwelling[W/m^2]',\n",
       "       'SWTotalUpwelling[W/m^2]', 'QualityControl'],\n",
       "      dtype='object')"
      ]
     },
     "execution_count": 15,
     "metadata": {},
     "output_type": "execute_result"
    }
   ],
   "source": [
    "df2.columns"
   ]
  },
  {
   "cell_type": "code",
   "execution_count": 16,
   "id": "34c63fe2-fc7c-4db7-8a5a-0ef40374a154",
   "metadata": {},
   "outputs": [
    {
     "data": {
      "text/plain": [
       "RangeIndex(start=0, stop=1440, step=1)"
      ]
     },
     "execution_count": 16,
     "metadata": {},
     "output_type": "execute_result"
    }
   ],
   "source": [
    "df2.index"
   ]
  },
  {
   "cell_type": "markdown",
   "id": "95346803-bf0b-42a2-935e-7f99e99567fa",
   "metadata": {},
   "source": [
    "Concatenate dataframes"
   ]
  },
  {
   "cell_type": "code",
   "execution_count": 17,
   "id": "9912dd93-c1e6-4ebc-9cb7-fb4d1a14ef67",
   "metadata": {},
   "outputs": [],
   "source": [
    "df = pd.concat([df1, df2[df2.columns[-5:]]], axis=1)"
   ]
  },
  {
   "cell_type": "code",
   "execution_count": 18,
   "id": "4ec97762-ffaf-4ba8-95f4-4f4baa84fed7",
   "metadata": {},
   "outputs": [
    {
     "data": {
      "text/plain": [
       "Index(['DayFrac', 'Year', 'JulianDay', 'HourMin', 'Pressure[mbar]',\n",
       "       '10MVTair[degC]', '10MRH[%]', '6MVTair[degC]', '6MRH[%]',\n",
       "       '2MVTair[degC]', '2MRH[%]', '10MTair[degC]', '6MTair[degC]',\n",
       "       '2MTair[degC]', '10MTCETair[degC]', '6MTCETair[degC]',\n",
       "       '6MTCWTair[degC]', '2MTCWTair[degC]', 'Wdir[deg]', 'Wspd[m/s]',\n",
       "       'HumidityQC', 'AirTempQC', 'TCAirTempQC', 'LWTotalDownwelling[W/m^2]',\n",
       "       'SWTotalDownwelling[W/m^2]', 'LWTotalUpwelling[W/m^2]',\n",
       "       'SWTotalUpwelling[W/m^2]', 'QualityControl'],\n",
       "      dtype='object')"
      ]
     },
     "execution_count": 18,
     "metadata": {},
     "output_type": "execute_result"
    }
   ],
   "source": [
    "df.columns"
   ]
  },
  {
   "cell_type": "markdown",
   "id": "5b5aa56f-e57e-4c26-ab2d-200e9546ed8d",
   "metadata": {},
   "source": [
    "Set time as the index"
   ]
  },
  {
   "cell_type": "code",
   "execution_count": 19,
   "id": "55cc508f-1f6d-4666-875e-66dc8e6096f9",
   "metadata": {},
   "outputs": [],
   "source": [
    "def julian_to_date(julian_day, base_year=2011):\n",
    "    base_date = datetime(base_year, 1, 1)\n",
    "    target_date = base_date + timedelta(days=julian_day - 1)\n",
    "    return target_date.strftime('%Y-%m-%d')"
   ]
  },
  {
   "cell_type": "code",
   "execution_count": 20,
   "id": "7b277802-dbbe-4ae5-93c3-b3d649e430e9",
   "metadata": {},
   "outputs": [],
   "source": [
    "def hourmin_to_time(hourmin):\n",
    "    hours = int(hourmin // 100)\n",
    "    minutes = int(hourmin % 100)\n",
    "    return f'{hours:02}:{minutes:02}:00'"
   ]
  },
  {
   "cell_type": "code",
   "execution_count": 21,
   "id": "138e36e1-1f02-4c16-b70e-e8f62e79983e",
   "metadata": {},
   "outputs": [],
   "source": [
    "# Convert Julian Day to date\n",
    "df['Date'] = df['JulianDay'].apply(julian_to_date)\n",
    "\n",
    "# Convert HourMin to time\n",
    "df['Time'] = df['HourMin'].apply(hourmin_to_time)\n",
    "\n",
    "# Combine date and time into a single datetime column\n",
    "df['Datetime'] = pd.to_datetime(df['Date'] + ' ' + df['Time'])\n",
    "\n",
    "# Drop intermediate columns\n",
    "df.drop(columns=['Date', 'Time'], inplace=True)"
   ]
  },
  {
   "cell_type": "code",
   "execution_count": 22,
   "id": "2494bbcc-f52c-4ed1-89f6-6d8714d1b26f",
   "metadata": {},
   "outputs": [
    {
     "data": {
      "text/plain": [
       "0      2011-07-01 00:00:00\n",
       "1      2011-07-01 00:01:00\n",
       "2      2011-07-01 00:02:00\n",
       "3      2011-07-01 00:03:00\n",
       "4      2011-07-01 00:04:00\n",
       "               ...        \n",
       "1435   2011-07-01 23:55:00\n",
       "1436   2011-07-01 23:56:00\n",
       "1437   2011-07-01 23:57:00\n",
       "1438   2011-07-01 23:58:00\n",
       "1439   2011-07-01 23:59:00\n",
       "Name: Datetime, Length: 1440, dtype: datetime64[ns]"
      ]
     },
     "metadata": {},
     "output_type": "display_data"
    }
   ],
   "source": [
    "display(df['Datetime'])"
   ]
  },
  {
   "cell_type": "code",
   "execution_count": 23,
   "id": "1b37843d-d275-46b4-ab58-0ff65caabd69",
   "metadata": {},
   "outputs": [],
   "source": [
    "# Set 'Datetime' column as the index\n",
    "df.set_index('Datetime', inplace=True)"
   ]
  },
  {
   "cell_type": "markdown",
   "id": "747bcb01-6052-450a-b315-fe664d1b16a5",
   "metadata": {},
   "source": [
    " ### 1) Calculate effective emissivity"
   ]
  },
  {
   "cell_type": "code",
   "execution_count": 24,
   "id": "24febf17-baab-4c02-99a9-a9acc3c443a4",
   "metadata": {},
   "outputs": [],
   "source": [
    "# Calculate effective emissivity from measured DLR and Temperature\n",
    "SIGMA = 5.67e-8"
   ]
  },
  {
   "cell_type": "code",
   "execution_count": 25,
   "id": "5b9cfe33-ba90-49ab-8226-f1ebbd0bc8b6",
   "metadata": {},
   "outputs": [],
   "source": [
    "df['T2_K'] = df['2MTair[degC]'] + 273.15 # Convert temperature from Celsius to Kelvin\n",
    "df['T6_K'] = df['6MTair[degC]'] + 273.15 # Convert temperature from Celsius to Kelvin\n",
    "df['T10_K'] = df['10MTair[degC]'] + 273.15 # Convert temperature from Celsius to Kelvin\n",
    "\n",
    "df['eps2'] = df['LWTotalDownwelling[W/m^2]'] / (SIGMA * df['T2_K']**4)\n",
    "df['eps6'] = df['LWTotalDownwelling[W/m^2]'] / (SIGMA * df['T6_K']**4)\n",
    "df['eps10'] = df['LWTotalDownwelling[W/m^2]'] / (SIGMA * df['T10_K']**4)"
   ]
  },
  {
   "cell_type": "markdown",
   "id": "b22e1255-f02a-4f44-b7bb-923a8165f072",
   "metadata": {},
   "source": [
    "### 2) Calculate expected DLR \n",
    "*This step will come after fitting a power curve to the measured DLR data*"
   ]
  },
  {
   "cell_type": "code",
   "execution_count": 33,
   "id": "543cda5e-a942-4028-9bc7-329163d01258",
   "metadata": {},
   "outputs": [],
   "source": [
    "# Calculate Partial Pressure of water vapor (hPa)\n",
    "\n",
    "df['Pw2'] = 610.94*(df['2MRH[%]']/100)*np.exp((17.625*(df['T2_K'] - 273.15))/(df['T2_K'] - 30.11))/100\n",
    "df['Pw6'] = 610.94*(df['6MRH[%]']/100)*np.exp((17.625*(df['T6_K'] - 273.15))/(df['T6_K'] - 30.11))/100\n",
    "df['Pw10'] = 610.94*(df['10MRH[%]']/100)*np.exp((17.625*(df['T10_K'] - 273.15))/(df['T10_K'] - 30.11))/100\n",
    "\n",
    "# df['Pw2'] = ((df['q2.5'] / 1000 * (df['Press'] * 100)) / (df['q2.5'] / 1000 + 0.622))/100\n",
    "# df['Pw10'] = ((df['q10'] / 1000 * (df['Press'] * 100)) / (df['q10'] / 1000 + 0.622))/100"
   ]
  },
  {
   "cell_type": "markdown",
   "id": "15759788-98b6-41ea-b70d-ab0faba9cdab",
   "metadata": {},
   "source": [
    "Calculate theoretical clear sky emissivity"
   ]
  },
  {
   "cell_type": "code",
   "execution_count": 34,
   "id": "c15faf57-8c5d-43a6-83d5-41402c87e3a2",
   "metadata": {},
   "outputs": [],
   "source": [
    "df['e2'] = (0.52 + 0.065*np.sqrt(df['Pw2']))\n",
    "df['e6'] = (0.52 + 0.065*np.sqrt(df['Pw6']))\n",
    "df['e10'] = (0.52 + 0.065*np.sqrt(df['Pw10']))"
   ]
  },
  {
   "cell_type": "markdown",
   "id": "2ff607a8-9f54-4a7f-ad6e-aa541969c965",
   "metadata": {},
   "source": [
    "Calibrated parameters per Li et al. 2017. **Don't Run both emissivity cells**"
   ]
  },
  {
   "cell_type": "code",
   "execution_count": 35,
   "id": "00fb89fc-2f8c-4642-89e9-b667c95a876c",
   "metadata": {},
   "outputs": [],
   "source": [
    "# Calculate clear sky emissivity\n",
    "df['e2'] = (0.618 + 0.054*np.sqrt(df['Pw2']))\n",
    "df['e6'] = (0.618 + 0.054*np.sqrt(df['Pw6']))\n",
    "df['e10'] = (0.618 + 0.054*np.sqrt(df['Pw10']))"
   ]
  },
  {
   "cell_type": "markdown",
   "id": "33ad9613-0b60-4eee-966c-6a1deff80290",
   "metadata": {},
   "source": [
    "Parameters per the original Brunt equation. **Don't Run both emissivity cells**"
   ]
  },
  {
   "cell_type": "code",
   "execution_count": 36,
   "id": "d8230b1b-a523-4e0a-ac27-71ac876d8817",
   "metadata": {},
   "outputs": [],
   "source": [
    "# Calculate expected DLR\n",
    "df['DLR2'] = df['e2']*SIGMA*(df['T2_K']**4)\n",
    "df['DLR6'] = df['e6']*SIGMA*(df['T6_K']**4)\n",
    "df['DLR10'] = df['e10']*SIGMA*(df['T10_K']**4)"
   ]
  },
  {
   "cell_type": "code",
   "execution_count": 37,
   "id": "4b532343-09ce-4402-ae48-c44be891d5fc",
   "metadata": {},
   "outputs": [],
   "source": [
    "# Create a mask to filter out NaN values\n",
    "epsmask2 = df['eps2'].notna()\n",
    "epsmask6 = df['eps6'].notna()\n",
    "epsmask10 = df['eps10'].notna()\n",
    "DLRmask2 = df['DLR2'].notna() & df['LWTotalDownwelling[W/m^2]'].notna()\n",
    "DLRmask6 = df['DLR6'].notna() & df['LWTotalDownwelling[W/m^2]'].notna()\n",
    "DLRmask10 = df['DLR10'].notna() & df['LWTotalDownwelling[W/m^2]'].notna()"
   ]
  },
  {
   "cell_type": "code",
   "execution_count": 47,
   "id": "a0aff7f2-5531-4642-bbf9-5bb6840e7492",
   "metadata": {},
   "outputs": [
    {
     "data": {
      "image/png": "[encoded data removed]",
      "text/plain": [
       "<Figure size 640x480 with 1 Axes>"
      ]
     },
     "metadata": {},
     "output_type": "display_data"
    }
   ],
   "source": [
    "## Plot e_sky over time\n",
    "plt.scatter(df.index[epsmask2], df['eps2'][epsmask2], label='2m', s=0.5, color='blue')\n",
    "plt.scatter(df.index[epsmask6], df['eps6'][epsmask6], label='6m', s=0.5, color='cyan')\n",
    "plt.scatter(df.index[epsmask10], df['eps10'][epsmask10], label='10m', s=0.5, color='red')\n",
    "\n",
    "# Set ticks at regular intervals\n",
    "# Find the start and end dates in your DataFrame\n",
    "start_date = df.index.min()\n",
    "end_date = df.index.max()\n",
    "\n",
    "# # Generate ticks at regular intervals between start and end dates\n",
    "ticks = pd.date_range(start=start_date, end=end_date, freq='12h')\n",
    "tick_labels = [date.strftime('%Y-%m-%d') if i % 4 == 0 else None for i, date in enumerate(ticks)]\n",
    "\n",
    "# Format the plot\n",
    "plt.xticks(ticks, tick_labels)\n",
    "plt.xlabel('Time')\n",
    "plt.ylabel('Emissivity')\n",
    "plt.title('Emissivity over Time')\n",
    "plt.legend()\n",
    "plt.grid()\n",
    "\n",
    "# Save plot as .png\n",
    "# plt.savefig('emissivity.png')"
   ]
  },
  {
   "cell_type": "code",
   "execution_count": 39,
   "id": "36d4563a-afbc-4c2c-9041-79800d7810c1",
   "metadata": {},
   "outputs": [
    {
     "data": {
      "text/plain": [
       "<matplotlib.legend.Legend at 0x1960d320290>"
      ]
     },
     "execution_count": 39,
     "metadata": {},
     "output_type": "execute_result"
    },
    {
     "data": {
      "image/png": "[encoded data removed]",
      "text/plain": [
       "<Figure size 640x480 with 1 Axes>"
      ]
     },
     "metadata": {},
     "output_type": "display_data"
    }
   ],
   "source": [
    "## Plot expected DLR vs measured DLR\n",
    "plt.scatter(df['LWTotalDownwelling[W/m^2]'][DLRmask2], df['DLR2'][DLRmask2], label='2m', s=0.5, color='blue')\n",
    "plt.scatter(df['LWTotalDownwelling[W/m^2]'][DLRmask6], df['DLR6'][DLRmask6], label='6m', s=0.5, color='cyan')\n",
    "plt.scatter(df['LWTotalDownwelling[W/m^2]'][DLRmask10], df['DLR10'][DLRmask10], label='10m', s=0.5, color='red')\n",
    "\n",
    "# Calculate the maximum value for x and y\n",
    "max_value = max(np.nanmax(df['LWTotalDownwelling[W/m^2]'][DLRmask2]), np.nanmax(df['DLR2'][DLRmask2]))\n",
    "plt.xlim(0, max_value)\n",
    "plt.ylim(0, max_value)\n",
    "plt.grid()\n",
    "plt.plot([0,max_value],[0,max_value])\n",
    "\n",
    "# Format the plot\n",
    "plt.xlabel('Measured DLR')\n",
    "plt.ylabel('Expected DLR')\n",
    "plt.title('Expected vs Measured DLR')\n",
    "plt.legend()\n",
    "\n",
    "# Save plot as .png\n",
    "# plt.savefig('exp-vs-measured-DLR.png')"
   ]
  },
  {
   "cell_type": "code",
   "execution_count": 49,
   "id": "54003484-224b-4606-9976-b5035ddb4fa8",
   "metadata": {},
   "outputs": [
    {
     "data": {
      "text/plain": [
       "<matplotlib.legend.Legend at 0x1960f80bdd0>"
      ]
     },
     "execution_count": 49,
     "metadata": {},
     "output_type": "execute_result"
    },
    {
     "data": {
      "image/png": "[encoded data removed]",
      "text/plain": [
       "<Figure size 640x480 with 1 Axes>"
      ]
     },
     "metadata": {},
     "output_type": "display_data"
    }
   ],
   "source": [
    "## Plot expected DLR vs measured DLR\n",
    "plt.scatter(df['LWTotalDownwelling[W/m^2]'][DLRmask2], df['DLR2'][DLRmask2], label='2m', s=0.5, color='blue')\n",
    "plt.scatter(df['LWTotalDownwelling[W/m^2]'][DLRmask6], df['DLR6'][DLRmask6], label='6m', s=0.5, color='cyan')\n",
    "plt.scatter(df['LWTotalDownwelling[W/m^2]'][DLRmask10], df['DLR10'][DLRmask10], label='10m', s=0.5, color='red')\n",
    "\n",
    "# Calculate the maximum value for x and y\n",
    "max_value = max(np.nanmax(df['LWTotalDownwelling[W/m^2]'][DLRmask2]), np.nanmax(df['DLR2'][DLRmask2]))\n",
    "min_value = min(np.nanmin(df['LWTotalDownwelling[W/m^2]'][DLRmask2]), np.nanmin(df['DLR2'][DLRmask2]))\n",
    "plt.xlim(min_value, max_value)\n",
    "plt.ylim(min_value, max_value)\n",
    "plt.grid()\n",
    "plt.plot([min_value,max_value],[min_value,max_value])\n",
    "\n",
    "\n",
    "# Format the plot\n",
    "plt.xlabel('Measured DLR')\n",
    "plt.ylabel('Expected DLR')\n",
    "plt.title('Expected vs Measured DLR')\n",
    "plt.legend()\n",
    "\n",
    "# Save plot as .png\n",
    "# plt.savefig('exp-vs-measured-DLR.png')"
   ]
  },
  {
   "cell_type": "code",
   "execution_count": null,
   "id": "f75c886e-5258-4355-b214-3a8b19ff32b4",
   "metadata": {},
   "outputs": [],
   "source": []
  }
 ],
 "metadata": {
  "kernelspec": {
   "display_name": "Python 3 (ipykernel)",
   "language": "python",
   "name": "python3"
  },
  "language_info": {
   "codemirror_mode": {
    "name": "ipython",
    "version": 3
   },
   "file_extension": ".py",
   "mimetype": "text/x-python",
   "name": "python",
   "nbconvert_exporter": "python",
   "pygments_lexer": "ipython3",
   "version": "3.12.2"
  }
 },
 "nbformat": 4,
 "nbformat_minor": 5
}
