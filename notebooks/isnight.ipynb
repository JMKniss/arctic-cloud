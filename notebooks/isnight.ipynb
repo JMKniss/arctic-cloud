{
 "cells": [
  {
   "cell_type": "markdown",
   "id": "9bbe5b45-863f-44ef-b272-677c468b4bf4",
   "metadata": {},
   "source": [
    "# A script for assigning boolean value to 'it is night time'\n",
    "\n",
    "## Jason Kniss\n",
    "### Feb 22 2024"
   ]
  },
  {
   "cell_type": "markdown",
   "id": "adae4748-9dfd-47ef-b7a8-c5e7d171f2cd",
   "metadata": {},
   "source": [
    "Import libraries"
   ]
  },
  {
   "cell_type": "code",
   "execution_count": 1,
   "id": "b1c79081-4ea5-40f1-8c0b-aaa6ac9e6f19",
   "metadata": {},
   "outputs": [],
   "source": [
    "# Import libraries here\n",
    "import pandas as pd\n",
    "import numpy as np\n",
    "import matplotlib.pyplot as plt\n",
    "import netCDF4 as nc"
   ]
  },
  {
   "cell_type": "markdown",
   "id": "7c1800ad-a069-42cc-917b-d380c48929af",
   "metadata": {},
   "source": [
    "Import data"
   ]
  },
  {
   "cell_type": "code",
   "execution_count": 2,
   "id": "d3de181b-2395-4d31-9b05-0ec9902320f9",
   "metadata": {},
   "outputs": [],
   "source": [
    "# Optionally declare Lat and Long for stationary sites\n",
    "lat = 79.983 # North(+)\n",
    "long = 85.95 # West(+)\n",
    "\n",
    "# Using a sample Eureka .txt file with a time stamp\n",
    "tower_hrly = 'data/eureka-data/tower-met/eurmeteorologicaltwr.b1.20110701.000000.txt' # Tower meteorological data for July 01 2011\n",
    "\n",
    "with open(tower_hrly, \"r\") as f:\n",
    "    lines = f.readlines()\n",
    "\n",
    "header = lines[0].strip().split()\n",
    "data_rows = [line.strip().split(\"\\t\") for line in lines[1:]]\n",
    "df = pd.DataFrame(data_rows, columns=header)\n",
    "        # Rename the dataframe when more data is imported\n",
    "\n",
    "df = df.astype('float')\n",
    "df = df[df['HourMin'] != 2400] # Filter out invalid HourMin values \n",
    "\n",
    "# Note, I'd prefer to have this change the 2400 HourMin to 0000 the following day, but I wasn't able to figure that out."
   ]
  },
  {
   "cell_type": "code",
   "execution_count": 3,
   "id": "746cc559-c522-4a3e-be0f-a11e9a92260c",
   "metadata": {
    "scrolled": true
   },
   "outputs": [
    {
     "data": {
      "text/html": [
       "<div>\n",
       "<style scoped>\n",
       "    .dataframe tbody tr th:only-of-type {\n",
       "        vertical-align: middle;\n",
       "    }\n",
       "\n",
       "    .dataframe tbody tr th {\n",
       "        vertical-align: top;\n",
       "    }\n",
       "\n",
       "    .dataframe thead th {\n",
       "        text-align: right;\n",
       "    }\n",
       "</style>\n",
       "<table border=\"1\" class=\"dataframe\">\n",
       "  <thead>\n",
       "    <tr style=\"text-align: right;\">\n",
       "      <th></th>\n",
       "      <th>DayFrac</th>\n",
       "      <th>Year</th>\n",
       "      <th>JulianDay</th>\n",
       "      <th>HourMin</th>\n",
       "      <th>Pressure[mbar]</th>\n",
       "      <th>10MVTair[degC]</th>\n",
       "      <th>10MRH[%]</th>\n",
       "      <th>6MVTair[degC]</th>\n",
       "      <th>6MRH[%]</th>\n",
       "      <th>2MVTair[degC]</th>\n",
       "      <th>...</th>\n",
       "      <th>2MTair[degC]</th>\n",
       "      <th>10MTCETair[degC]</th>\n",
       "      <th>6MTCETair[degC]</th>\n",
       "      <th>6MTCWTair[degC]</th>\n",
       "      <th>2MTCWTair[degC]</th>\n",
       "      <th>Wdir[deg]</th>\n",
       "      <th>Wspd[m/s]</th>\n",
       "      <th>HumidityQC</th>\n",
       "      <th>AirTempQC</th>\n",
       "      <th>TCAirTempQC</th>\n",
       "    </tr>\n",
       "  </thead>\n",
       "  <tbody>\n",
       "    <tr>\n",
       "      <th>0</th>\n",
       "      <td>182.000</td>\n",
       "      <td>2011.0</td>\n",
       "      <td>182.0</td>\n",
       "      <td>0.0</td>\n",
       "      <td>1006.3</td>\n",
       "      <td>18.695</td>\n",
       "      <td>22.882</td>\n",
       "      <td>18.781</td>\n",
       "      <td>23.215</td>\n",
       "      <td>18.933</td>\n",
       "      <td>...</td>\n",
       "      <td>18.346</td>\n",
       "      <td>19.155</td>\n",
       "      <td>19.320</td>\n",
       "      <td>19.481</td>\n",
       "      <td>-9999.0</td>\n",
       "      <td>176.99</td>\n",
       "      <td>2.6605</td>\n",
       "      <td>0.0</td>\n",
       "      <td>0.0</td>\n",
       "      <td>1.0</td>\n",
       "    </tr>\n",
       "    <tr>\n",
       "      <th>1</th>\n",
       "      <td>182.001</td>\n",
       "      <td>2011.0</td>\n",
       "      <td>182.0</td>\n",
       "      <td>1.0</td>\n",
       "      <td>1006.4</td>\n",
       "      <td>18.719</td>\n",
       "      <td>23.086</td>\n",
       "      <td>18.856</td>\n",
       "      <td>23.790</td>\n",
       "      <td>18.990</td>\n",
       "      <td>...</td>\n",
       "      <td>18.392</td>\n",
       "      <td>19.351</td>\n",
       "      <td>19.578</td>\n",
       "      <td>19.562</td>\n",
       "      <td>-9999.0</td>\n",
       "      <td>195.14</td>\n",
       "      <td>1.9895</td>\n",
       "      <td>0.0</td>\n",
       "      <td>0.0</td>\n",
       "      <td>1.0</td>\n",
       "    </tr>\n",
       "    <tr>\n",
       "      <th>2</th>\n",
       "      <td>182.001</td>\n",
       "      <td>2011.0</td>\n",
       "      <td>182.0</td>\n",
       "      <td>2.0</td>\n",
       "      <td>1006.4</td>\n",
       "      <td>18.802</td>\n",
       "      <td>23.171</td>\n",
       "      <td>18.892</td>\n",
       "      <td>23.560</td>\n",
       "      <td>19.018</td>\n",
       "      <td>...</td>\n",
       "      <td>18.406</td>\n",
       "      <td>19.430</td>\n",
       "      <td>19.517</td>\n",
       "      <td>19.658</td>\n",
       "      <td>-9999.0</td>\n",
       "      <td>180.96</td>\n",
       "      <td>2.0947</td>\n",
       "      <td>0.0</td>\n",
       "      <td>0.0</td>\n",
       "      <td>1.0</td>\n",
       "    </tr>\n",
       "    <tr>\n",
       "      <th>3</th>\n",
       "      <td>182.002</td>\n",
       "      <td>2011.0</td>\n",
       "      <td>182.0</td>\n",
       "      <td>3.0</td>\n",
       "      <td>1006.4</td>\n",
       "      <td>18.793</td>\n",
       "      <td>22.865</td>\n",
       "      <td>18.861</td>\n",
       "      <td>23.263</td>\n",
       "      <td>18.985</td>\n",
       "      <td>...</td>\n",
       "      <td>18.389</td>\n",
       "      <td>19.124</td>\n",
       "      <td>19.244</td>\n",
       "      <td>19.377</td>\n",
       "      <td>-9999.0</td>\n",
       "      <td>165.34</td>\n",
       "      <td>2.3053</td>\n",
       "      <td>0.0</td>\n",
       "      <td>0.0</td>\n",
       "      <td>1.0</td>\n",
       "    </tr>\n",
       "    <tr>\n",
       "      <th>4</th>\n",
       "      <td>182.003</td>\n",
       "      <td>2011.0</td>\n",
       "      <td>182.0</td>\n",
       "      <td>4.0</td>\n",
       "      <td>1006.4</td>\n",
       "      <td>18.691</td>\n",
       "      <td>22.890</td>\n",
       "      <td>18.768</td>\n",
       "      <td>23.457</td>\n",
       "      <td>18.933</td>\n",
       "      <td>...</td>\n",
       "      <td>18.341</td>\n",
       "      <td>19.227</td>\n",
       "      <td>19.421</td>\n",
       "      <td>19.453</td>\n",
       "      <td>-9999.0</td>\n",
       "      <td>160.13</td>\n",
       "      <td>2.1737</td>\n",
       "      <td>0.0</td>\n",
       "      <td>0.0</td>\n",
       "      <td>1.0</td>\n",
       "    </tr>\n",
       "  </tbody>\n",
       "</table>\n",
       "<p>5 rows × 23 columns</p>\n",
       "</div>"
      ],
      "text/plain": [
       "   DayFrac    Year  JulianDay  HourMin  Pressure[mbar]  10MVTair[degC]  \\\n",
       "0  182.000  2011.0      182.0      0.0          1006.3          18.695   \n",
       "1  182.001  2011.0      182.0      1.0          1006.4          18.719   \n",
       "2  182.001  2011.0      182.0      2.0          1006.4          18.802   \n",
       "3  182.002  2011.0      182.0      3.0          1006.4          18.793   \n",
       "4  182.003  2011.0      182.0      4.0          1006.4          18.691   \n",
       "\n",
       "   10MRH[%]  6MVTair[degC]  6MRH[%]  2MVTair[degC]  ...  2MTair[degC]  \\\n",
       "0    22.882         18.781   23.215         18.933  ...        18.346   \n",
       "1    23.086         18.856   23.790         18.990  ...        18.392   \n",
       "2    23.171         18.892   23.560         19.018  ...        18.406   \n",
       "3    22.865         18.861   23.263         18.985  ...        18.389   \n",
       "4    22.890         18.768   23.457         18.933  ...        18.341   \n",
       "\n",
       "   10MTCETair[degC]  6MTCETair[degC]  6MTCWTair[degC]  2MTCWTair[degC]  \\\n",
       "0            19.155           19.320           19.481          -9999.0   \n",
       "1            19.351           19.578           19.562          -9999.0   \n",
       "2            19.430           19.517           19.658          -9999.0   \n",
       "3            19.124           19.244           19.377          -9999.0   \n",
       "4            19.227           19.421           19.453          -9999.0   \n",
       "\n",
       "   Wdir[deg]  Wspd[m/s]  HumidityQC  AirTempQC  TCAirTempQC  \n",
       "0     176.99     2.6605         0.0        0.0          1.0  \n",
       "1     195.14     1.9895         0.0        0.0          1.0  \n",
       "2     180.96     2.0947         0.0        0.0          1.0  \n",
       "3     165.34     2.3053         0.0        0.0          1.0  \n",
       "4     160.13     2.1737         0.0        0.0          1.0  \n",
       "\n",
       "[5 rows x 23 columns]"
      ]
     },
     "execution_count": 3,
     "metadata": {},
     "output_type": "execute_result"
    }
   ],
   "source": [
    "df.head()"
   ]
  },
  {
   "cell_type": "markdown",
   "id": "05543f0a-24cf-4737-b445-9a246851d11c",
   "metadata": {},
   "source": [
    "### 1) Determine declination"
   ]
  },
  {
   "cell_type": "markdown",
   "id": "4ca95d0f-a218-4ca7-a109-bde0c3294a1e",
   "metadata": {},
   "source": [
    "define sin/cos functions that expect degrees as the input"
   ]
  },
  {
   "cell_type": "code",
   "execution_count": 4,
   "id": "318984cd-416c-4b26-b2d5-949a8f56ebbc",
   "metadata": {},
   "outputs": [],
   "source": [
    "def cosd(degrees):\n",
    "     return np.cos(np.deg2rad(degrees))\n",
    "def sind(degrees):\n",
    "    return np.sin(np.deg2rad(degrees))"
   ]
  },
  {
   "cell_type": "markdown",
   "id": "34c43202-a634-4e15-bea4-b385b65721ab",
   "metadata": {},
   "source": [
    "There are two equations to calculate declination (Duffie, 2013). The first is slightly more accurate so we will use it. However the second is simpler and generally considered close enough for most engineering applications."
   ]
  },
  {
   "cell_type": "code",
   "execution_count": 5,
   "id": "339eedc0-fd7d-47ee-9b38-71be8cb0ce72",
   "metadata": {},
   "outputs": [],
   "source": [
    "df['B'] = (df['JulianDay'] - 1)*(360/365)\n",
    "df['decl'] = (180/np.pi)*(0.006918 - 0.399912*cosd(df['B']) + 0.070257*sind(df['B']) - 0.006785*cosd(2*df['B']) + 0.000907*sind(2*df['B']) - 0.002697*cosd(3*df['B']) + 0.00148*sind(3*df['B']))\n",
    "# df['decl'] = 23.45*sind(360*(284 + df['JulianDay'])/365) # Less accurate but typically adequate for most engineering purposes"
   ]
  },
  {
   "cell_type": "markdown",
   "id": "44ababd2-eec2-4a51-b75c-e95815abe8f2",
   "metadata": {},
   "source": [
    "### 2) Determine hour angle"
   ]
  },
  {
   "cell_type": "markdown",
   "id": "91f18d5e-aa8f-42dc-8c93-19d0753105e0",
   "metadata": {},
   "source": [
    "2a) determine local time in terms of minutes from *solar* noon (+ afternoon, - morning)\n",
    "\n",
    "**Eureka data is logged as GMT/UTC time**"
   ]
  },
  {
   "cell_type": "code",
   "execution_count": 6,
   "id": "60cb8a1e-31de-481a-a2fc-ea856d8a1776",
   "metadata": {},
   "outputs": [],
   "source": [
    "df['E'] = 229.2*(0.000075 + 0.001868*cosd(df['B']) - 0.032077*sind(df['B']) - 0.014615*cosd(2*df['B']) - 0.04089*sind(2*df['B']))\n",
    "\n",
    "df['t_corr'] = 4*(0-long) + df['E'] "
   ]
  },
  {
   "cell_type": "code",
   "execution_count": 7,
   "id": "ba93cc28-677e-4ab6-ad5d-7e925569983b",
   "metadata": {},
   "outputs": [],
   "source": [
    "def time_to_minutes(time_float):\n",
    "    # Convert float to string and then to HHMM format\n",
    "    time_str = str(int(time_float)).zfill(4)\n",
    "    # Convert HHMM string to minutes\n",
    "    hours = int(time_str[:2])\n",
    "    minutes = int(time_str[2:])\n",
    "    return hours * 60 + minutes\n",
    "\n",
    "def minutes_from_noon(time_float):\n",
    "    # Calculate the difference between the time and noon (720 minutes)\n",
    "    time_minutes = time_to_minutes(time_float)\n",
    "    minutes_difference = time_minutes - 720\n",
    "    return minutes_difference\n",
    "\n",
    "# Apply the minutes_from_noon function to the 'HourMin' column\n",
    "df['MinutesFromNoon'] = df['HourMin'].apply(minutes_from_noon)"
   ]
  },
  {
   "cell_type": "markdown",
   "id": "b1c8968c-8eaf-41d8-89de-7891e5268b30",
   "metadata": {},
   "source": [
    "Calculate solar (local) time"
   ]
  },
  {
   "cell_type": "code",
   "execution_count": 8,
   "id": "d19613fa-b1a3-4052-b3bb-1a872b0575fa",
   "metadata": {},
   "outputs": [],
   "source": [
    "df['t_sol'] = round(df['MinutesFromNoon'] + df['t_corr'])"
   ]
  },
  {
   "cell_type": "code",
   "execution_count": 9,
   "id": "1f728d60-5deb-48a0-9ee9-9465b7788e68",
   "metadata": {},
   "outputs": [],
   "source": [
    "def minutes_to_HourMin(minutes):\n",
    "    # Calculate hours and minutes\n",
    "    hours = int(minutes) // 60 + 12\n",
    "    if hours < 0:\n",
    "        hours += 24\n",
    "    minutes = int(minutes) % 60\n",
    "\n",
    "    # Format the time as HHMM\n",
    "    return '{:02d}{:02d}'.format(hours, minutes)\n",
    "\n",
    "df['local_time'] = df['t_sol'].apply(minutes_to_HourMin)"
   ]
  },
  {
   "cell_type": "markdown",
   "id": "7544fbe4-d0ea-41a6-b434-6fbf2c41dd73",
   "metadata": {},
   "source": [
    "Calculate hour angle"
   ]
  },
  {
   "cell_type": "code",
   "execution_count": 10,
   "id": "eb6dc9c7-af19-433f-93c1-2eecd07e7afb",
   "metadata": {},
   "outputs": [],
   "source": [
    "df['w'] = df['t_sol'] * (360/1440)"
   ]
  },
  {
   "cell_type": "markdown",
   "id": "56d03f2d-1629-4c0b-914e-e58da91fc5af",
   "metadata": {},
   "source": [
    "### 3) Calculate zenith angle\n",
    "\n",
    "Zenith angle is the angle between the verticle to the sun. It is the compliment of the altitude angle, which represents the angle between the sun and the horizon."
   ]
  },
  {
   "cell_type": "code",
   "execution_count": 11,
   "id": "4a39a8c2-a294-4df7-bc5d-3b3805f48473",
   "metadata": {},
   "outputs": [],
   "source": [
    "df['theta_z'] =  np.degrees(np.arccos(cosd(lat) * cosd(df['decl']) * cosd(df['w']) + sind(lat) * sind(df['decl'])))"
   ]
  },
  {
   "cell_type": "code",
   "execution_count": 12,
   "id": "c37e3ead-c5cd-41c2-ae79-ab223215adbf",
   "metadata": {},
   "outputs": [
    {
     "name": "stdout",
     "output_type": "stream",
     "text": [
      "56.80735648231765\n",
      "76.84135648231764\n"
     ]
    }
   ],
   "source": [
    "print(min(df['theta_z']))\n",
    "print(max(df['theta_z']))"
   ]
  },
  {
   "cell_type": "markdown",
   "id": "d235c9d8-f1c0-481c-a8e4-effd2be10e3d",
   "metadata": {},
   "source": [
    "### 4) Determine whether it is night based on the zenith angle\n",
    "\n",
    "We will define 'night' as when the sun is 15 degrees or more below the horizon, or when zenith angle exceeds 105"
   ]
  },
  {
   "cell_type": "code",
   "execution_count": 13,
   "id": "f46131f6-86d2-4063-a9a7-4b7e7ffcd9be",
   "metadata": {},
   "outputs": [],
   "source": [
    "df['isnight'] = (df['theta_z'] > 105)"
   ]
  },
  {
   "cell_type": "code",
   "execution_count": 14,
   "id": "f6df0c5a-8c51-4f7f-80d5-b6b0b8eeb2c6",
   "metadata": {
    "scrolled": true
   },
   "outputs": [
    {
     "data": {
      "text/html": [
       "<div>\n",
       "<style scoped>\n",
       "    .dataframe tbody tr th:only-of-type {\n",
       "        vertical-align: middle;\n",
       "    }\n",
       "\n",
       "    .dataframe tbody tr th {\n",
       "        vertical-align: top;\n",
       "    }\n",
       "\n",
       "    .dataframe thead th {\n",
       "        text-align: right;\n",
       "    }\n",
       "</style>\n",
       "<table border=\"1\" class=\"dataframe\">\n",
       "  <thead>\n",
       "    <tr style=\"text-align: right;\">\n",
       "      <th></th>\n",
       "      <th>DayFrac</th>\n",
       "      <th>Year</th>\n",
       "      <th>JulianDay</th>\n",
       "      <th>HourMin</th>\n",
       "      <th>Pressure[mbar]</th>\n",
       "      <th>10MVTair[degC]</th>\n",
       "      <th>10MRH[%]</th>\n",
       "      <th>6MVTair[degC]</th>\n",
       "      <th>6MRH[%]</th>\n",
       "      <th>2MVTair[degC]</th>\n",
       "      <th>...</th>\n",
       "      <th>B</th>\n",
       "      <th>decl</th>\n",
       "      <th>E</th>\n",
       "      <th>t_corr</th>\n",
       "      <th>MinutesFromNoon</th>\n",
       "      <th>t_sol</th>\n",
       "      <th>local_time</th>\n",
       "      <th>w</th>\n",
       "      <th>theta_z</th>\n",
       "      <th>isnight</th>\n",
       "    </tr>\n",
       "  </thead>\n",
       "  <tbody>\n",
       "    <tr>\n",
       "      <th>0</th>\n",
       "      <td>182.000</td>\n",
       "      <td>2011.0</td>\n",
       "      <td>182.0</td>\n",
       "      <td>0.0</td>\n",
       "      <td>1006.3</td>\n",
       "      <td>18.695</td>\n",
       "      <td>22.882</td>\n",
       "      <td>18.781</td>\n",
       "      <td>23.215</td>\n",
       "      <td>18.933</td>\n",
       "      <td>...</td>\n",
       "      <td>178.520548</td>\n",
       "      <td>23.175644</td>\n",
       "      <td>-3.462145</td>\n",
       "      <td>-347.262145</td>\n",
       "      <td>-720</td>\n",
       "      <td>-1067.0</td>\n",
       "      <td>1813</td>\n",
       "      <td>-266.75</td>\n",
       "      <td>67.760033</td>\n",
       "      <td>False</td>\n",
       "    </tr>\n",
       "    <tr>\n",
       "      <th>1</th>\n",
       "      <td>182.001</td>\n",
       "      <td>2011.0</td>\n",
       "      <td>182.0</td>\n",
       "      <td>1.0</td>\n",
       "      <td>1006.4</td>\n",
       "      <td>18.719</td>\n",
       "      <td>23.086</td>\n",
       "      <td>18.856</td>\n",
       "      <td>23.790</td>\n",
       "      <td>18.990</td>\n",
       "      <td>...</td>\n",
       "      <td>178.520548</td>\n",
       "      <td>23.175644</td>\n",
       "      <td>-3.462145</td>\n",
       "      <td>-347.262145</td>\n",
       "      <td>-719</td>\n",
       "      <td>-1066.0</td>\n",
       "      <td>1814</td>\n",
       "      <td>-266.50</td>\n",
       "      <td>67.803141</td>\n",
       "      <td>False</td>\n",
       "    </tr>\n",
       "    <tr>\n",
       "      <th>2</th>\n",
       "      <td>182.001</td>\n",
       "      <td>2011.0</td>\n",
       "      <td>182.0</td>\n",
       "      <td>2.0</td>\n",
       "      <td>1006.4</td>\n",
       "      <td>18.802</td>\n",
       "      <td>23.171</td>\n",
       "      <td>18.892</td>\n",
       "      <td>23.560</td>\n",
       "      <td>19.018</td>\n",
       "      <td>...</td>\n",
       "      <td>178.520548</td>\n",
       "      <td>23.175644</td>\n",
       "      <td>-3.462145</td>\n",
       "      <td>-347.262145</td>\n",
       "      <td>-718</td>\n",
       "      <td>-1065.0</td>\n",
       "      <td>1815</td>\n",
       "      <td>-266.25</td>\n",
       "      <td>67.846223</td>\n",
       "      <td>False</td>\n",
       "    </tr>\n",
       "    <tr>\n",
       "      <th>3</th>\n",
       "      <td>182.002</td>\n",
       "      <td>2011.0</td>\n",
       "      <td>182.0</td>\n",
       "      <td>3.0</td>\n",
       "      <td>1006.4</td>\n",
       "      <td>18.793</td>\n",
       "      <td>22.865</td>\n",
       "      <td>18.861</td>\n",
       "      <td>23.263</td>\n",
       "      <td>18.985</td>\n",
       "      <td>...</td>\n",
       "      <td>178.520548</td>\n",
       "      <td>23.175644</td>\n",
       "      <td>-3.462145</td>\n",
       "      <td>-347.262145</td>\n",
       "      <td>-717</td>\n",
       "      <td>-1064.0</td>\n",
       "      <td>1816</td>\n",
       "      <td>-266.00</td>\n",
       "      <td>67.889281</td>\n",
       "      <td>False</td>\n",
       "    </tr>\n",
       "    <tr>\n",
       "      <th>4</th>\n",
       "      <td>182.003</td>\n",
       "      <td>2011.0</td>\n",
       "      <td>182.0</td>\n",
       "      <td>4.0</td>\n",
       "      <td>1006.4</td>\n",
       "      <td>18.691</td>\n",
       "      <td>22.890</td>\n",
       "      <td>18.768</td>\n",
       "      <td>23.457</td>\n",
       "      <td>18.933</td>\n",
       "      <td>...</td>\n",
       "      <td>178.520548</td>\n",
       "      <td>23.175644</td>\n",
       "      <td>-3.462145</td>\n",
       "      <td>-347.262145</td>\n",
       "      <td>-716</td>\n",
       "      <td>-1063.0</td>\n",
       "      <td>1817</td>\n",
       "      <td>-265.75</td>\n",
       "      <td>67.932311</td>\n",
       "      <td>False</td>\n",
       "    </tr>\n",
       "  </tbody>\n",
       "</table>\n",
       "<p>5 rows × 33 columns</p>\n",
       "</div>"
      ],
      "text/plain": [
       "   DayFrac    Year  JulianDay  HourMin  Pressure[mbar]  10MVTair[degC]  \\\n",
       "0  182.000  2011.0      182.0      0.0          1006.3          18.695   \n",
       "1  182.001  2011.0      182.0      1.0          1006.4          18.719   \n",
       "2  182.001  2011.0      182.0      2.0          1006.4          18.802   \n",
       "3  182.002  2011.0      182.0      3.0          1006.4          18.793   \n",
       "4  182.003  2011.0      182.0      4.0          1006.4          18.691   \n",
       "\n",
       "   10MRH[%]  6MVTair[degC]  6MRH[%]  2MVTair[degC]  ...           B  \\\n",
       "0    22.882         18.781   23.215         18.933  ...  178.520548   \n",
       "1    23.086         18.856   23.790         18.990  ...  178.520548   \n",
       "2    23.171         18.892   23.560         19.018  ...  178.520548   \n",
       "3    22.865         18.861   23.263         18.985  ...  178.520548   \n",
       "4    22.890         18.768   23.457         18.933  ...  178.520548   \n",
       "\n",
       "        decl         E      t_corr  MinutesFromNoon   t_sol  local_time  \\\n",
       "0  23.175644 -3.462145 -347.262145             -720 -1067.0        1813   \n",
       "1  23.175644 -3.462145 -347.262145             -719 -1066.0        1814   \n",
       "2  23.175644 -3.462145 -347.262145             -718 -1065.0        1815   \n",
       "3  23.175644 -3.462145 -347.262145             -717 -1064.0        1816   \n",
       "4  23.175644 -3.462145 -347.262145             -716 -1063.0        1817   \n",
       "\n",
       "        w    theta_z  isnight  \n",
       "0 -266.75  67.760033    False  \n",
       "1 -266.50  67.803141    False  \n",
       "2 -266.25  67.846223    False  \n",
       "3 -266.00  67.889281    False  \n",
       "4 -265.75  67.932311    False  \n",
       "\n",
       "[5 rows x 33 columns]"
      ]
     },
     "execution_count": 14,
     "metadata": {},
     "output_type": "execute_result"
    }
   ],
   "source": [
    "df.head()"
   ]
  },
  {
   "cell_type": "markdown",
   "id": "6e73bb16-b8c5-4ece-a5ac-297365c0d183",
   "metadata": {},
   "source": [
    "Print the dataset to excel to view entirely"
   ]
  },
  {
   "cell_type": "code",
   "execution_count": 15,
   "id": "1d502be5-b2a2-4d6e-9792-264f4f3612a1",
   "metadata": {},
   "outputs": [],
   "source": [
    "# file_name = 'printed-isnight.xlsx'\n",
    "# df.to_excel(file_name, index=False)"
   ]
  },
  {
   "cell_type": "code",
   "execution_count": 16,
   "id": "10975628-c8eb-41e1-bd48-8fd72930a359",
   "metadata": {},
   "outputs": [
    {
     "data": {
      "text/plain": [
       "[<matplotlib.lines.Line2D at 0x1b493942270>]"
      ]
     },
     "execution_count": 16,
     "metadata": {},
     "output_type": "execute_result"
    },
    {
     "data": {
      "image/png": "[encoded data removed]",
      "text/plain": [
       "<Figure size 640x480 with 1 Axes>"
      ]
     },
     "metadata": {},
     "output_type": "display_data"
    }
   ],
   "source": [
    "plt.plot(df['local_time'], df['theta_z'])"
   ]
  },
  {
   "cell_type": "code",
   "execution_count": null,
   "id": "6cefafc3-a3a0-4e47-a754-287f35ab3938",
   "metadata": {},
   "outputs": [],
   "source": []
  },
  {
   "cell_type": "code",
   "execution_count": null,
   "id": "5d69159b-549f-4eee-b88b-043e7637a9c5",
   "metadata": {},
   "outputs": [],
   "source": []
  }
 ],
 "metadata": {
  "kernelspec": {
   "display_name": "Python 3 (ipykernel)",
   "language": "python",
   "name": "python3"
  },
  "language_info": {
   "codemirror_mode": {
    "name": "ipython",
    "version": 3
   },
   "file_extension": ".py",
   "mimetype": "text/x-python",
   "name": "python",
   "nbconvert_exporter": "python",
   "pygments_lexer": "ipython3",
   "version": "3.12.2"
  }
 },
 "nbformat": 4,
 "nbformat_minor": 5
}
